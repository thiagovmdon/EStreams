{
 "cells": [
  {
   "cell_type": "markdown",
   "id": "b9429523",
   "metadata": {},
   "source": [
    "# Meteorological time-series extraction: Part A\n",
    "\n",
    "Author: Thiago Nascimento (thiago.nascimento@eawag.ch)\n",
    "\n",
    "This notebook is part of the EStreams publication and was used to extract and aggregate the meteorological time-series from the E-OBS dataset. At Part A we compute the Potential Evapotranspiration using the Hargreaves formulation.\n",
    "\n",
    "* Note that this code enables not only the replicability of the current database but also the extrapolation to new catchment areas. \n",
    "* Additionally, the user should download and insert the original raw-data in the folder of the same name prior to run this code. \n",
    "* The original third-party data used were not made available in this repository due to redistribution and storage-space reasons.  \n",
    "\n",
    "## Requirements\n",
    "**Python:**\n",
    "\n",
    "* Python>=3.6\n",
    "* Jupyter\n",
    "* os\n",
    "* pyet=1.2.2\n",
    "* xarray\n",
    "\n",
    "\n",
    "Check the Github repository for an environment.yml (for conda environments) or requirements.txt (pip) file.\n",
    "\n",
    "**Files:**\n",
    "\n",
    "* meteorology/eobs/{rr, tg, tn, tx, pp, hu, fg, qq, elev}_ens_mean_0.25deg_reg_v27.0e.nc   https://www.ecad.eu/download/ensembles/download.php (Last access: 27 November 2023)\n",
    "\n",
    "**Directory:**\n",
    "\n",
    "* Clone the GitHub directory locally\n",
    "* ONLY update the \"PATH\" variable in the section \"Configurations\", with their relative path to the EStreams directory. \n",
    "\n",
    "## References\n",
    "\n",
    "* Cornes, R., G. van der Schrier, E.J.M. van den Besselaar, and P.D. Jones. 2018: An Ensemble Version of the E-OBS Temperature and Precipitation Datasets, J. Geophys. Res. Atmos., 123. doi:10.1029/2017JD028200\n",
    "* Vremec, M. & Collenteur, R. PyEt-a Python package to estimate potential and reference evapotranspiration 1.1.0. in EGU General Assembly Conference Abstracts (2021). https://github.com/pyet-org/pyet\n",
    "\n",
    "## Licenses\n",
    "* EOBS: \"The ECA&D data policy applies. These observational data are strictly for use in non-commercial research and non-commercial education projects only. Scientific results based on these data must be submitted for publication in the open literature without any delay linked to commercial objectives\" https://www.ecad.eu/download/ensembles/download.php#guidance (Last access: 27 November 2023)\n",
    "\n",
    "## Observations\n",
    "#### E-OBS filenames\n",
    "\n",
    "* rr = Total daily precipitation\n",
    "* tg = Mean daily temperature\n",
    "* tn = Minimum daily temperature\n",
    "* tx = Maximum daily temperature\n",
    "* pp = Mean daily air pressure at sea level\n",
    "* hu = Mean daily relative humidity\n",
    "* fg = Mean wind speed at 10-meters\n",
    "* qq = Total daily global radiation\n",
    "* elev = Elevation"
   ]
  },
  {
   "cell_type": "markdown",
   "id": "395ba82c",
   "metadata": {},
   "source": [
    "# Import modules"
   ]
  },
  {
   "cell_type": "code",
   "execution_count": null,
   "id": "39ad4671",
   "metadata": {},
   "outputs": [],
   "source": [
    "import numpy as np\n",
    "import xarray as xr\n",
    "import os\n",
    "import pyet"
   ]
  },
  {
   "cell_type": "markdown",
   "id": "10f5a4e8",
   "metadata": {},
   "source": [
    "# Configurations"
   ]
  },
  {
   "cell_type": "code",
   "execution_count": null,
   "id": "3a4d9e44",
   "metadata": {},
   "outputs": [],
   "source": [
    "# Only editable variables:\n",
    "# Relative path to your local directory\n",
    "PATH = \"../../..\"\n",
    "\n",
    "# Set the area o crop:\n",
    "# Basically it is easier if we crop Iceland for the PET computation. Hence we divide the PET results in two. \n",
    "# not_iceland and only_iceland. \n",
    "CHOSEN_CLIP = \"only_iceland\"  # Area to be processed [\"not_iceland\", \"only_iceland\"]"
   ]
  },
  {
   "cell_type": "markdown",
   "id": "656bdd51",
   "metadata": {},
   "source": [
    "* #### The users should NOT change anything in the code below here."
   ]
  },
  {
   "cell_type": "code",
   "execution_count": null,
   "id": "f300d8bf",
   "metadata": {},
   "outputs": [],
   "source": [
    "# Non-editable variables:\n",
    "PATH_netcdfs = \"data/meteorology/eobs/\"\n",
    "PATH_OUTPUT = \"data/meteorology/eobs/\"\n",
    "\n",
    "# Set the configurations for the clip:\n",
    "if CHOSEN_CLIP == \"not_iceland\":\n",
    "    # For Europe and without Iceland\n",
    "    lat_min = 34.75\n",
    "    lat_max = 70.6\n",
    "    lon_min = -10.5\n",
    "    lon_max = 45.0\n",
    "    FILENAME_PET = \"pet_hargreaves_025deg_v280e.nc\"\n",
    "else:\n",
    "    # For Iceland:\n",
    "    lat_min = 63.0\n",
    "    lat_max = 67.0\n",
    "    lon_min = -24.5\n",
    "    lon_max = -10.5\n",
    "    FILENAME_PET = \"pet_hargreaves_iceland_025deg_v280e.nc\"\n",
    "\n",
    "# Set the directory:\n",
    "os.chdir(PATH)"
   ]
  },
  {
   "cell_type": "markdown",
   "id": "896190fa",
   "metadata": {},
   "source": [
    "# Import data\n",
    "## Netcdf-files"
   ]
  },
  {
   "cell_type": "code",
   "execution_count": null,
   "id": "409ab7a8",
   "metadata": {},
   "outputs": [],
   "source": [
    "# Mean temperature:\n",
    "tmean = xr.open_dataset(PATH_netcdfs+\"tg_ens_mean_0.25deg_reg_v28.0e.nc\", \n",
    "                        engine=\"netcdf4\").sel(longitude=slice(lon_min, lon_max), \n",
    "                                              latitude=slice(lat_min, lat_max))[\"tg\"]\n",
    "# Maximum temperature:                                          \n",
    "tmax = xr.open_dataset(PATH_netcdfs+\"tx_ens_mean_0.25deg_reg_v28.0e.nc\", \n",
    "                       engine=\"netcdf4\").sel(longitude=slice(tmean.longitude.min(), tmean.longitude.max()), \n",
    "                                             latitude=slice(tmean.latitude.min(), tmean.latitude.max()))[\"tx\"]\n",
    "# Minimum temperature:                                            \n",
    "tmin = xr.open_dataset(PATH_netcdfs+\"tn_ens_mean_0.25deg_reg_v28.0e.nc\", \n",
    "                       engine=\"netcdf4\").sel(longitude=slice(tmean.longitude.min(), tmean.longitude.max()), \n",
    "                                             latitude=slice(tmean.latitude.min(), tmean.latitude.max()))[\"tn\"]\n",
    "# Elevation:\n",
    "elevation =  xr.open_dataset(PATH_netcdfs+\"elev_ens_0.25deg_reg_v28.0e.nc\", \n",
    "                     engine=\"netcdf4\").sel(longitude=slice(tmean.longitude.min(), tmean.longitude.max()), \n",
    "                                           latitude=slice(tmean.latitude.min(), tmean.latitude.max()))[\"elevation\"].fillna(0)"
   ]
  },
  {
   "cell_type": "markdown",
   "id": "128e78cf",
   "metadata": {},
   "source": [
    "# Processing"
   ]
  },
  {
   "cell_type": "code",
   "execution_count": null,
   "id": "284610e2",
   "metadata": {},
   "outputs": [],
   "source": [
    "# Create the lat file:\n",
    "lat = tmean.latitude * np.pi / 180\n",
    "lat = lat.expand_dims(dim={\"longitude\":tmean.longitude}, axis=1)\n",
    "\n",
    "# Process with the computation:\n",
    "hargreaves = pyet.hargreaves(tmean, tmax, tmin, lat=lat)"
   ]
  },
  {
   "cell_type": "markdown",
   "id": "d7d0329a",
   "metadata": {},
   "source": [
    "## Data export"
   ]
  },
  {
   "cell_type": "code",
   "execution_count": null,
   "id": "7f1499a2",
   "metadata": {},
   "outputs": [],
   "source": [
    "hargreaves.to_netcdf(PATH_OUTPUT+FILENAME_PET)"
   ]
  },
  {
   "cell_type": "markdown",
   "id": "6f2041f8",
   "metadata": {},
   "source": [
    "# End"
   ]
  }
 ],
 "metadata": {
  "kernelspec": {
   "display_name": "Python 3 (ipykernel)",
   "language": "python",
   "name": "python3"
  },
  "language_info": {
   "codemirror_mode": {
    "name": "ipython",
    "version": 3
   },
   "file_extension": ".py",
   "mimetype": "text/x-python",
   "name": "python",
   "nbconvert_exporter": "python",
   "pygments_lexer": "ipython3",
   "version": "3.9.18"
  }
 },
 "nbformat": 4,
 "nbformat_minor": 5
}
