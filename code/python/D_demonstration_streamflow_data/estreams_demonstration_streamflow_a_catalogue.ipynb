{
 "cells": [
  {
   "cell_type": "markdown",
   "metadata": {},
   "source": [
    "# Streamflow Catalogue Demonstration: Records download\n",
    "\n",
    "\n",
    "Author: Thiago Nascimento (thiago.nascimento@eawag.ch)\n",
    "\n",
    "This notebook is part of the complementary material provided alongside the EStreams publication. It serves to offer additional guidance on how to utilize the catalogue and precisely download streamflow records directly from national providers. While there may not be a web scraping code for each provider, the ones currently provided can serve as a starting point for future users to adapt the code according to their requirements.\n",
    "\n",
    "* Note that this code enables not only the replicability of the current database but also the extrapolation to new catchment areas. \n",
    "* Additionally, the user should download and insert the original raw-data in the folder of the same name prior to run this code. \n",
    "* The original third-party data used were not made available in this repository due to redistribution and storage-space reasons.  \n",
    "\n",
    "## Requirements\n",
    "**Python:**\n",
    "\n",
    "* Python>=3.6\n",
    "* Jupyter\n",
    "* geopandas=0.10.2\n",
    "* pandas\n",
    "* numpy\n",
    "* tqdm\n",
    "* os\n",
    "* osgeo\n",
    "\n",
    "Check the Github repository for an environment.yml (for conda environments) or requirements.txt (pip) file.\n",
    "\n",
    "**Files:**\n",
    "\n",
    "* data/streamflow/estreams_gauging_stations.csv\n",
    "* data/streamflow/estreams_streamflow_catalogue.csv\n",
    "\n",
    "**Directory:**\n",
    "\n",
    "* Clone the GitHub directory locally\n",
    "* Place any third-data variables in their respective directory.\n",
    "* ONLY update the \"PATH\" variable in the section \"Configurations\", with their relative path to the EStreams directory. \n",
    "\n",
    "## References\n",
    "- Please check the Streamflow Catalogue for full information about how to reference the streamflow records. \n",
    "\n",
    "## Observations\n",
    "- This notebook presents some codes for automatize the data retriavel for some countries; and also specifies when an official API is already provided, or when is possible to download all the records at once.\n",
    "\n",
    "## Disclaimer\n",
    "- All scripts presented in this notebook are intended for demonstrative and guidance purposes.\n",
    "- The web scraping demonstrated herein is conducted on websites where its usage is not explicitly prohibited.\n",
    "- We emphasize that we have no affiliation with the respective websites showcased for demonstration, and we disclaim any liability for any consequences arising from the misuse of the provided code.\n",
    "- Users are advised to exercise caution and prudence when utilizing any web-scrapping code.\n",
    "- It is incumbent upon users to adhere to the terms of service of websites from which they scrape data. "
   ]
  },
  {
   "cell_type": "markdown",
   "metadata": {},
   "source": [
    "# Import modules"
   ]
  },
  {
   "cell_type": "code",
   "execution_count": 1,
   "metadata": {},
   "outputs": [],
   "source": [
    "import pandas as pd\n",
    "import requests\n",
    "import os\n",
    "import tqdm as tqdm\n",
    "from utils.FR import download_data_FR\n",
    "from utils.IT import download_data_ITIS, download_metadata_ITIS\n",
    "from utils.IE import download_data_IEEPA\n",
    "from utils.HR import get_metadata_HR, download_data_HR"
   ]
  },
  {
   "cell_type": "markdown",
   "metadata": {},
   "source": [
    "# Configurations"
   ]
  },
  {
   "cell_type": "code",
   "execution_count": 2,
   "metadata": {},
   "outputs": [],
   "source": [
    "# Only editable variables:\n",
    "# Relative path to your local directory\n",
    "PATH = \"../../..\"\n",
    "\n",
    "# Non-editable variables:\n",
    "PATH_OUTPUT = \"results/staticattributes/\"\n",
    "\n",
    "# Set the option to display the full content of each cell\n",
    "pd.set_option('display.max_colwidth', None)\n",
    "\n",
    "# Set the directory:\n",
    "os.chdir(PATH)"
   ]
  },
  {
   "cell_type": "markdown",
   "metadata": {},
   "source": [
    "# Import data\n",
    "## Network information"
   ]
  },
  {
   "cell_type": "code",
   "execution_count": 3,
   "metadata": {},
   "outputs": [
    {
     "data": {
      "text/html": [
       "<div>\n",
       "<style scoped>\n",
       "    .dataframe tbody tr th:only-of-type {\n",
       "        vertical-align: middle;\n",
       "    }\n",
       "\n",
       "    .dataframe tbody tr th {\n",
       "        vertical-align: top;\n",
       "    }\n",
       "\n",
       "    .dataframe thead th {\n",
       "        text-align: right;\n",
       "    }\n",
       "</style>\n",
       "<table border=\"1\" class=\"dataframe\">\n",
       "  <thead>\n",
       "    <tr style=\"text-align: right;\">\n",
       "      <th></th>\n",
       "      <th>gauge_id</th>\n",
       "      <th>gauge_name</th>\n",
       "      <th>gauge_country</th>\n",
       "      <th>gauge_provider</th>\n",
       "      <th>river</th>\n",
       "      <th>lon_snap</th>\n",
       "      <th>lat_snap</th>\n",
       "      <th>lon</th>\n",
       "      <th>lat</th>\n",
       "      <th>elevation</th>\n",
       "      <th>...</th>\n",
       "      <th>num_continuous_days</th>\n",
       "      <th>num_days_gaps</th>\n",
       "      <th>num_days_reliable</th>\n",
       "      <th>num_days_noflag</th>\n",
       "      <th>num_days_suspect</th>\n",
       "      <th>gauge_flag</th>\n",
       "      <th>duplicated_suspect</th>\n",
       "      <th>watershed_group</th>\n",
       "      <th>gauges_upstream</th>\n",
       "      <th>nested_catchments</th>\n",
       "    </tr>\n",
       "    <tr>\n",
       "      <th>basin_id</th>\n",
       "      <th></th>\n",
       "      <th></th>\n",
       "      <th></th>\n",
       "      <th></th>\n",
       "      <th></th>\n",
       "      <th></th>\n",
       "      <th></th>\n",
       "      <th></th>\n",
       "      <th></th>\n",
       "      <th></th>\n",
       "      <th></th>\n",
       "      <th></th>\n",
       "      <th></th>\n",
       "      <th></th>\n",
       "      <th></th>\n",
       "      <th></th>\n",
       "      <th></th>\n",
       "      <th></th>\n",
       "      <th></th>\n",
       "      <th></th>\n",
       "      <th></th>\n",
       "    </tr>\n",
       "  </thead>\n",
       "  <tbody>\n",
       "    <tr>\n",
       "      <th>AT000001</th>\n",
       "      <td>200014</td>\n",
       "      <td>Bangs</td>\n",
       "      <td>AT</td>\n",
       "      <td>AT_EHYD</td>\n",
       "      <td>Rhein</td>\n",
       "      <td>9.534835</td>\n",
       "      <td>47.273748</td>\n",
       "      <td>9.534835</td>\n",
       "      <td>47.273748</td>\n",
       "      <td>420</td>\n",
       "      <td>...</td>\n",
       "      <td>9497</td>\n",
       "      <td>0.0</td>\n",
       "      <td>0.0</td>\n",
       "      <td>9497.0</td>\n",
       "      <td>0.0</td>\n",
       "      <td>B</td>\n",
       "      <td>['CH000197']</td>\n",
       "      <td>1</td>\n",
       "      <td>16</td>\n",
       "      <td>['AT000001', 'CH000010', 'CH000046', 'CH000048', 'CH000062', 'CH000105', 'CH000113', 'CH000125', 'CH000129', 'CH000135', 'CH000139', 'CH000173', 'CH000175', 'CH000192', 'CH000197']</td>\n",
       "    </tr>\n",
       "    <tr>\n",
       "      <th>AT000002</th>\n",
       "      <td>200048</td>\n",
       "      <td>Schruns (Vonbunweg)</td>\n",
       "      <td>AT</td>\n",
       "      <td>AT_EHYD</td>\n",
       "      <td>Litz</td>\n",
       "      <td>9.913677</td>\n",
       "      <td>47.080301</td>\n",
       "      <td>9.913677</td>\n",
       "      <td>47.080301</td>\n",
       "      <td>673</td>\n",
       "      <td>...</td>\n",
       "      <td>23103</td>\n",
       "      <td>0.0</td>\n",
       "      <td>0.0</td>\n",
       "      <td>23103.0</td>\n",
       "      <td>0.0</td>\n",
       "      <td>B</td>\n",
       "      <td>['CH000221']</td>\n",
       "      <td>1</td>\n",
       "      <td>1</td>\n",
       "      <td>['AT000002']</td>\n",
       "    </tr>\n",
       "    <tr>\n",
       "      <th>AT000003</th>\n",
       "      <td>231662</td>\n",
       "      <td>Loruens-Aeule</td>\n",
       "      <td>AT</td>\n",
       "      <td>AT_EHYD</td>\n",
       "      <td>Ill</td>\n",
       "      <td>9.847765</td>\n",
       "      <td>47.132821</td>\n",
       "      <td>9.847765</td>\n",
       "      <td>47.132821</td>\n",
       "      <td>579</td>\n",
       "      <td>...</td>\n",
       "      <td>13513</td>\n",
       "      <td>0.0</td>\n",
       "      <td>0.0</td>\n",
       "      <td>13513.0</td>\n",
       "      <td>0.0</td>\n",
       "      <td>B</td>\n",
       "      <td>['CH000215']</td>\n",
       "      <td>1</td>\n",
       "      <td>2</td>\n",
       "      <td>['AT000002', 'AT000003', 'CH000221']</td>\n",
       "    </tr>\n",
       "    <tr>\n",
       "      <th>AT000004</th>\n",
       "      <td>200592</td>\n",
       "      <td>Kloesterle (OEBB)</td>\n",
       "      <td>AT</td>\n",
       "      <td>AT_EHYD</td>\n",
       "      <td>Alfenz</td>\n",
       "      <td>10.061843</td>\n",
       "      <td>47.128994</td>\n",
       "      <td>10.061843</td>\n",
       "      <td>47.128994</td>\n",
       "      <td>1014</td>\n",
       "      <td>...</td>\n",
       "      <td>8765</td>\n",
       "      <td>0.0</td>\n",
       "      <td>0.0</td>\n",
       "      <td>8765.0</td>\n",
       "      <td>0.0</td>\n",
       "      <td>B</td>\n",
       "      <td>['CH000227']</td>\n",
       "      <td>1</td>\n",
       "      <td>1</td>\n",
       "      <td>['AT000004']</td>\n",
       "    </tr>\n",
       "    <tr>\n",
       "      <th>AT000005</th>\n",
       "      <td>200097</td>\n",
       "      <td>Buers (Bruecke L82)</td>\n",
       "      <td>AT</td>\n",
       "      <td>AT_EHYD</td>\n",
       "      <td>Alvier</td>\n",
       "      <td>9.802668</td>\n",
       "      <td>47.150770</td>\n",
       "      <td>9.802668</td>\n",
       "      <td>47.150770</td>\n",
       "      <td>564</td>\n",
       "      <td>...</td>\n",
       "      <td>10957</td>\n",
       "      <td>0.0</td>\n",
       "      <td>0.0</td>\n",
       "      <td>10957.0</td>\n",
       "      <td>0.0</td>\n",
       "      <td>B</td>\n",
       "      <td>['CH000214']</td>\n",
       "      <td>1</td>\n",
       "      <td>3</td>\n",
       "      <td>['AT000005', 'CH000214']</td>\n",
       "    </tr>\n",
       "  </tbody>\n",
       "</table>\n",
       "<p>5 rows × 29 columns</p>\n",
       "</div>"
      ],
      "text/plain": [
       "         gauge_id           gauge_name gauge_country gauge_provider   river  \\\n",
       "basin_id                                                                      \n",
       "AT000001   200014                Bangs            AT        AT_EHYD   Rhein   \n",
       "AT000002   200048  Schruns (Vonbunweg)            AT        AT_EHYD    Litz   \n",
       "AT000003   231662        Loruens-Aeule            AT        AT_EHYD     Ill   \n",
       "AT000004   200592    Kloesterle (OEBB)            AT        AT_EHYD  Alfenz   \n",
       "AT000005   200097  Buers (Bruecke L82)            AT        AT_EHYD  Alvier   \n",
       "\n",
       "           lon_snap   lat_snap        lon        lat elevation  ...  \\\n",
       "basin_id                                                        ...   \n",
       "AT000001   9.534835  47.273748   9.534835  47.273748       420  ...   \n",
       "AT000002   9.913677  47.080301   9.913677  47.080301       673  ...   \n",
       "AT000003   9.847765  47.132821   9.847765  47.132821       579  ...   \n",
       "AT000004  10.061843  47.128994  10.061843  47.128994      1014  ...   \n",
       "AT000005   9.802668  47.150770   9.802668  47.150770       564  ...   \n",
       "\n",
       "          num_continuous_days  num_days_gaps  num_days_reliable  \\\n",
       "basin_id                                                          \n",
       "AT000001                 9497            0.0                0.0   \n",
       "AT000002                23103            0.0                0.0   \n",
       "AT000003                13513            0.0                0.0   \n",
       "AT000004                 8765            0.0                0.0   \n",
       "AT000005                10957            0.0                0.0   \n",
       "\n",
       "          num_days_noflag num_days_suspect gauge_flag  duplicated_suspect  \\\n",
       "basin_id                                                                    \n",
       "AT000001           9497.0              0.0          B        ['CH000197']   \n",
       "AT000002          23103.0              0.0          B        ['CH000221']   \n",
       "AT000003          13513.0              0.0          B        ['CH000215']   \n",
       "AT000004           8765.0              0.0          B        ['CH000227']   \n",
       "AT000005          10957.0              0.0          B        ['CH000214']   \n",
       "\n",
       "          watershed_group  gauges_upstream  \\\n",
       "basin_id                                     \n",
       "AT000001                1               16   \n",
       "AT000002                1                1   \n",
       "AT000003                1                2   \n",
       "AT000004                1                1   \n",
       "AT000005                1                3   \n",
       "\n",
       "                                                                                                                                                                             nested_catchments  \n",
       "basin_id                                                                                                                                                                                        \n",
       "AT000001  ['AT000001', 'CH000010', 'CH000046', 'CH000048', 'CH000062', 'CH000105', 'CH000113', 'CH000125', 'CH000129', 'CH000135', 'CH000139', 'CH000173', 'CH000175', 'CH000192', 'CH000197']  \n",
       "AT000002                                                                                                                                                                          ['AT000002']  \n",
       "AT000003                                                                                                                                                  ['AT000002', 'AT000003', 'CH000221']  \n",
       "AT000004                                                                                                                                                                          ['AT000004']  \n",
       "AT000005                                                                                                                                                              ['AT000005', 'CH000214']  \n",
       "\n",
       "[5 rows x 29 columns]"
      ]
     },
     "execution_count": 3,
     "metadata": {},
     "output_type": "execute_result"
    }
   ],
   "source": [
    "network_estreams = pd.read_csv('data/streamflow/estreams_gauging_stations.csv', encoding='utf-8')\n",
    "network_estreams.set_index(\"basin_id\", inplace = True)\n",
    "network_estreams.head()"
   ]
  },
  {
   "cell_type": "markdown",
   "metadata": {},
   "source": [
    "## Streamflow catalogue"
   ]
  },
  {
   "cell_type": "code",
   "execution_count": 4,
   "metadata": {},
   "outputs": [
    {
     "data": {
      "text/html": [
       "<div>\n",
       "<style scoped>\n",
       "    .dataframe tbody tr th:only-of-type {\n",
       "        vertical-align: middle;\n",
       "    }\n",
       "\n",
       "    .dataframe tbody tr th {\n",
       "        vertical-align: top;\n",
       "    }\n",
       "\n",
       "    .dataframe thead th {\n",
       "        text-align: right;\n",
       "    }\n",
       "</style>\n",
       "<table border=\"1\" class=\"dataframe\">\n",
       "  <thead>\n",
       "    <tr style=\"text-align: right;\">\n",
       "      <th></th>\n",
       "      <th>code_basins</th>\n",
       "      <th>provider_country</th>\n",
       "      <th>country_code</th>\n",
       "      <th>provider_name</th>\n",
       "      <th>license_redistribution</th>\n",
       "      <th>platform</th>\n",
       "      <th>num_stations</th>\n",
       "      <th>start_date</th>\n",
       "      <th>end_date</th>\n",
       "      <th>website</th>\n",
       "      <th>source_license</th>\n",
       "      <th>source_streamflow</th>\n",
       "      <th>source_gauges_infos</th>\n",
       "      <th>references</th>\n",
       "      <th>observations</th>\n",
       "      <th>download_method</th>\n",
       "    </tr>\n",
       "    <tr>\n",
       "      <th>provider_id</th>\n",
       "      <th></th>\n",
       "      <th></th>\n",
       "      <th></th>\n",
       "      <th></th>\n",
       "      <th></th>\n",
       "      <th></th>\n",
       "      <th></th>\n",
       "      <th></th>\n",
       "      <th></th>\n",
       "      <th></th>\n",
       "      <th></th>\n",
       "      <th></th>\n",
       "      <th></th>\n",
       "      <th></th>\n",
       "      <th></th>\n",
       "      <th></th>\n",
       "    </tr>\n",
       "  </thead>\n",
       "  <tbody>\n",
       "    <tr>\n",
       "      <th>AT_EHYD</th>\n",
       "      <td>AT</td>\n",
       "      <td>AUSTRIA</td>\n",
       "      <td>AT</td>\n",
       "      <td>Hydrographische Archivdaten Österreichs (eHYD)</td>\n",
       "      <td>-</td>\n",
       "      <td>Website</td>\n",
       "      <td>582</td>\n",
       "      <td>1950-12-31</td>\n",
       "      <td>2021-12-31</td>\n",
       "      <td>https://ehyd.gv.at/</td>\n",
       "      <td>https://ehyd.gv.at/</td>\n",
       "      <td>https://ehyd.gv.at/</td>\n",
       "      <td>https://zenodo.org/record/5153305#.ZDUeaOZBwuU</td>\n",
       "      <td>BML. Federal Ministry of Agriculture, Forestry, Regions and Water Management: WebGIS-Applikation eHYD, Wien, Austria, https://ehyd.gv.at (last access: 05 May 2023).</td>\n",
       "      <td>NaN</td>\n",
       "      <td>Downloadable all at once</td>\n",
       "    </tr>\n",
       "    <tr>\n",
       "      <th>BA_FHMZ</th>\n",
       "      <td>BA</td>\n",
       "      <td>BOSNIA AND HERZEGOVINA</td>\n",
       "      <td>BA</td>\n",
       "      <td>Federalni hidrometeorološki zavod (FHMZ)</td>\n",
       "      <td>-</td>\n",
       "      <td>Website</td>\n",
       "      <td>91</td>\n",
       "      <td>1987-01-01</td>\n",
       "      <td>2019-12-31</td>\n",
       "      <td>https://www.fhmzbih.gov.ba/latinica/index.php</td>\n",
       "      <td>-</td>\n",
       "      <td>https://www.fhmzbih.gov.ba/latinica/HIDRO/godisnjaci.php</td>\n",
       "      <td>https://www.fhmzbih.gov.ba/latinica/HIDRO/godisnjaci.php</td>\n",
       "      <td>FHMZBIH. Federalni hidrometeorološki zavod: Početna: idrologija: hidrološki godišnjaci, Bosnia. https://www.fhmzbih.gov.ba/latinica/HIDRO/godisnjaci.php (last access: 29 June 2023).</td>\n",
       "      <td>NaN</td>\n",
       "      <td>Code provided by EStreams</td>\n",
       "    </tr>\n",
       "    <tr>\n",
       "      <th>BE_SPW</th>\n",
       "      <td>BEWA</td>\n",
       "      <td>BELGIUM</td>\n",
       "      <td>BE</td>\n",
       "      <td>Service public de Wallonie (SPW)</td>\n",
       "      <td>No-redistribution</td>\n",
       "      <td>Website</td>\n",
       "      <td>164</td>\n",
       "      <td>1968-01-01</td>\n",
       "      <td>2023-10-16</td>\n",
       "      <td>https://hydrometrie.wallonie.be/home.html</td>\n",
       "      <td>https://hydrometrie.wallonie.be/mentions-legales.html</td>\n",
       "      <td>https://hydrometrie.wallonie.be/home/observations/debit.html?mode=announcement</td>\n",
       "      <td>https://hydrometrie.wallonie.be/home/observations/debit.html?mode=announcement</td>\n",
       "      <td>SPW. Service public de Wallonie: L’hydrométrie en Wallonie: Observations: Debit, Belgium. https://hydrometrie.wallonie.be/home/observations/debit.html?mode=announcement (last access: 07 Dec 2023).</td>\n",
       "      <td>NaN</td>\n",
       "      <td>Downloadable all at once</td>\n",
       "    </tr>\n",
       "    <tr>\n",
       "      <th>BE_WATERINFO</th>\n",
       "      <td>BEVL</td>\n",
       "      <td>BELGIUM</td>\n",
       "      <td>BE</td>\n",
       "      <td>Vlaanderen waterinfo</td>\n",
       "      <td>Reproduction allowed</td>\n",
       "      <td>Website</td>\n",
       "      <td>66</td>\n",
       "      <td>1968-12-31</td>\n",
       "      <td>2023-10-10</td>\n",
       "      <td>https://www.vlaanderen.be</td>\n",
       "      <td>https://www.waterinfo.be/default.aspx?path=NL/Algemene_Info/Disclaimer</td>\n",
       "      <td>https://www.waterinfo.be/kaartencatalogus?KL=en</td>\n",
       "      <td>https://www.waterinfo.be/kaartencatalogus?KL=en</td>\n",
       "      <td>VW. Vlaanderen waterinfo, Belgium. https://www.waterinfo.be/kaartencatalogus?KL=en (last access: 07 Dec 2023).</td>\n",
       "      <td>NaN</td>\n",
       "      <td>Downloadable individually</td>\n",
       "    </tr>\n",
       "    <tr>\n",
       "      <th>BG_GRDC</th>\n",
       "      <td>BGGR</td>\n",
       "      <td>BULGARIA</td>\n",
       "      <td>BG</td>\n",
       "      <td>Global Runoff Data Center (GRDC)</td>\n",
       "      <td>No-redistribution</td>\n",
       "      <td>Website</td>\n",
       "      <td>8</td>\n",
       "      <td>1978-01-01</td>\n",
       "      <td>1999-12-31</td>\n",
       "      <td>https://www.bafg.de/GRDC/EN</td>\n",
       "      <td>https://www.bafg.de/GRDC/EN/01_GRDC/12_plcy/data_policy.html?nn=2862854</td>\n",
       "      <td>https://www.bafg.de/GRDC/EN</td>\n",
       "      <td>https://www.bafg.de/GRDC/EN</td>\n",
       "      <td>GRDC. Global Runoff Data Center: River discharge data. Federal Institute of Hydrology, 56068 Koblenz, Germany. https://www.bafg.de/GRDC (last access: 16 Feb 2024).</td>\n",
       "      <td>NaN</td>\n",
       "      <td>Downloadable all at once</td>\n",
       "    </tr>\n",
       "  </tbody>\n",
       "</table>\n",
       "</div>"
      ],
      "text/plain": [
       "             code_basins        provider_country country_code  \\\n",
       "provider_id                                                     \n",
       "AT_EHYD               AT                 AUSTRIA           AT   \n",
       "BA_FHMZ               BA  BOSNIA AND HERZEGOVINA           BA   \n",
       "BE_SPW              BEWA                 BELGIUM           BE   \n",
       "BE_WATERINFO        BEVL                 BELGIUM           BE   \n",
       "BG_GRDC             BGGR                BULGARIA           BG   \n",
       "\n",
       "                                               provider_name  \\\n",
       "provider_id                                                    \n",
       "AT_EHYD       Hydrographische Archivdaten Österreichs (eHYD)   \n",
       "BA_FHMZ             Federalni hidrometeorološki zavod (FHMZ)   \n",
       "BE_SPW                      Service public de Wallonie (SPW)   \n",
       "BE_WATERINFO                           Vlaanderen waterinfo    \n",
       "BG_GRDC                     Global Runoff Data Center (GRDC)   \n",
       "\n",
       "             license_redistribution platform  num_stations  start_date  \\\n",
       "provider_id                                                              \n",
       "AT_EHYD                           -  Website           582  1950-12-31   \n",
       "BA_FHMZ                           -  Website            91  1987-01-01   \n",
       "BE_SPW            No-redistribution  Website           164  1968-01-01   \n",
       "BE_WATERINFO   Reproduction allowed  Website            66  1968-12-31   \n",
       "BG_GRDC           No-redistribution  Website             8  1978-01-01   \n",
       "\n",
       "                end_date                                        website  \\\n",
       "provider_id                                                               \n",
       "AT_EHYD       2021-12-31                            https://ehyd.gv.at/   \n",
       "BA_FHMZ       2019-12-31  https://www.fhmzbih.gov.ba/latinica/index.php   \n",
       "BE_SPW        2023-10-16      https://hydrometrie.wallonie.be/home.html   \n",
       "BE_WATERINFO  2023-10-10                      https://www.vlaanderen.be   \n",
       "BG_GRDC       1999-12-31                    https://www.bafg.de/GRDC/EN   \n",
       "\n",
       "                                                                       source_license  \\\n",
       "provider_id                                                                             \n",
       "AT_EHYD                                                           https://ehyd.gv.at/   \n",
       "BA_FHMZ                                                                             -   \n",
       "BE_SPW                          https://hydrometrie.wallonie.be/mentions-legales.html   \n",
       "BE_WATERINFO   https://www.waterinfo.be/default.aspx?path=NL/Algemene_Info/Disclaimer   \n",
       "BG_GRDC       https://www.bafg.de/GRDC/EN/01_GRDC/12_plcy/data_policy.html?nn=2862854   \n",
       "\n",
       "                                                                           source_streamflow  \\\n",
       "provider_id                                                                                    \n",
       "AT_EHYD                                                                  https://ehyd.gv.at/   \n",
       "BA_FHMZ                             https://www.fhmzbih.gov.ba/latinica/HIDRO/godisnjaci.php   \n",
       "BE_SPW        https://hydrometrie.wallonie.be/home/observations/debit.html?mode=announcement   \n",
       "BE_WATERINFO                                 https://www.waterinfo.be/kaartencatalogus?KL=en   \n",
       "BG_GRDC                                                          https://www.bafg.de/GRDC/EN   \n",
       "\n",
       "                                                                         source_gauges_infos  \\\n",
       "provider_id                                                                                    \n",
       "AT_EHYD                                       https://zenodo.org/record/5153305#.ZDUeaOZBwuU   \n",
       "BA_FHMZ                             https://www.fhmzbih.gov.ba/latinica/HIDRO/godisnjaci.php   \n",
       "BE_SPW        https://hydrometrie.wallonie.be/home/observations/debit.html?mode=announcement   \n",
       "BE_WATERINFO                                 https://www.waterinfo.be/kaartencatalogus?KL=en   \n",
       "BG_GRDC                                                          https://www.bafg.de/GRDC/EN   \n",
       "\n",
       "                                                                                                                                                                                                        references  \\\n",
       "provider_id                                                                                                                                                                                                          \n",
       "AT_EHYD                                       BML. Federal Ministry of Agriculture, Forestry, Regions and Water Management: WebGIS-Applikation eHYD, Wien, Austria, https://ehyd.gv.at (last access: 05 May 2023).   \n",
       "BA_FHMZ                      FHMZBIH. Federalni hidrometeorološki zavod: Početna: idrologija: hidrološki godišnjaci, Bosnia. https://www.fhmzbih.gov.ba/latinica/HIDRO/godisnjaci.php (last access: 29 June 2023).   \n",
       "BE_SPW        SPW. Service public de Wallonie: L’hydrométrie en Wallonie: Observations: Debit, Belgium. https://hydrometrie.wallonie.be/home/observations/debit.html?mode=announcement (last access: 07 Dec 2023).   \n",
       "BE_WATERINFO                                                                                        VW. Vlaanderen waterinfo, Belgium. https://www.waterinfo.be/kaartencatalogus?KL=en (last access: 07 Dec 2023).   \n",
       "BG_GRDC                                        GRDC. Global Runoff Data Center: River discharge data. Federal Institute of Hydrology, 56068 Koblenz, Germany. https://www.bafg.de/GRDC (last access: 16 Feb 2024).   \n",
       "\n",
       "             observations            download_method  \n",
       "provider_id                                           \n",
       "AT_EHYD               NaN   Downloadable all at once  \n",
       "BA_FHMZ               NaN  Code provided by EStreams  \n",
       "BE_SPW                NaN   Downloadable all at once  \n",
       "BE_WATERINFO          NaN  Downloadable individually  \n",
       "BG_GRDC               NaN   Downloadable all at once  "
      ]
     },
     "execution_count": 4,
     "metadata": {},
     "output_type": "execute_result"
    }
   ],
   "source": [
    "catalogue_estreams = pd.read_csv('data/streamflow/estreams_streamflow_catalogue.csv', encoding='utf-8')\n",
    "catalogue_estreams.set_index(\"provider_id\", inplace = True)\n",
    "catalogue_estreams.head(5)"
   ]
  },
  {
   "cell_type": "markdown",
   "metadata": {},
   "source": [
    "# Overview of the catalogue"
   ]
  },
  {
   "cell_type": "markdown",
   "metadata": {},
   "source": [
    "## Different download methods\n",
    "There are five types of download available when EStreams was built:\n",
    "1. Records downloadable all at once directly from providers (no API or code needed)\n"
   ]
  },
  {
   "cell_type": "code",
   "execution_count": 5,
   "metadata": {},
   "outputs": [
    {
     "data": {
      "text/html": [
       "<div>\n",
       "<style scoped>\n",
       "    .dataframe tbody tr th:only-of-type {\n",
       "        vertical-align: middle;\n",
       "    }\n",
       "\n",
       "    .dataframe tbody tr th {\n",
       "        vertical-align: top;\n",
       "    }\n",
       "\n",
       "    .dataframe thead th {\n",
       "        text-align: right;\n",
       "    }\n",
       "</style>\n",
       "<table border=\"1\" class=\"dataframe\">\n",
       "  <thead>\n",
       "    <tr style=\"text-align: right;\">\n",
       "      <th></th>\n",
       "      <th>provider_country</th>\n",
       "      <th>num_stations</th>\n",
       "    </tr>\n",
       "    <tr>\n",
       "      <th>provider_id</th>\n",
       "      <th></th>\n",
       "      <th></th>\n",
       "    </tr>\n",
       "  </thead>\n",
       "  <tbody>\n",
       "    <tr>\n",
       "      <th>AT_EHYD</th>\n",
       "      <td>AUSTRIA</td>\n",
       "      <td>582</td>\n",
       "    </tr>\n",
       "    <tr>\n",
       "      <th>BE_SPW</th>\n",
       "      <td>BELGIUM</td>\n",
       "      <td>164</td>\n",
       "    </tr>\n",
       "    <tr>\n",
       "      <th>BG_GRDC</th>\n",
       "      <td>BULGARIA</td>\n",
       "      <td>8</td>\n",
       "    </tr>\n",
       "    <tr>\n",
       "      <th>BY_GRDC</th>\n",
       "      <td>BELARUS</td>\n",
       "      <td>51</td>\n",
       "    </tr>\n",
       "    <tr>\n",
       "      <th>CH_CAMELS</th>\n",
       "      <td>SWITZERLAND</td>\n",
       "      <td>298</td>\n",
       "    </tr>\n",
       "    <tr>\n",
       "      <th>CY_GRDC</th>\n",
       "      <td>CYPRUS</td>\n",
       "      <td>14</td>\n",
       "    </tr>\n",
       "    <tr>\n",
       "      <th>CZ_GRDC</th>\n",
       "      <td>CZECHIA</td>\n",
       "      <td>29</td>\n",
       "    </tr>\n",
       "    <tr>\n",
       "      <th>DE_NW</th>\n",
       "      <td>GERMANY</td>\n",
       "      <td>270</td>\n",
       "    </tr>\n",
       "    <tr>\n",
       "      <th>DK_ODA</th>\n",
       "      <td>DENMARK</td>\n",
       "      <td>1000</td>\n",
       "    </tr>\n",
       "    <tr>\n",
       "      <th>EE_GRDC</th>\n",
       "      <td>ESTONIA</td>\n",
       "      <td>67</td>\n",
       "    </tr>\n",
       "    <tr>\n",
       "      <th>ES_CEDEX</th>\n",
       "      <td>SPAIN</td>\n",
       "      <td>1440</td>\n",
       "    </tr>\n",
       "    <tr>\n",
       "      <th>GR_GRDC</th>\n",
       "      <td>GREECE</td>\n",
       "      <td>2</td>\n",
       "    </tr>\n",
       "    <tr>\n",
       "      <th>HU_GRDC</th>\n",
       "      <td>HUNGARY</td>\n",
       "      <td>51</td>\n",
       "    </tr>\n",
       "    <tr>\n",
       "      <th>IS_LAMAHICE</th>\n",
       "      <td>ICELAND</td>\n",
       "      <td>111</td>\n",
       "    </tr>\n",
       "    <tr>\n",
       "      <th>IT_GRDC</th>\n",
       "      <td>ITALY</td>\n",
       "      <td>25</td>\n",
       "    </tr>\n",
       "    <tr>\n",
       "      <th>LT_GRDC</th>\n",
       "      <td>LITHUANIA</td>\n",
       "      <td>76</td>\n",
       "    </tr>\n",
       "    <tr>\n",
       "      <th>LV_GRDC</th>\n",
       "      <td>LATVIA</td>\n",
       "      <td>61</td>\n",
       "    </tr>\n",
       "    <tr>\n",
       "      <th>MD_GRDC</th>\n",
       "      <td>MOLDOVA</td>\n",
       "      <td>2</td>\n",
       "    </tr>\n",
       "    <tr>\n",
       "      <th>MK_GRDC</th>\n",
       "      <td>NORTH MACEDONIA</td>\n",
       "      <td>1</td>\n",
       "    </tr>\n",
       "    <tr>\n",
       "      <th>RO_GRDC</th>\n",
       "      <td>ROMANIA</td>\n",
       "      <td>18</td>\n",
       "    </tr>\n",
       "    <tr>\n",
       "      <th>RS_GDRC</th>\n",
       "      <td>SERBIA</td>\n",
       "      <td>18</td>\n",
       "    </tr>\n",
       "    <tr>\n",
       "      <th>RU_GRDC</th>\n",
       "      <td>RUSSIA</td>\n",
       "      <td>98</td>\n",
       "    </tr>\n",
       "    <tr>\n",
       "      <th>SK_GRDC</th>\n",
       "      <td>SLOVAKIA</td>\n",
       "      <td>21</td>\n",
       "    </tr>\n",
       "    <tr>\n",
       "      <th>TR_GRDC</th>\n",
       "      <td>TURKEY</td>\n",
       "      <td>28</td>\n",
       "    </tr>\n",
       "    <tr>\n",
       "      <th>UA_GRDC</th>\n",
       "      <td>UKRAINE</td>\n",
       "      <td>21</td>\n",
       "    </tr>\n",
       "  </tbody>\n",
       "</table>\n",
       "</div>"
      ],
      "text/plain": [
       "            provider_country  num_stations\n",
       "provider_id                               \n",
       "AT_EHYD              AUSTRIA           582\n",
       "BE_SPW               BELGIUM           164\n",
       "BG_GRDC             BULGARIA             8\n",
       "BY_GRDC              BELARUS            51\n",
       "CH_CAMELS        SWITZERLAND           298\n",
       "CY_GRDC               CYPRUS            14\n",
       "CZ_GRDC              CZECHIA            29\n",
       "DE_NW                GERMANY           270\n",
       "DK_ODA               DENMARK          1000\n",
       "EE_GRDC              ESTONIA            67\n",
       "ES_CEDEX               SPAIN          1440\n",
       "GR_GRDC               GREECE             2\n",
       "HU_GRDC              HUNGARY            51\n",
       "IS_LAMAHICE          ICELAND           111\n",
       "IT_GRDC                ITALY            25\n",
       "LT_GRDC            LITHUANIA            76\n",
       "LV_GRDC               LATVIA            61\n",
       "MD_GRDC              MOLDOVA             2\n",
       "MK_GRDC      NORTH MACEDONIA             1\n",
       "RO_GRDC              ROMANIA            18\n",
       "RS_GDRC               SERBIA            18\n",
       "RU_GRDC               RUSSIA            98\n",
       "SK_GRDC             SLOVAKIA            21\n",
       "TR_GRDC               TURKEY            28\n",
       "UA_GRDC              UKRAINE            21"
      ]
     },
     "execution_count": 5,
     "metadata": {},
     "output_type": "execute_result"
    }
   ],
   "source": [
    "catalogue_estreams[catalogue_estreams.download_method == 'Downloadable all at once'][[\"provider_country\", \"num_stations\"]]"
   ]
  },
  {
   "cell_type": "code",
   "execution_count": 11,
   "metadata": {},
   "outputs": [
    {
     "name": "stdout",
     "output_type": "stream",
     "text": [
      "The total number of catchments is: [4456]\n"
     ]
    }
   ],
   "source": [
    "print(\"The total number of catchments is:\", catalogue_estreams[catalogue_estreams.download_method == 'Downloadable all at once'][[\"num_stations\"]].sum().values)"
   ]
  },
  {
   "cell_type": "markdown",
   "metadata": {},
   "source": [
    "2. Code provided by EStreams"
   ]
  },
  {
   "cell_type": "code",
   "execution_count": 12,
   "metadata": {},
   "outputs": [
    {
     "data": {
      "text/html": [
       "<div>\n",
       "<style scoped>\n",
       "    .dataframe tbody tr th:only-of-type {\n",
       "        vertical-align: middle;\n",
       "    }\n",
       "\n",
       "    .dataframe tbody tr th {\n",
       "        vertical-align: top;\n",
       "    }\n",
       "\n",
       "    .dataframe thead th {\n",
       "        text-align: right;\n",
       "    }\n",
       "</style>\n",
       "<table border=\"1\" class=\"dataframe\">\n",
       "  <thead>\n",
       "    <tr style=\"text-align: right;\">\n",
       "      <th></th>\n",
       "      <th>provider_country</th>\n",
       "      <th>num_stations</th>\n",
       "    </tr>\n",
       "    <tr>\n",
       "      <th>provider_id</th>\n",
       "      <th></th>\n",
       "      <th></th>\n",
       "    </tr>\n",
       "  </thead>\n",
       "  <tbody>\n",
       "    <tr>\n",
       "      <th>BA_FHMZ</th>\n",
       "      <td>BOSNIA AND HERZEGOVINA</td>\n",
       "      <td>91</td>\n",
       "    </tr>\n",
       "    <tr>\n",
       "      <th>FR_EAUFRANCE</th>\n",
       "      <td>FRANCE</td>\n",
       "      <td>4968</td>\n",
       "    </tr>\n",
       "    <tr>\n",
       "      <th>HR_DHZ</th>\n",
       "      <td>CROATIA</td>\n",
       "      <td>317</td>\n",
       "    </tr>\n",
       "    <tr>\n",
       "      <th>IE_EPA</th>\n",
       "      <td>IRELAND</td>\n",
       "      <td>184</td>\n",
       "    </tr>\n",
       "    <tr>\n",
       "      <th>IT_ISPRA</th>\n",
       "      <td>ITALY</td>\n",
       "      <td>294</td>\n",
       "    </tr>\n",
       "    <tr>\n",
       "      <th>IT_TOS</th>\n",
       "      <td>ITALY</td>\n",
       "      <td>78</td>\n",
       "    </tr>\n",
       "    <tr>\n",
       "      <th>PL_IMGW</th>\n",
       "      <td>POLAND</td>\n",
       "      <td>1287</td>\n",
       "    </tr>\n",
       "  </tbody>\n",
       "</table>\n",
       "</div>"
      ],
      "text/plain": [
       "                    provider_country  num_stations\n",
       "provider_id                                       \n",
       "BA_FHMZ       BOSNIA AND HERZEGOVINA            91\n",
       "FR_EAUFRANCE                  FRANCE          4968\n",
       "HR_DHZ                       CROATIA           317\n",
       "IE_EPA                       IRELAND           184\n",
       "IT_ISPRA                       ITALY           294\n",
       "IT_TOS                         ITALY            78\n",
       "PL_IMGW                       POLAND          1287"
      ]
     },
     "execution_count": 12,
     "metadata": {},
     "output_type": "execute_result"
    }
   ],
   "source": [
    "catalogue_estreams[catalogue_estreams.download_method == 'Code provided by EStreams'][[\"provider_country\",  \"num_stations\"]]"
   ]
  },
  {
   "cell_type": "code",
   "execution_count": 13,
   "metadata": {},
   "outputs": [
    {
     "name": "stdout",
     "output_type": "stream",
     "text": [
      "The total number of catchments is: [7219]\n"
     ]
    }
   ],
   "source": [
    "print(\"The total number of catchments is:\", catalogue_estreams[catalogue_estreams.download_method == 'Code provided by EStreams'][[\"num_stations\"]].sum().values)"
   ]
  },
  {
   "cell_type": "markdown",
   "metadata": {},
   "source": [
    "3. Records need to be downloaded manually and individually per gauge"
   ]
  },
  {
   "cell_type": "code",
   "execution_count": 14,
   "metadata": {},
   "outputs": [
    {
     "data": {
      "text/html": [
       "<div>\n",
       "<style scoped>\n",
       "    .dataframe tbody tr th:only-of-type {\n",
       "        vertical-align: middle;\n",
       "    }\n",
       "\n",
       "    .dataframe tbody tr th {\n",
       "        vertical-align: top;\n",
       "    }\n",
       "\n",
       "    .dataframe thead th {\n",
       "        text-align: right;\n",
       "    }\n",
       "</style>\n",
       "<table border=\"1\" class=\"dataframe\">\n",
       "  <thead>\n",
       "    <tr style=\"text-align: right;\">\n",
       "      <th></th>\n",
       "      <th>provider_country</th>\n",
       "      <th>num_stations</th>\n",
       "    </tr>\n",
       "    <tr>\n",
       "      <th>provider_id</th>\n",
       "      <th></th>\n",
       "      <th></th>\n",
       "    </tr>\n",
       "  </thead>\n",
       "  <tbody>\n",
       "    <tr>\n",
       "      <th>BE_WATERINFO</th>\n",
       "      <td>BELGIUM</td>\n",
       "      <td>66</td>\n",
       "    </tr>\n",
       "    <tr>\n",
       "      <th>CZ_CHMU</th>\n",
       "      <td>CZECHIA</td>\n",
       "      <td>537</td>\n",
       "    </tr>\n",
       "    <tr>\n",
       "      <th>DE_BB</th>\n",
       "      <td>GERMANY</td>\n",
       "      <td>147</td>\n",
       "    </tr>\n",
       "    <tr>\n",
       "      <th>DE_BE</th>\n",
       "      <td>GERMANY</td>\n",
       "      <td>13</td>\n",
       "    </tr>\n",
       "    <tr>\n",
       "      <th>DE_BW</th>\n",
       "      <td>GERMANY</td>\n",
       "      <td>227</td>\n",
       "    </tr>\n",
       "    <tr>\n",
       "      <th>DE_BY</th>\n",
       "      <td>GERMANY</td>\n",
       "      <td>499</td>\n",
       "    </tr>\n",
       "    <tr>\n",
       "      <th>DE_HE</th>\n",
       "      <td>GERMANY</td>\n",
       "      <td>120</td>\n",
       "    </tr>\n",
       "    <tr>\n",
       "      <th>DE_NI</th>\n",
       "      <td>GERMANY</td>\n",
       "      <td>123</td>\n",
       "    </tr>\n",
       "    <tr>\n",
       "      <th>DE_SH</th>\n",
       "      <td>GERMANY</td>\n",
       "      <td>234</td>\n",
       "    </tr>\n",
       "    <tr>\n",
       "      <th>DE_SN</th>\n",
       "      <td>GERMANY</td>\n",
       "      <td>169</td>\n",
       "    </tr>\n",
       "    <tr>\n",
       "      <th>DE_ST</th>\n",
       "      <td>GERMANY</td>\n",
       "      <td>125</td>\n",
       "    </tr>\n",
       "    <tr>\n",
       "      <th>FI_SYKE</th>\n",
       "      <td>FINLAND</td>\n",
       "      <td>669</td>\n",
       "    </tr>\n",
       "    <tr>\n",
       "      <th>GR_HCMR</th>\n",
       "      <td>GREECE</td>\n",
       "      <td>26</td>\n",
       "    </tr>\n",
       "    <tr>\n",
       "      <th>GR_OPENHI</th>\n",
       "      <td>GREECE</td>\n",
       "      <td>3</td>\n",
       "    </tr>\n",
       "    <tr>\n",
       "      <th>IE_OPW</th>\n",
       "      <td>IRELAND</td>\n",
       "      <td>280</td>\n",
       "    </tr>\n",
       "    <tr>\n",
       "      <th>IT_EMI</th>\n",
       "      <td>ITALY</td>\n",
       "      <td>121</td>\n",
       "    </tr>\n",
       "    <tr>\n",
       "      <th>IT_LOM</th>\n",
       "      <td>ITALY</td>\n",
       "      <td>6</td>\n",
       "    </tr>\n",
       "    <tr>\n",
       "      <th>IT_PIE</th>\n",
       "      <td>ITALY</td>\n",
       "      <td>72</td>\n",
       "    </tr>\n",
       "    <tr>\n",
       "      <th>IT_SAR</th>\n",
       "      <td>ITALY</td>\n",
       "      <td>13</td>\n",
       "    </tr>\n",
       "    <tr>\n",
       "      <th>IT_TRE</th>\n",
       "      <td>ITALY</td>\n",
       "      <td>35</td>\n",
       "    </tr>\n",
       "    <tr>\n",
       "      <th>IT_UMB</th>\n",
       "      <td>ITALY</td>\n",
       "      <td>12</td>\n",
       "    </tr>\n",
       "    <tr>\n",
       "      <th>IT_VAL</th>\n",
       "      <td>ITALY</td>\n",
       "      <td>18</td>\n",
       "    </tr>\n",
       "    <tr>\n",
       "      <th>NL_RWS</th>\n",
       "      <td>NETHERLANDS</td>\n",
       "      <td>17</td>\n",
       "    </tr>\n",
       "    <tr>\n",
       "      <th>PT_SNIRH</th>\n",
       "      <td>PORTUGAL</td>\n",
       "      <td>280</td>\n",
       "    </tr>\n",
       "    <tr>\n",
       "      <th>SE_SMHI</th>\n",
       "      <td>SWEDEN</td>\n",
       "      <td>290</td>\n",
       "    </tr>\n",
       "    <tr>\n",
       "      <th>SI_ARSO</th>\n",
       "      <td>SLOVENIA</td>\n",
       "      <td>117</td>\n",
       "    </tr>\n",
       "  </tbody>\n",
       "</table>\n",
       "</div>"
      ],
      "text/plain": [
       "             provider_country  num_stations\n",
       "provider_id                                \n",
       "BE_WATERINFO          BELGIUM            66\n",
       "CZ_CHMU               CZECHIA           537\n",
       "DE_BB                 GERMANY           147\n",
       "DE_BE                 GERMANY            13\n",
       "DE_BW                 GERMANY           227\n",
       "DE_BY                 GERMANY           499\n",
       "DE_HE                 GERMANY           120\n",
       "DE_NI                 GERMANY           123\n",
       "DE_SH                 GERMANY           234\n",
       "DE_SN                 GERMANY           169\n",
       "DE_ST                 GERMANY           125\n",
       "FI_SYKE               FINLAND           669\n",
       "GR_HCMR                GREECE            26\n",
       "GR_OPENHI              GREECE             3\n",
       "IE_OPW                IRELAND           280\n",
       "IT_EMI                  ITALY           121\n",
       "IT_LOM                  ITALY             6\n",
       "IT_PIE                  ITALY            72\n",
       "IT_SAR                  ITALY            13\n",
       "IT_TRE                  ITALY            35\n",
       "IT_UMB                  ITALY            12\n",
       "IT_VAL                  ITALY            18\n",
       "NL_RWS            NETHERLANDS            17\n",
       "PT_SNIRH             PORTUGAL           280\n",
       "SE_SMHI                SWEDEN           290\n",
       "SI_ARSO              SLOVENIA           117"
      ]
     },
     "execution_count": 14,
     "metadata": {},
     "output_type": "execute_result"
    }
   ],
   "source": [
    "catalogue_estreams[catalogue_estreams.download_method == 'Downloadable individually'][[\"provider_country\",  \"num_stations\"]]"
   ]
  },
  {
   "cell_type": "code",
   "execution_count": 15,
   "metadata": {},
   "outputs": [
    {
     "name": "stdout",
     "output_type": "stream",
     "text": [
      "The total number of catchments is: [4219]\n"
     ]
    }
   ],
   "source": [
    "print(\"The total number of catchments is:\", catalogue_estreams[catalogue_estreams.download_method == 'Downloadable individually'][[\"num_stations\"]].sum().values)"
   ]
  },
  {
   "cell_type": "markdown",
   "metadata": {},
   "source": [
    "4. Request form is needed"
   ]
  },
  {
   "cell_type": "code",
   "execution_count": 53,
   "metadata": {},
   "outputs": [
    {
     "data": {
      "text/html": [
       "<div>\n",
       "<style scoped>\n",
       "    .dataframe tbody tr th:only-of-type {\n",
       "        vertical-align: middle;\n",
       "    }\n",
       "\n",
       "    .dataframe tbody tr th {\n",
       "        vertical-align: top;\n",
       "    }\n",
       "\n",
       "    .dataframe thead th {\n",
       "        text-align: right;\n",
       "    }\n",
       "</style>\n",
       "<table border=\"1\" class=\"dataframe\">\n",
       "  <thead>\n",
       "    <tr style=\"text-align: right;\">\n",
       "      <th></th>\n",
       "      <th>provider_country</th>\n",
       "      <th>num_stations</th>\n",
       "    </tr>\n",
       "    <tr>\n",
       "      <th>provider_id</th>\n",
       "      <th></th>\n",
       "      <th></th>\n",
       "    </tr>\n",
       "  </thead>\n",
       "  <tbody>\n",
       "    <tr>\n",
       "      <th>DE_TH</th>\n",
       "      <td>GERMANY</td>\n",
       "      <td>56</td>\n",
       "    </tr>\n",
       "    <tr>\n",
       "      <th>DE_BU</th>\n",
       "      <td>GERMANY</td>\n",
       "      <td>16</td>\n",
       "    </tr>\n",
       "    <tr>\n",
       "      <th>DE_RP</th>\n",
       "      <td>GERMANY</td>\n",
       "      <td>94</td>\n",
       "    </tr>\n",
       "    <tr>\n",
       "      <th>HU_CONTACTFORM</th>\n",
       "      <td>HUNGARY</td>\n",
       "      <td>47</td>\n",
       "    </tr>\n",
       "    <tr>\n",
       "      <th>IT_ABR_CONTACTFORM</th>\n",
       "      <td>ITALY</td>\n",
       "      <td>8</td>\n",
       "    </tr>\n",
       "    <tr>\n",
       "      <th>IT_LIG_CONTACTFORM</th>\n",
       "      <td>ITALY</td>\n",
       "      <td>24</td>\n",
       "    </tr>\n",
       "    <tr>\n",
       "      <th>IT_LOM_CONTACTFORM</th>\n",
       "      <td>ITALY</td>\n",
       "      <td>26</td>\n",
       "    </tr>\n",
       "    <tr>\n",
       "      <th>IT_VEN</th>\n",
       "      <td>ITALY</td>\n",
       "      <td>35</td>\n",
       "    </tr>\n",
       "    <tr>\n",
       "      <th>LU_CONTACTFORM</th>\n",
       "      <td>LUXEMBURG</td>\n",
       "      <td>19</td>\n",
       "    </tr>\n",
       "  </tbody>\n",
       "</table>\n",
       "</div>"
      ],
      "text/plain": [
       "                   provider_country  num_stations\n",
       "provider_id                                      \n",
       "DE_TH                       GERMANY            56\n",
       "DE_BU                       GERMANY            16\n",
       "DE_RP                       GERMANY            94\n",
       "HU_CONTACTFORM              HUNGARY            47\n",
       "IT_ABR_CONTACTFORM            ITALY             8\n",
       "IT_LIG_CONTACTFORM            ITALY            24\n",
       "IT_LOM_CONTACTFORM            ITALY            26\n",
       "IT_VEN                        ITALY            35\n",
       "LU_CONTACTFORM            LUXEMBURG            19"
      ]
     },
     "execution_count": 53,
     "metadata": {},
     "output_type": "execute_result"
    }
   ],
   "source": [
    "catalogue_estreams[catalogue_estreams.download_method == 'Download via request form'][[\"provider_country\",  \"num_stations\"]]"
   ]
  },
  {
   "cell_type": "code",
   "execution_count": 18,
   "metadata": {},
   "outputs": [
    {
     "name": "stdout",
     "output_type": "stream",
     "text": [
      "The total number of catchments is: [325]\n"
     ]
    }
   ],
   "source": [
    "print(\"The total number of catchments is:\", catalogue_estreams[catalogue_estreams.download_method == 'Download via request form'][[\"num_stations\"]].sum().values)"
   ]
  },
  {
   "cell_type": "markdown",
   "metadata": {},
   "source": [
    "5. API provided by the official provider"
   ]
  },
  {
   "cell_type": "code",
   "execution_count": 17,
   "metadata": {},
   "outputs": [
    {
     "data": {
      "text/html": [
       "<div>\n",
       "<style scoped>\n",
       "    .dataframe tbody tr th:only-of-type {\n",
       "        vertical-align: middle;\n",
       "    }\n",
       "\n",
       "    .dataframe tbody tr th {\n",
       "        vertical-align: top;\n",
       "    }\n",
       "\n",
       "    .dataframe thead th {\n",
       "        text-align: right;\n",
       "    }\n",
       "</style>\n",
       "<table border=\"1\" class=\"dataframe\">\n",
       "  <thead>\n",
       "    <tr style=\"text-align: right;\">\n",
       "      <th></th>\n",
       "      <th>provider_country</th>\n",
       "      <th>num_stations</th>\n",
       "    </tr>\n",
       "    <tr>\n",
       "      <th>provider_id</th>\n",
       "      <th></th>\n",
       "      <th></th>\n",
       "    </tr>\n",
       "  </thead>\n",
       "  <tbody>\n",
       "    <tr>\n",
       "      <th>GB_NRFA</th>\n",
       "      <td>GREAT BRITAIN</td>\n",
       "      <td>671</td>\n",
       "    </tr>\n",
       "    <tr>\n",
       "      <th>NI_NRFA</th>\n",
       "      <td>NORTHERN IRELAND</td>\n",
       "      <td>51</td>\n",
       "    </tr>\n",
       "    <tr>\n",
       "      <th>NO_NVE</th>\n",
       "      <td>NORWAY</td>\n",
       "      <td>189</td>\n",
       "    </tr>\n",
       "  </tbody>\n",
       "</table>\n",
       "</div>"
      ],
      "text/plain": [
       "             provider_country  num_stations\n",
       "provider_id                                \n",
       "GB_NRFA         GREAT BRITAIN           671\n",
       "NI_NRFA      NORTHERN IRELAND            51\n",
       "NO_NVE                 NORWAY           189"
      ]
     },
     "execution_count": 17,
     "metadata": {},
     "output_type": "execute_result"
    }
   ],
   "source": [
    "catalogue_estreams[catalogue_estreams.download_method == 'API by the official provider'][[\"provider_country\",  \"num_stations\"]]"
   ]
  },
  {
   "cell_type": "code",
   "execution_count": 19,
   "metadata": {},
   "outputs": [
    {
     "name": "stdout",
     "output_type": "stream",
     "text": [
      "The total number of catchments is: [911]\n"
     ]
    }
   ],
   "source": [
    "print(\"The total number of catchments is:\", catalogue_estreams[catalogue_estreams.download_method == 'API by the official provider'][[\"num_stations\"]].sum().values)"
   ]
  },
  {
   "cell_type": "markdown",
   "metadata": {},
   "source": [
    "## Overview per country\n",
    "- Here we present a demonstration for each specific country"
   ]
  },
  {
   "cell_type": "markdown",
   "metadata": {},
   "source": [
    "## Austria\n",
    "- For AT, users can access their respective websiste available from the EStreams catalogue, and they may find the option to download all the streamflow records at once. "
   ]
  },
  {
   "cell_type": "code",
   "execution_count": 5,
   "metadata": {},
   "outputs": [
    {
     "name": "stdout",
     "output_type": "stream",
     "text": [
      "provider_id\n",
      "AT_EHYD    https://ehyd.gv.at/\n",
      "Name: source_streamflow, dtype: object\n"
     ]
    }
   ],
   "source": [
    "print(catalogue_estreams[catalogue_estreams.country_code ==\"AT\"].source_streamflow)"
   ]
  },
  {
   "cell_type": "markdown",
   "metadata": {},
   "source": [
    "## Bosnia and H.\n",
    "- For BA, users can access its respective website available from the EStreams catalogue, and download all the streamflow yearbooks in PDF.\n",
    "- In the complementary script so called \"estreams_records_organization\" users are able to follow the step-by-step of data conversion and organization."
   ]
  },
  {
   "cell_type": "code",
   "execution_count": 6,
   "metadata": {},
   "outputs": [
    {
     "name": "stdout",
     "output_type": "stream",
     "text": [
      "provider_id\n",
      "BA_FHMZ    https://www.fhmzbih.gov.ba/latinica/HIDRO/godisnjaci.php\n",
      "Name: source_streamflow, dtype: object\n"
     ]
    }
   ],
   "source": [
    "print(catalogue_estreams[catalogue_estreams.country_code ==\"BO\"].source_streamflow)"
   ]
  },
  {
   "cell_type": "markdown",
   "metadata": {},
   "source": [
    "## Belgium\n",
    "- For BE, users have two data providers. The data can be downloaded directly from the official websites.\n",
    "- For BE_SPW, users can download the records in groups of up to 10 gauges. \n",
    "- For BE_WATERINFO users should download data from each station manually and individually."
   ]
  },
  {
   "cell_type": "code",
   "execution_count": 7,
   "metadata": {},
   "outputs": [
    {
     "name": "stdout",
     "output_type": "stream",
     "text": [
      "provider_id\n",
      "BE_SPW          https://hydrometrie.wallonie.be/home/observations/debit.html?mode=announcement\n",
      "BE_WATERINFO                                   https://www.waterinfo.be/kaartencatalogus?KL=en\n",
      "Name: source_streamflow, dtype: object\n"
     ]
    }
   ],
   "source": [
    "print(catalogue_estreams[catalogue_estreams.country_code ==\"BE\"].source_streamflow)"
   ]
  },
  {
   "cell_type": "markdown",
   "metadata": {},
   "source": [
    "## Switzerland\n",
    "- For CH, users have the option to download the data from CAMELS-CH, which provide all records in a concise and already organized way. "
   ]
  },
  {
   "cell_type": "code",
   "execution_count": 8,
   "metadata": {},
   "outputs": [
    {
     "name": "stdout",
     "output_type": "stream",
     "text": [
      "provider_id\n",
      "CH_CAMELS    https://zenodo.org/doi/10.5281/zenodo.7784632\n",
      "Name: source_streamflow, dtype: object\n"
     ]
    }
   ],
   "source": [
    "print(catalogue_estreams[catalogue_estreams.country_code ==\"CH\"].source_streamflow)"
   ]
  },
  {
   "cell_type": "markdown",
   "metadata": {},
   "source": [
    "## Czechia\n",
    "- For CZ, users can access and download the data (individually and manually) directly from its website and from GRDC."
   ]
  },
  {
   "cell_type": "code",
   "execution_count": 9,
   "metadata": {},
   "outputs": [
    {
     "name": "stdout",
     "output_type": "stream",
     "text": [
      "provider_id\n",
      "CZ_CHMU    https://isvs.chmi.cz/ords/f?p=11002:HOME:5026647009329:::::\n",
      "CZ_GRDC                                    https://www.bafg.de/GRDC/EN\n",
      "Name: source_streamflow, dtype: object\n"
     ]
    }
   ],
   "source": [
    "print(catalogue_estreams[catalogue_estreams.country_code ==\"CZ\"].source_streamflow)"
   ]
  },
  {
   "cell_type": "markdown",
   "metadata": {},
   "source": [
    "## Germany\n",
    "- For DE, users have 13 data providers. can access and download the data (individually and manually) directly from its website.\n",
    "- For 10 of the providers (DE_BB, DE_BE, DE_BW, DE_BY, DE_HE, DE_NI, DE_NW, DE_SH, DE_SN and DE_ST), users can download the data directly from their respective website. \n",
    "- For 3 of the providers (DE_TH, DE_BU and DE_RP), users shoudl request the data via a contact form. "
   ]
  },
  {
   "cell_type": "code",
   "execution_count": 10,
   "metadata": {},
   "outputs": [
    {
     "name": "stdout",
     "output_type": "stream",
     "text": [
      "provider_id\n",
      "DE_BB                                                                                                                                                                                                                                                                                                                              https://apw.brandenburg.de/?th=owm_gkp/\n",
      "DE_BE                                                                                                                                                                                                                                                                                                                             https://wasserportal.berlin.de/start.php\n",
      "DE_BW                                                                                                                                      https://udo.lubw.baden-wuerttemberg.de/public/processingChain?repositoryItemGlobalId=hydrologische_landespegel&conditionValuesSetHash=EAA0E0C&selector=hydrologische_landespegel&sourceOrderAsc=false&offset=0&limit=2147483647\n",
      "DE_BY                                                                                                                                                                                                                                                                                                                 https://www.gkd.bayern.de/en/rivers/discharge/tables\n",
      "DE_HE                                                                                                                                                                                                                                                                https://www.hlnug.de/static/pegel/wiskiweb3/webpublic/#/overview/Wasserstand?mode=table&filter=%7B%7D\n",
      "DE_NI                                                                                                                                                                                                                                               http://www.wasserdaten.niedersachsen.de/cadenza/pages/selector/index.xhtml;jsessionid=1E0F808EF58258C4EE5C777447D1ED4A\n",
      "DE_NW                                                                                                                                                                                                                  https://www.elwasweb.nrw.de/elwas-web/data-objekt;jsessionid=DADDD7196B89E206917D18793294E375;jsessionid=F76CC7CC8ECFBA5F518ECD241AF0BA78?art=Pegel\n",
      "DE_SH                                                                                                                                  https://umweltportal.schleswig-holstein.de/kartendienste?lang=de&topic=thessd&bgLayer=sgx_geodatenzentrum_de_de_basemapde_web_raster_grau_DE_EPSG_25832_ADV&E=567583.34&N=5998716.15&zoom=4&layers=262b5c716ef5358fc1ac1e34afd45915\n",
      "DE_SN    https://www.umwelt.sachsen.de/umwelt/infosysteme/ida/processingChain?conditionValuesSetHash=0A8BBED&selector=ROOT.Thema%20Wasser.Oberirdische%20Gew%C3%A4sser.Pegel.Wasserstand%20und%20Durchfluss.OWMN%3Aowmn_menge_tagesmittelwerte_v2.sel&sourceOrderAsc=false&columns=9dfa2224-c924-4328-9805-1d34cd748026&offset=0&limit=2147483647&executionConfirmed=false\n",
      "DE_ST                                                                                                                                                                                                                                                                                                                                   https://gld.lhw-sachsen-anhalt.de/\n",
      "DE_TH                                                                                                                                                                                                                                                                                                                  https://hnz.thueringen.de/hw-portal/datenladen.html\n",
      "DE_BU                                                                                                                                                                                                                                                                                                                   https://www.pegelonline.wsv.de/gast/karte/standard\n",
      "DE_RP                                                                                                                                                                                                                                                                          https://wasserportal.rlp-umwelt.de/auskunftssysteme/wasserstand-und-abfluss/karte-der-pegel\n",
      "Name: source_streamflow, dtype: object\n"
     ]
    }
   ],
   "source": [
    "print(catalogue_estreams[catalogue_estreams.country_code ==\"DE\"].source_streamflow)"
   ]
  },
  {
   "cell_type": "markdown",
   "metadata": {},
   "source": [
    "- For DE_NW, users may find the full description of how to download the records of all stations at once:"
   ]
  },
  {
   "cell_type": "code",
   "execution_count": 61,
   "metadata": {},
   "outputs": [
    {
     "name": "stdout",
     "output_type": "stream",
     "text": [
      "https://www.elwasweb.nrw.de/elwas-web/data-objekt;jsessionid=DADDD7196B89E206917D18793294E375;jsessionid=F76CC7CC8ECFBA5F518ECD241AF0BA78?art=Pegel\n",
      "To download all stations at once: 1. Check the panel “Oberflachengwasser”, and choose “Pegel” under “Menge”; 2. Then make sure your variable (“Hauptwerte”) is set to average discharge “MQ –Mittlerer Abfluss”. The you can just click “Suchen” search, and all stations will be visible; 3. Then tick the box at the top to select all stations; 4. Now you can download an excel with the metadata of all stations by choosing “Excel Export”. To download the timeseries click “Export Abflussdaten”. None\n"
     ]
    }
   ],
   "source": [
    "print(catalogue_estreams.loc[\"DE_NW\"].observations, print(catalogue_estreams.loc[\"DE_NW\"].source_streamflow))"
   ]
  },
  {
   "cell_type": "markdown",
   "metadata": {},
   "source": [
    "## Denmark\n",
    "- For DK, users can download the records and gauges metadata easily online. \n",
    "- Users have the option to download at once the complete records for all gauges together. "
   ]
  },
  {
   "cell_type": "code",
   "execution_count": 5,
   "metadata": {},
   "outputs": [
    {
     "name": "stdout",
     "output_type": "stream",
     "text": [
      "provider_id\n",
      "DK_ODA    https://odaforalle.au.dk/login.aspx\n",
      "Name: source_streamflow, dtype: object\n"
     ]
    }
   ],
   "source": [
    "print(catalogue_estreams[catalogue_estreams.country_code ==\"DK\"].source_streamflow)"
   ]
  },
  {
   "cell_type": "markdown",
   "metadata": {},
   "source": [
    "- In \"observations\" users may find the full description of how to download the records and the areas information."
   ]
  },
  {
   "cell_type": "code",
   "execution_count": 6,
   "metadata": {},
   "outputs": [
    {
     "name": "stdout",
     "output_type": "stream",
     "text": [
      "provider_id\n",
      "DK_ODA    # For the streamflow records: 1. First you need to leave your e-mail address; 2. Click on “hent data”, which means get data. In the drop-down menu choose “Vandlob”. 3. Choose “Hydrometri” and then “dognvandforing” which means daily discharge. Then “ar” means year, and then you can choose an individual year or click on “valg alle” to choose every year. 4. To choose which station go to the tab of “observationsstednr” meaning observation location number. You can choose individual stations or the “valg alle”. #For catchment areas: 1. First you need to leave your e-mail address; 2. Click on \"hent data\" and choose ”Vandløb”; 3. Click on ”Oplandsbeskrivelse” and choose ”Oplandsareal” and then you can choose the stations in the long list and now you should get a file containing catchments areas. \n",
      "Name: observations, dtype: object\n"
     ]
    }
   ],
   "source": [
    "print(catalogue_estreams[catalogue_estreams.country_code ==\"DK\"].observations)"
   ]
  },
  {
   "cell_type": "markdown",
   "metadata": {},
   "source": [
    "## Spain\n",
    "- For ES, users can download all the records at once from each of its 10 regions directly from its website.\n",
    "- Users can directly download only the AFLIQ.CSV, which stands for daily streamflow file. "
   ]
  },
  {
   "cell_type": "code",
   "execution_count": 11,
   "metadata": {},
   "outputs": [
    {
     "name": "stdout",
     "output_type": "stream",
     "text": [
      "provider_id\n",
      "ES_CEDEX    https://ceh.cedex.es/anuarioaforos/demarcaciones.asp\n",
      "Name: source_streamflow, dtype: object\n"
     ]
    }
   ],
   "source": [
    "print(catalogue_estreams[catalogue_estreams.country_code ==\"ES\"].source_streamflow)"
   ]
  },
  {
   "cell_type": "markdown",
   "metadata": {},
   "source": [
    "## Finland\n",
    "- For FI, users should first register and follow the steps to download the daily data. \n",
    "- As a registration is necessary, it is highly not recomended to try the implementation of any private API.\n",
    "- The step-by-step is relativelly long, but users can find the detailed information in the field \"observations\"."
   ]
  },
  {
   "cell_type": "code",
   "execution_count": 12,
   "metadata": {},
   "outputs": [
    {
     "name": "stdout",
     "output_type": "stream",
     "text": [
      "provider_id\n",
      "FI_SYKE    https://wwwp2.ymparisto.fi/scripts/kirjaudu.asp\n",
      "Name: source_streamflow, dtype: object\n"
     ]
    }
   ],
   "source": [
    "print(catalogue_estreams[catalogue_estreams.country_code ==\"FI\"].source_streamflow)"
   ]
  },
  {
   "cell_type": "markdown",
   "metadata": {},
   "source": [
    "- In \"observations\" users may find the full description of how to download the records and the areas information."
   ]
  },
  {
   "cell_type": "code",
   "execution_count": 66,
   "metadata": {},
   "outputs": [
    {
     "name": "stdout",
     "output_type": "stream",
     "text": [
      "provider_id\n",
      "FI_SYKE    1. First make an account using the link: https://www.syke.fi/fi-FI/Avoin_tieto/Ymparistotietojarjestelmat/Rekisteroityminen; 2. Once logged in: click on the \"Ympäristötiedon hallintajärjestelmä Hertta\" to get to the database; 3. Translate to English by first clicking on \"Asetukset\" and clickon “Kieli” and choose “ Englanti” for English. “Suomi” means finish. Click ok “Hyvasky” and close the pop-up ‘Sulje”. ;  4. Then you click “Hydrology > Hydrological observations > Data search” ; 5. The site has a maximum amount of data you can download in one go. So you need to choose an area and then search up all the stations in that area, download and then move on to the next area. One tip is to choose \"county\" in the tab \"Area\"; 6. Now you should seelct the discharge. Click on \"Observation station\", select \"Parameter\", then \"Virtaama\", then click on \"Accept\"; 7. After selecting the \"Area\" and the \"Observation station\", click on \"Places on list\" on the right side of the screen. You will be redirected to another page; 8. Now select the desired stations (there is a maximum) and click on \"select action\" > \"resultlist\", and then select the desired time-period; 9. Now click on \"to file\", select the desired file format (EXCEL), then click ion \"to file\" again. Now you will be able to download the data; 10. Repeat until you are done with all the desired stations. \n",
      "Name: observations, dtype: object\n"
     ]
    }
   ],
   "source": [
    "print(catalogue_estreams[catalogue_estreams.country_code ==\"FI\"].observations)"
   ]
  },
  {
   "cell_type": "markdown",
   "metadata": {},
   "source": [
    "## France\n",
    "- For FR, the official website does not offer a straight forward way to retrieve many data at once.\n",
    "- Here, we make a web-scrapping code available for users.\n",
    "- This code is for demonstrations purposes, and we are not liable for any misuse of it by users."
   ]
  },
  {
   "cell_type": "code",
   "execution_count": 6,
   "metadata": {},
   "outputs": [
    {
     "name": "stdout",
     "output_type": "stream",
     "text": [
      "provider_id\n",
      "FR_EAUFRANCE    https://www.hydro.eaufrance.fr\n",
      "Name: source_streamflow, dtype: object\n"
     ]
    }
   ],
   "source": [
    "print(catalogue_estreams[catalogue_estreams.country_code ==\"FR\"].source_streamflow)"
   ]
  },
  {
   "cell_type": "code",
   "execution_count": 8,
   "metadata": {},
   "outputs": [
    {
     "data": {
      "text/html": [
       "<div>\n",
       "<style scoped>\n",
       "    .dataframe tbody tr th:only-of-type {\n",
       "        vertical-align: middle;\n",
       "    }\n",
       "\n",
       "    .dataframe tbody tr th {\n",
       "        vertical-align: top;\n",
       "    }\n",
       "\n",
       "    .dataframe thead th {\n",
       "        text-align: right;\n",
       "    }\n",
       "</style>\n",
       "<table border=\"1\" class=\"dataframe\">\n",
       "  <thead>\n",
       "    <tr style=\"text-align: right;\">\n",
       "      <th></th>\n",
       "      <th>gauge_id</th>\n",
       "      <th>gauge_name</th>\n",
       "      <th>gauge_country</th>\n",
       "      <th>gauge_provider</th>\n",
       "      <th>river</th>\n",
       "      <th>lon_snap</th>\n",
       "      <th>lat_snap</th>\n",
       "      <th>lon</th>\n",
       "      <th>lat</th>\n",
       "      <th>elevation</th>\n",
       "      <th>...</th>\n",
       "      <th>num_days_gaps</th>\n",
       "      <th>num_continuous_days</th>\n",
       "      <th>num_days_reliable</th>\n",
       "      <th>num_days_noflag</th>\n",
       "      <th>num_days_suspect</th>\n",
       "      <th>gauge_flag</th>\n",
       "      <th>duplicated_suspect</th>\n",
       "      <th>watershed_group</th>\n",
       "      <th>gauges_upstream</th>\n",
       "      <th>nested_catchments</th>\n",
       "    </tr>\n",
       "    <tr>\n",
       "      <th>basin_id</th>\n",
       "      <th></th>\n",
       "      <th></th>\n",
       "      <th></th>\n",
       "      <th></th>\n",
       "      <th></th>\n",
       "      <th></th>\n",
       "      <th></th>\n",
       "      <th></th>\n",
       "      <th></th>\n",
       "      <th></th>\n",
       "      <th></th>\n",
       "      <th></th>\n",
       "      <th></th>\n",
       "      <th></th>\n",
       "      <th></th>\n",
       "      <th></th>\n",
       "      <th></th>\n",
       "      <th></th>\n",
       "      <th></th>\n",
       "      <th></th>\n",
       "      <th></th>\n",
       "    </tr>\n",
       "  </thead>\n",
       "  <tbody>\n",
       "    <tr>\n",
       "      <th>FR000003</th>\n",
       "      <td>A022065001</td>\n",
       "      <td>A0220650</td>\n",
       "      <td>FR</td>\n",
       "      <td>FR_EAUFRANCE</td>\n",
       "      <td>Le ruisseau le Liesbach à Blotzheim</td>\n",
       "      <td>7.508168</td>\n",
       "      <td>47.587489</td>\n",
       "      <td>7.508168</td>\n",
       "      <td>47.587489</td>\n",
       "      <td>274</td>\n",
       "      <td>...</td>\n",
       "      <td>0.0</td>\n",
       "      <td>856</td>\n",
       "      <td>530.0</td>\n",
       "      <td>0.0</td>\n",
       "      <td>326.0</td>\n",
       "      <td>C</td>\n",
       "      <td>NaN</td>\n",
       "      <td>1</td>\n",
       "      <td>1</td>\n",
       "      <td>['FR000003']</td>\n",
       "    </tr>\n",
       "    <tr>\n",
       "      <th>FR000004</th>\n",
       "      <td>A023010001</td>\n",
       "      <td>A0220570</td>\n",
       "      <td>FR</td>\n",
       "      <td>FR_EAUFRANCE</td>\n",
       "      <td>[Le Liesbach] à Saint-Louis [Langenhaeuser]</td>\n",
       "      <td>7.545294</td>\n",
       "      <td>47.603575</td>\n",
       "      <td>7.545294</td>\n",
       "      <td>47.603575</td>\n",
       "      <td>248</td>\n",
       "      <td>...</td>\n",
       "      <td>327.0</td>\n",
       "      <td>193</td>\n",
       "      <td>169.0</td>\n",
       "      <td>0.0</td>\n",
       "      <td>224.0</td>\n",
       "      <td>E</td>\n",
       "      <td>NaN</td>\n",
       "      <td>1</td>\n",
       "      <td>3</td>\n",
       "      <td>['FR000002', 'FR000005']</td>\n",
       "    </tr>\n",
       "    <tr>\n",
       "      <th>FR000005</th>\n",
       "      <td>A023020001</td>\n",
       "      <td>A0230201</td>\n",
       "      <td>FR</td>\n",
       "      <td>FR_EAUFRANCE</td>\n",
       "      <td>Le ruisseau l'Augraben à Saint-Louis [Michelfelden]</td>\n",
       "      <td>7.556488</td>\n",
       "      <td>47.596980</td>\n",
       "      <td>7.556488</td>\n",
       "      <td>47.596980</td>\n",
       "      <td>247</td>\n",
       "      <td>...</td>\n",
       "      <td>0.0</td>\n",
       "      <td>216</td>\n",
       "      <td>216.0</td>\n",
       "      <td>0.0</td>\n",
       "      <td>0.0</td>\n",
       "      <td>A</td>\n",
       "      <td>NaN</td>\n",
       "      <td>1</td>\n",
       "      <td>2</td>\n",
       "      <td>['FR000002']</td>\n",
       "    </tr>\n",
       "  </tbody>\n",
       "</table>\n",
       "<p>3 rows × 29 columns</p>\n",
       "</div>"
      ],
      "text/plain": [
       "            gauge_id gauge_name gauge_country gauge_provider  \\\n",
       "basin_id                                                       \n",
       "FR000003  A022065001   A0220650            FR   FR_EAUFRANCE   \n",
       "FR000004  A023010001   A0220570            FR   FR_EAUFRANCE   \n",
       "FR000005  A023020001   A0230201            FR   FR_EAUFRANCE   \n",
       "\n",
       "                                                        river  lon_snap  \\\n",
       "basin_id                                                                  \n",
       "FR000003                  Le ruisseau le Liesbach à Blotzheim  7.508168   \n",
       "FR000004          [Le Liesbach] à Saint-Louis [Langenhaeuser]  7.545294   \n",
       "FR000005  Le ruisseau l'Augraben à Saint-Louis [Michelfelden]  7.556488   \n",
       "\n",
       "           lat_snap       lon        lat elevation  ...  num_days_gaps  \\\n",
       "basin_id                                            ...                  \n",
       "FR000003  47.587489  7.508168  47.587489       274  ...            0.0   \n",
       "FR000004  47.603575  7.545294  47.603575       248  ...          327.0   \n",
       "FR000005  47.596980  7.556488  47.596980       247  ...            0.0   \n",
       "\n",
       "          num_continuous_days  num_days_reliable  num_days_noflag  \\\n",
       "basin_id                                                            \n",
       "FR000003                  856              530.0              0.0   \n",
       "FR000004                  193              169.0              0.0   \n",
       "FR000005                  216              216.0              0.0   \n",
       "\n",
       "         num_days_suspect gauge_flag  duplicated_suspect  watershed_group  \\\n",
       "basin_id                                                                    \n",
       "FR000003            326.0          C                 NaN                1   \n",
       "FR000004            224.0          E                 NaN                1   \n",
       "FR000005              0.0          A                 NaN                1   \n",
       "\n",
       "          gauges_upstream         nested_catchments  \n",
       "basin_id                                             \n",
       "FR000003                1              ['FR000003']  \n",
       "FR000004                3  ['FR000002', 'FR000005']  \n",
       "FR000005                2              ['FR000002']  \n",
       "\n",
       "[3 rows x 29 columns]"
      ]
     },
     "execution_count": 8,
     "metadata": {},
     "output_type": "execute_result"
    }
   ],
   "source": [
    "# Subset the network to France:\n",
    "network_FR = network_estreams[network_estreams.gauge_country == \"FR\"]\n",
    "network_FR.iloc[2:5, :]"
   ]
  },
  {
   "cell_type": "code",
   "execution_count": 9,
   "metadata": {},
   "outputs": [
    {
     "name": "stderr",
     "output_type": "stream",
     "text": [
      "100%|████████████████████████████████████████████████████████████████████████████████████| 3/3 [00:45<00:00, 15.32s/it]\n"
     ]
    }
   ],
   "source": [
    "gauge_ids = [\"A021005050\", \"A022020001\", \"A022065001\"]\n",
    "\n",
    "for gauge_id in tqdm.tqdm(gauge_ids):\n",
    "    data = download_data_FR(gauge_id)"
   ]
  },
  {
   "cell_type": "markdown",
   "metadata": {},
   "source": [
    "## Great Britain\n",
    "- For UK, there is already an API provided by the official national provider.\n",
    "- It is stated that users should not make use of their own API, but stick with the British one. \n",
    "- In the given link, users may have a full guidance about how to use the API."
   ]
  },
  {
   "cell_type": "code",
   "execution_count": 30,
   "metadata": {},
   "outputs": [
    {
     "name": "stdout",
     "output_type": "stream",
     "text": [
      "provider_id\n",
      "GB_NRFA    https://nrfaapps.ceh.ac.uk/nrfa/nrfa-api.html\n",
      "Name: source_streamflow, dtype: object\n"
     ]
    }
   ],
   "source": [
    "print(catalogue_estreams[catalogue_estreams.country_code ==\"GB\"].source_streamflow)"
   ]
  },
  {
   "cell_type": "markdown",
   "metadata": {},
   "source": [
    "## Greece\n",
    "- For GR, users have three data providers. The data can be downloaded directly from the official websites.\n",
    "- So far, users should download data from each station manually and individually."
   ]
  },
  {
   "cell_type": "code",
   "execution_count": 31,
   "metadata": {},
   "outputs": [
    {
     "name": "stdout",
     "output_type": "stream",
     "text": [
      "provider_id\n",
      "GR_GRDC                                                                                          https://www.bafg.de/GRDC/EN\n",
      "GR_HCMR      https://hydro-stations.hcmr.gr/%cf%80%ce%b1%cf%81%ce%bf%cf%87%ce%ae-%cf%80%ce%bf%cf%84%ce%b1%ce%bc%cf%8e%ce%bd/\n",
      "GR_OPENHI                                                                                             https://openhi.net/en/\n",
      "Name: source_streamflow, dtype: object\n"
     ]
    }
   ],
   "source": [
    "print(catalogue_estreams[catalogue_estreams.country_code ==\"GR\"].source_streamflow)"
   ]
  },
  {
   "cell_type": "markdown",
   "metadata": {},
   "source": [
    "## Croatia\n",
    "- For Croatia (HR), the website does not offer a straight forward way to retrieve many data at once.\n",
    "- In fact, there is no straight forward also to retrieve the gauges metadata.\n",
    "- Hence, we made a web-scrapping code available for users.\n",
    "- Users should check the number of stations avaialble in the website. As for 01.05.2024 the number was 397.\n",
    "- Users should only run the download_data_HR after have retrieved the metadata since we need the range of years for each station.\n",
    "- This code is for demonstrations purposes, and we are not liable for any misuse of it by users."
   ]
  },
  {
   "cell_type": "code",
   "execution_count": 13,
   "metadata": {},
   "outputs": [
    {
     "name": "stdout",
     "output_type": "stream",
     "text": [
      "provider_id\n",
      "HR_DHZ    https://hidro.dhz.hr/\n",
      "Name: source_streamflow, dtype: object\n"
     ]
    }
   ],
   "source": [
    "print(catalogue_estreams[catalogue_estreams.code_basins ==\"HR\"].source_streamflow)"
   ]
  },
  {
   "cell_type": "code",
   "execution_count": 14,
   "metadata": {},
   "outputs": [
    {
     "name": "stderr",
     "output_type": "stream",
     "text": [
      "100%|██████████████████████████████████████████████████████████████████████████████████| 10/10 [00:16<00:00,  1.66s/it]\n",
      "100%|█████████████████████████████████████████████████████████████████████████████████| 10/10 [00:00<00:00, 763.89it/s]\n"
     ]
    }
   ],
   "source": [
    "metadata_HR = get_metadata_HR(num_stations=10)"
   ]
  },
  {
   "cell_type": "code",
   "execution_count": 15,
   "metadata": {},
   "outputs": [
    {
     "data": {
      "text/html": [
       "<div>\n",
       "<style scoped>\n",
       "    .dataframe tbody tr th:only-of-type {\n",
       "        vertical-align: middle;\n",
       "    }\n",
       "\n",
       "    .dataframe tbody tr th {\n",
       "        vertical-align: top;\n",
       "    }\n",
       "\n",
       "    .dataframe thead th {\n",
       "        text-align: right;\n",
       "    }\n",
       "</style>\n",
       "<table border=\"1\" class=\"dataframe\">\n",
       "  <thead>\n",
       "    <tr style=\"text-align: right;\">\n",
       "      <th></th>\n",
       "      <th>Ime</th>\n",
       "      <th>Šifra</th>\n",
       "      <th>Tip postaje</th>\n",
       "      <th>Vodotok</th>\n",
       "      <th>Sliv</th>\n",
       "      <th>Porječje</th>\n",
       "      <th>Početak rada</th>\n",
       "      <th>Kraj rada</th>\n",
       "      <th>Kota nule vodokaza (m n/m)</th>\n",
       "      <th>Udaljenost od ušća (km)</th>\n",
       "      <th>Udaljenost od izvora (km)</th>\n",
       "      <th>Topografska površina sliva (km2)</th>\n",
       "      <th>years_streamflow</th>\n",
       "      <th>num</th>\n",
       "    </tr>\n",
       "  </thead>\n",
       "  <tbody>\n",
       "    <tr>\n",
       "      <th>4</th>\n",
       "      <td>MOMJAN</td>\n",
       "      <td>6157</td>\n",
       "      <td>Limnigrafska postaja</td>\n",
       "      <td>ARĐILA</td>\n",
       "      <td>JADRANSKI SLIV</td>\n",
       "      <td>Porječja sjevernog Jadrana</td>\n",
       "      <td>05. 09. 2001.</td>\n",
       "      <td>--</td>\n",
       "      <td>184,478</td>\n",
       "      <td>3,100</td>\n",
       "      <td>--</td>\n",
       "      <td>--</td>\n",
       "      <td>2005-2009\\n2012-2021</td>\n",
       "      <td>5</td>\n",
       "    </tr>\n",
       "    <tr>\n",
       "      <th>5</th>\n",
       "      <td>ŠIPAK</td>\n",
       "      <td>7136</td>\n",
       "      <td>Automatska dojava</td>\n",
       "      <td>BAĆINSKA JEZERA</td>\n",
       "      <td>JADRANSKI SLIV</td>\n",
       "      <td>Porječja južnog Jadrana</td>\n",
       "      <td>01. 07. 1894.</td>\n",
       "      <td>--</td>\n",
       "      <td>0,236</td>\n",
       "      <td>--</td>\n",
       "      <td>--</td>\n",
       "      <td>--</td>\n",
       "      <td>1973-2022</td>\n",
       "      <td>6</td>\n",
       "    </tr>\n",
       "    <tr>\n",
       "      <th>6</th>\n",
       "      <td>KOSINJSKI BAKOVAC</td>\n",
       "      <td>8031</td>\n",
       "      <td>Vodokazna postaja</td>\n",
       "      <td>BAKOVAC</td>\n",
       "      <td>JADRANSKI SLIV</td>\n",
       "      <td>Porječja sjevernog Jadrana</td>\n",
       "      <td>21. 07. 1967.</td>\n",
       "      <td>--</td>\n",
       "      <td>494,681</td>\n",
       "      <td>6,300</td>\n",
       "      <td>5,500</td>\n",
       "      <td>--</td>\n",
       "      <td>1981-2022</td>\n",
       "      <td>7</td>\n",
       "    </tr>\n",
       "    <tr>\n",
       "      <th>7</th>\n",
       "      <td>ŠPORČIĆ KLANAC</td>\n",
       "      <td>8056</td>\n",
       "      <td>Vodokazna postaja</td>\n",
       "      <td>BAKOVAC</td>\n",
       "      <td>JADRANSKI SLIV</td>\n",
       "      <td>Porječja sjevernog Jadrana</td>\n",
       "      <td>01. 09. 1957.</td>\n",
       "      <td>--</td>\n",
       "      <td>488,426</td>\n",
       "      <td>5,100</td>\n",
       "      <td>--</td>\n",
       "      <td>--</td>\n",
       "      <td>1980-2017\\n2019-2020</td>\n",
       "      <td>8</td>\n",
       "    </tr>\n",
       "    <tr>\n",
       "      <th>8</th>\n",
       "      <td>KLJUČ</td>\n",
       "      <td>5143</td>\n",
       "      <td>Limnigrafska postaja</td>\n",
       "      <td>BEDNJA</td>\n",
       "      <td>CRNOMORSKI SLIV</td>\n",
       "      <td>Porječja Drave i Dunava</td>\n",
       "      <td>01. 01. 1986.</td>\n",
       "      <td>--</td>\n",
       "      <td>173,090</td>\n",
       "      <td>--</td>\n",
       "      <td>--</td>\n",
       "      <td>415,670</td>\n",
       "      <td>1987-2023</td>\n",
       "      <td>9</td>\n",
       "    </tr>\n",
       "    <tr>\n",
       "      <th>9</th>\n",
       "      <td>LEPOGLAVA</td>\n",
       "      <td>5140</td>\n",
       "      <td>Automatska dojava</td>\n",
       "      <td>BEDNJA</td>\n",
       "      <td>CRNOMORSKI SLIV</td>\n",
       "      <td>Porječja Drave i Dunava</td>\n",
       "      <td>01. 01. 1986.</td>\n",
       "      <td>--</td>\n",
       "      <td>219,310</td>\n",
       "      <td>--</td>\n",
       "      <td>--</td>\n",
       "      <td>89,800</td>\n",
       "      <td>1987-2023</td>\n",
       "      <td>10</td>\n",
       "    </tr>\n",
       "  </tbody>\n",
       "</table>\n",
       "</div>"
      ],
      "text/plain": [
       "                 Ime Šifra           Tip postaje          Vodotok  \\\n",
       "4             MOMJAN  6157  Limnigrafska postaja           ARĐILA   \n",
       "5              ŠIPAK  7136     Automatska dojava  BAĆINSKA JEZERA   \n",
       "6  KOSINJSKI BAKOVAC  8031     Vodokazna postaja          BAKOVAC   \n",
       "7     ŠPORČIĆ KLANAC  8056     Vodokazna postaja          BAKOVAC   \n",
       "8              KLJUČ  5143  Limnigrafska postaja           BEDNJA   \n",
       "9          LEPOGLAVA  5140     Automatska dojava           BEDNJA   \n",
       "\n",
       "              Sliv                    Porječje   Početak rada Kraj rada  \\\n",
       "4   JADRANSKI SLIV  Porječja sjevernog Jadrana  05. 09. 2001.        --   \n",
       "5   JADRANSKI SLIV     Porječja južnog Jadrana  01. 07. 1894.        --   \n",
       "6   JADRANSKI SLIV  Porječja sjevernog Jadrana  21. 07. 1967.        --   \n",
       "7   JADRANSKI SLIV  Porječja sjevernog Jadrana  01. 09. 1957.        --   \n",
       "8  CRNOMORSKI SLIV     Porječja Drave i Dunava  01. 01. 1986.        --   \n",
       "9  CRNOMORSKI SLIV     Porječja Drave i Dunava  01. 01. 1986.        --   \n",
       "\n",
       "  Kota nule vodokaza (m n/m) Udaljenost od ušća (km)  \\\n",
       "4                    184,478                   3,100   \n",
       "5                      0,236                      --   \n",
       "6                    494,681                   6,300   \n",
       "7                    488,426                   5,100   \n",
       "8                    173,090                      --   \n",
       "9                    219,310                      --   \n",
       "\n",
       "  Udaljenost od izvora (km) Topografska površina sliva (km2)  \\\n",
       "4                        --                               --   \n",
       "5                        --                               --   \n",
       "6                     5,500                               --   \n",
       "7                        --                               --   \n",
       "8                        --                          415,670   \n",
       "9                        --                           89,800   \n",
       "\n",
       "       years_streamflow  num  \n",
       "4  2005-2009\\n2012-2021    5  \n",
       "5             1973-2022    6  \n",
       "6             1981-2022    7  \n",
       "7  1980-2017\\n2019-2020    8  \n",
       "8             1987-2023    9  \n",
       "9             1987-2023   10  "
      ]
     },
     "execution_count": 15,
     "metadata": {},
     "output_type": "execute_result"
    }
   ],
   "source": [
    "# Drop rows with NaN values in the specified column\n",
    "metadata_HR = metadata_HR.dropna(subset=[\"years_streamflow\"])\n",
    "metadata_HR[\"num\"] = metadata_HR.index+1\n",
    "metadata_HR"
   ]
  },
  {
   "cell_type": "code",
   "execution_count": 16,
   "metadata": {},
   "outputs": [
    {
     "name": "stderr",
     "output_type": "stream",
     "text": [
      "6it [12:02, 120.49s/it]\n"
     ]
    }
   ],
   "source": [
    "# Download the data (it may take a good while):\n",
    "download_data_HR(network_HR = metadata_HR, PATH_EXP = \"data/streamflow/raw_data/HR\")"
   ]
  },
  {
   "cell_type": "markdown",
   "metadata": {},
   "source": [
    "## Hungary\n",
    "- For HU, users have two data providers. The data can be downloaded directly from GRDC, and from its national provider, a request must be placed."
   ]
  },
  {
   "cell_type": "code",
   "execution_count": 32,
   "metadata": {},
   "outputs": [
    {
     "name": "stdout",
     "output_type": "stream",
     "text": [
      "provider_id\n",
      "HU_CONTACTFORM    https://ovf.hu/kozerdeku/adatigenyles\n",
      "HU_GRDC                     https://www.bafg.de/GRDC/EN\n",
      "Name: source_streamflow, dtype: object\n"
     ]
    }
   ],
   "source": [
    "print(catalogue_estreams[catalogue_estreams.country_code ==\"HU\"].source_streamflow)"
   ]
  },
  {
   "cell_type": "markdown",
   "metadata": {},
   "source": [
    "## Ireland\n",
    "- For IE, users have two data providers. The data can be downloaded directly from OPW (manually and individually so far).\n",
    "- For EPA, we provide a web-scrapping API to help the data retriavel.\n",
    "- The gauges metadata is easily accessible manually.\n",
    "- This code is for demonstrations purposes, and we are not liable for any misuse of it by users."
   ]
  },
  {
   "cell_type": "code",
   "execution_count": 33,
   "metadata": {},
   "outputs": [
    {
     "name": "stdout",
     "output_type": "stream",
     "text": [
      "provider_id\n",
      "IE_EPA    https://epawebapp.epa.ie/hydronet/#Flow\n",
      "IE_OPW           https://waterlevel.ie/hydro-data\n",
      "Name: source_streamflow, dtype: object\n"
     ]
    }
   ],
   "source": [
    "print(catalogue_estreams[catalogue_estreams.country_code ==\"IE\"].source_streamflow)"
   ]
  },
  {
   "cell_type": "markdown",
   "metadata": {},
   "source": [
    "- Here there is one demonstration of the provided API for Ireland EPA:"
   ]
  },
  {
   "cell_type": "code",
   "execution_count": 11,
   "metadata": {},
   "outputs": [
    {
     "name": "stdout",
     "output_type": "stream",
     "text": [
      "18118\n"
     ]
    }
   ],
   "source": [
    "# Select one gauge from the dataset:\n",
    "gauge_id = network_estreams[network_estreams.gauge_provider == \"IE_EPA\"].iloc[0, 0]\n",
    "print(gauge_id)"
   ]
  },
  {
   "cell_type": "code",
   "execution_count": 10,
   "metadata": {},
   "outputs": [
    {
     "name": "stdout",
     "output_type": "stream",
     "text": [
      "Successfully downloaded data for station 18118\n"
     ]
    }
   ],
   "source": [
    "# Call the function and download the time series data (the downloaded series is stored in the default downloads folder)\n",
    "download_data_IEEPA(gauge_id)"
   ]
  },
  {
   "cell_type": "markdown",
   "metadata": {},
   "source": [
    "## Iceland\n",
    "- For IS, users have the option to download the data from LamaH-Ice, which provide all records in a concise and already organized way. "
   ]
  },
  {
   "cell_type": "code",
   "execution_count": 34,
   "metadata": {},
   "outputs": [
    {
     "name": "stdout",
     "output_type": "stream",
     "text": [
      "provider_id\n",
      "IS_LAMAHICE    http://www.hydroshare.org/resource/86117a5f36cc4b7c90a5d54e18161c91\n",
      "Name: source_streamflow, dtype: object\n"
     ]
    }
   ],
   "source": [
    "print(catalogue_estreams[catalogue_estreams.country_code ==\"IS\"].source_streamflow)"
   ]
  },
  {
   "cell_type": "markdown",
   "metadata": {},
   "source": [
    "## Italy\n",
    "- For Italy, we have 14 data providers. Each presents its own way to facilitate data retriavel. \n",
    "- A request must be placed via request form for: IT_ABR_CONTACTFORM, IT_LIG_CONTACTFORM, IT_LOM_CONTACTFORM and IT_VEN.\n",
    "- A straight forward website which enables the individual download is avaialble for: IT_EMI, IT_GRDC, IT_LOM, IT_PIE, IT_SAR, IT_TOS, IT_TRE, IT_UMB and IT_VAL.\n",
    "- For IT_ISPRA and IT_TOS, we made a web-scrapping code available for users to retrieve both the records and gauges metadata."
   ]
  },
  {
   "cell_type": "code",
   "execution_count": 55,
   "metadata": {},
   "outputs": [
    {
     "name": "stdout",
     "output_type": "stream",
     "text": [
      "provider_id\n",
      "IT_ABR_CONTACTFORM                                                       https://www.regione.abruzzo.it/content/annali-idrologici\n",
      "IT_EMI                                                                                              https://simc.arpae.it/dext3r/\n",
      "IT_GRDC                                                                                               https://www.bafg.de/GRDC/EN\n",
      "IT_ISPRA                                         http://www.hiscentral.isprambiente.gov.it/hiscentral/hydromap.aspx?map=obsclient\n",
      "IT_LIG_CONTACTFORM                                                               https://www.arpal.liguria.it/arpal/contatti.html\n",
      "IT_LOM                                                                     https://idro.arpalombardia.it/manual/dati_storici.html\n",
      "IT_LOM_CONTACTFORM                                                                   https://idro.arpalombardia.it/it/map/sidro/#\n",
      "IT_PIE                https://www.arpa.piemonte.it/rischi_naturali/snippets_arpa_graphs/map_meteoweb/?rete=stazione_meteorologica\n",
      "IT_SAR                                               https://www.sardegnaambiente.it/index.php?xsl=611&s=21&v=9&c=93749&na=1&n=10\n",
      "IT_TOS                                                                                 http://www.sir.toscana.it/consistenza-rete\n",
      "IT_TRE                                                                               https://www.floods.it/public/DatiStorici.php\n",
      "IT_UMB                                                                                           https://annali.regione.umbria.it\n",
      "IT_VAL                                                                      https://presidi2.regione.vda.it/str_dataview_download\n",
      "IT_VEN                                                                                                 https://www.arpa.veneto.it\n",
      "Name: source_streamflow, dtype: object\n"
     ]
    }
   ],
   "source": [
    "print(catalogue_estreams[catalogue_estreams.country_code ==\"IT\"].source_streamflow)"
   ]
  },
  {
   "cell_type": "markdown",
   "metadata": {},
   "source": [
    "- Here there is the demonstration of the provided API for ISPRA.\n",
    "- This code is for demonstrations only, and we are not liable for any misuse of it by users."
   ]
  },
  {
   "cell_type": "code",
   "execution_count": 9,
   "metadata": {},
   "outputs": [
    {
     "name": "stdout",
     "output_type": "stream",
     "text": [
      "hsl-abr:5010\n"
     ]
    }
   ],
   "source": [
    "# Select one gauge from the dataset:\n",
    "gauge_id = network_estreams[network_estreams.gauge_provider == \"IT_ISPRA\"].iloc[0, 0]\n",
    "print(gauge_id)"
   ]
  },
  {
   "cell_type": "code",
   "execution_count": 10,
   "metadata": {},
   "outputs": [],
   "source": [
    "# Download the data records. The users should specify where to store the downloaded data:\n",
    "download_data_ITIS(gauge_id, PATH_EXP = \"data/streamflow/raw_data/IT/ISPRA\")"
   ]
  },
  {
   "cell_type": "code",
   "execution_count": 7,
   "metadata": {},
   "outputs": [],
   "source": [
    "# Download the station metadata:\n",
    "download_metadata_ITIS(gauge_id, PATH_EXP = \"data/streamflow/raw_data/IT/ISPRA\")"
   ]
  },
  {
   "cell_type": "markdown",
   "metadata": {},
   "source": [
    "- Here there is the demonstration of how to automatize the download for Toscana.\n",
    "- This code is for demonstrations purposes, and we are not liable for any misuse of it by users."
   ]
  },
  {
   "cell_type": "code",
   "execution_count": 21,
   "metadata": {},
   "outputs": [
    {
     "name": "stdout",
     "output_type": "stream",
     "text": [
      "Downloaded: data/streamflow/raw_data/IT/TOS/TOS01004379.csv\n"
     ]
    }
   ],
   "source": [
    "# First we can save the list of gauges from Toscana in a list\n",
    "gauges_toscana = network_estreams[network_estreams.gauge_provider == \"IT_TOS\"].gauge_id.tolist()\n",
    "\n",
    "# For the loop we just need to change the last part of the URL (CODE):\n",
    "URL = \"https://www.sir.toscana.it/archivio/download.php?IDST=idro_p&IDS=CODE\"\n",
    "\n",
    "# Create a directory to save the downloaded files (in case it does not already exist)\n",
    "os.makedirs(\"data/streamflow/raw_data/IT/TOS\", exist_ok=True)\n",
    "\n",
    "# Now we make a loop over the list of gauges, downloading them\n",
    "for gauge in gauges_toscana:\n",
    "    \n",
    "    url = URL.replace(\"CODE\", str(gauge))\n",
    "\n",
    "    # Send an HTTP GET request to the URL to fetch the data\n",
    "    response = requests.get(url)\n",
    "\n",
    "    # Check if the request was successful\n",
    "    if response.status_code == 200:\n",
    "        # Create the file name where the downloaded data will be stored\n",
    "        file_name = f\"data/streamflow/raw_data/IT/TOS/{gauge}.csv\"\n",
    "            \n",
    "        # Save the content to a file\n",
    "        with open(file_name, 'wb') as file:\n",
    "            file.write(response.content)\n",
    "                \n",
    "        # Print a success message with the file name\n",
    "        print(f\"Downloaded: {file_name}\")\n",
    "    else:\n",
    "        # Print a failure message with the URL and status code\n",
    "        print(f\"Failed to download: {url} with status code {response.status_code}\")"
   ]
  },
  {
   "cell_type": "markdown",
   "metadata": {},
   "source": [
    "## Luxembourg (LU)\n",
    "- For LU, users should place an official request for the data."
   ]
  },
  {
   "cell_type": "code",
   "execution_count": 36,
   "metadata": {},
   "outputs": [
    {
     "name": "stdout",
     "output_type": "stream",
     "text": [
      "provider_id\n",
      "LU_CONTACTFORM    https://map.geoportail.lu/theme/eau?version=3&zoom=11&X=711893&Y=6404363&lang=en&rotation=0&layers=655-749&opacities=1-1&bgLayer=topo_bw_jpeg&time=--&crosshair=false\n",
      "Name: source_streamflow, dtype: object\n"
     ]
    }
   ],
   "source": [
    "print(catalogue_estreams[catalogue_estreams.country_code ==\"LU\"].source_streamflow)"
   ]
  },
  {
   "cell_type": "markdown",
   "metadata": {},
   "source": [
    "## Northern Ireland\n",
    "- For UK, there is already an API provided by the official national provider.\n",
    "- It is stated that users should not make use of their own API, but stick with the British one. \n",
    "- In the given link, users may have a full guidance about how to use the API."
   ]
  },
  {
   "cell_type": "code",
   "execution_count": 37,
   "metadata": {},
   "outputs": [
    {
     "name": "stdout",
     "output_type": "stream",
     "text": [
      "provider_id\n",
      "NI_NRFA    https://nrfaapps.ceh.ac.uk/nrfa/nrfa-api.html\n",
      "Name: source_streamflow, dtype: object\n"
     ]
    }
   ],
   "source": [
    "print(catalogue_estreams[catalogue_estreams.country_code ==\"NI\"].source_streamflow)"
   ]
  },
  {
   "cell_type": "markdown",
   "metadata": {},
   "source": [
    "## Netherlands\n",
    "- For NL, records can be downloaded directly from the official website.\n",
    "- So far, users should download data from each station manually and individually."
   ]
  },
  {
   "cell_type": "code",
   "execution_count": 38,
   "metadata": {},
   "outputs": [
    {
     "name": "stdout",
     "output_type": "stream",
     "text": [
      "provider_id\n",
      "NL_RWS    https://waterinfo.rws.nl/#/publiek/waterafvoer\n",
      "Name: source_streamflow, dtype: object\n"
     ]
    }
   ],
   "source": [
    "print(catalogue_estreams[catalogue_estreams.country_code ==\"NL\"].source_streamflow)"
   ]
  },
  {
   "cell_type": "markdown",
   "metadata": {},
   "source": [
    "## Norway\n",
    "- For NO, records can be downloaded directly from the official website or using an official API.\n",
    "- With the website, users should download data from each station manually and individually."
   ]
  },
  {
   "cell_type": "code",
   "execution_count": 6,
   "metadata": {},
   "outputs": [
    {
     "name": "stdout",
     "output_type": "stream",
     "text": [
      "provider_id\n",
      "NO_NVE    https://seriekart.nve.no\n",
      "Name: source_streamflow, dtype: object\n"
     ]
    }
   ],
   "source": [
    "print(catalogue_estreams[catalogue_estreams.country_code ==\"NO\"].source_streamflow)"
   ]
  },
  {
   "cell_type": "markdown",
   "metadata": {},
   "source": [
    "- If users would like to download the data in an automatized way, they should refer to the API:"
   ]
  },
  {
   "cell_type": "code",
   "execution_count": 7,
   "metadata": {},
   "outputs": [
    {
     "name": "stdout",
     "output_type": "stream",
     "text": [
      "provider_id\n",
      "NO_NVE    The user can either use the provided website for download the data individually, or the official API (https://hydapi.nve.no/UserDocumentation/) to download data from many stations at once. \n",
      "Name: observations, dtype: object\n"
     ]
    }
   ],
   "source": [
    "print(catalogue_estreams[catalogue_estreams.country_code ==\"NO\"].observations)"
   ]
  },
  {
   "cell_type": "markdown",
   "metadata": {},
   "source": [
    "## Poland\n",
    "- For PL, records can be downloaded directly from the official website.\n",
    "- So far, users should download daily data from each month and each year individually. \n",
    "- The datasets are download as one single file (CSV) per month and year with all the avaialble gauges concatenated. "
   ]
  },
  {
   "cell_type": "code",
   "execution_count": 23,
   "metadata": {},
   "outputs": [
    {
     "name": "stdout",
     "output_type": "stream",
     "text": [
      "provider_id\n",
      "PL_IMGW    https://danepubliczne.imgw.pl/introduction\n",
      "Name: source_streamflow, dtype: object\n"
     ]
    }
   ],
   "source": [
    "print(catalogue_estreams[catalogue_estreams.country_code ==\"PL\"].source_streamflow)"
   ]
  },
  {
   "cell_type": "markdown",
   "metadata": {},
   "source": [
    "- Users can adapt the following URL to automatize the download process as follows:\n",
    "    - Replace the {YEAR} and {MONTH} with the desired date:\n",
    "    - https://danepubliczne.imgw.pl/data/dane_pomiarowo_obserwacyjne/dane_hydrologiczne/dobowe/{YEAR}/codz_{YEAR}_{MONTH}.zip\n",
    "    - For example, to download data from march 2020 users should adapt the URL as:\n",
    "    - https://danepubliczne.imgw.pl/data/dane_pomiarowo_obserwacyjne/dane_hydrologiczne/dobowe/2020/codz_2020_03.zip"
   ]
  },
  {
   "cell_type": "markdown",
   "metadata": {},
   "source": [
    "- Here there is the demonstration for downloading Polish data.\n",
    "- This code is for demonstrations purposes, and we are not liable for any misuse of it by users."
   ]
  },
  {
   "cell_type": "code",
   "execution_count": 20,
   "metadata": {},
   "outputs": [
    {
     "name": "stdout",
     "output_type": "stream",
     "text": [
      "Downloaded: data/streamflow/raw_data/PL/codz_1951_01.zip\n",
      "Downloaded: data/streamflow/raw_data/PL/codz_1951_02.zip\n",
      "Downloaded: data/streamflow/raw_data/PL/codz_1951_03.zip\n",
      "Downloaded: data/streamflow/raw_data/PL/codz_1951_04.zip\n",
      "Downloaded: data/streamflow/raw_data/PL/codz_1951_05.zip\n",
      "Downloaded: data/streamflow/raw_data/PL/codz_1951_06.zip\n",
      "Downloaded: data/streamflow/raw_data/PL/codz_1951_07.zip\n",
      "Downloaded: data/streamflow/raw_data/PL/codz_1951_08.zip\n",
      "Downloaded: data/streamflow/raw_data/PL/codz_1951_09.zip\n",
      "Downloaded: data/streamflow/raw_data/PL/codz_1951_10.zip\n",
      "Downloaded: data/streamflow/raw_data/PL/codz_1951_11.zip\n",
      "Downloaded: data/streamflow/raw_data/PL/codz_1951_12.zip\n"
     ]
    }
   ],
   "source": [
    "# Define the URL pattern for fetching data\n",
    "URL = \"https://danepubliczne.imgw.pl/data/dane_pomiarowo_obserwacyjne/dane_hydrologiczne/dobowe/YEAR/codz_YEAR_MONTH.zip\"\n",
    "\n",
    "# Create a directory to save the downloaded files (in case it does not already exist)\n",
    "os.makedirs(\"data/streamflow/raw_data/PL\", exist_ok=True)\n",
    "\n",
    "# Define the range of years to download data for\n",
    "start_year = 1951\n",
    "end_year = 2021\n",
    "\n",
    "# Loop through each year in the specified range\n",
    "for YEAR in range(start_year, end_year + 1):\n",
    "    # Loop through each month from January (1) to December (12)\n",
    "    for MONTH in range(1, 13):\n",
    "        # Replace YEAR and MONTH in the URL with the correct values\n",
    "        url = URL.replace(\"YEAR\", str(YEAR)).replace(\"MONTH\", f\"{MONTH:02d}\")\n",
    "        \n",
    "        # Send an HTTP GET request to the URL to fetch the data\n",
    "        response = requests.get(url)\n",
    "        \n",
    "        # Check if the request was successful\n",
    "        if response.status_code == 200:\n",
    "            # Create the file name where the downloaded data will be stored\n",
    "            file_name = f\"data/streamflow/raw_data/PL/codz_{YEAR}_{MONTH:02d}.zip\"\n",
    "            \n",
    "            # Save the content to a file\n",
    "            with open(file_name, 'wb') as file:\n",
    "                file.write(response.content)\n",
    "                \n",
    "            # Print a success message with the file name\n",
    "            print(f\"Downloaded: {file_name}\")\n",
    "        else:\n",
    "            # Print a failure message with the URL and status code\n",
    "            print(f\"Failed to download: {url} with status code {response.status_code}\")"
   ]
  },
  {
   "cell_type": "markdown",
   "metadata": {},
   "source": [
    "## Portugal\n",
    "- For PT, records can be downloaded directly from the official website.\n",
    "- So far, users should download data from each station manually in groups of about 10 stations.\n",
    "- Below users may find some extra information about the procedure (translation to English)."
   ]
  },
  {
   "cell_type": "code",
   "execution_count": 44,
   "metadata": {},
   "outputs": [
    {
     "name": "stdout",
     "output_type": "stream",
     "text": [
      "provider_id\n",
      "PT_SNIRH    One should click: \"Dados de Base\" > \"Monitorizacao\" > \"Redes\" > \"Hidrometrica\" > \"Aplicar filtros\". Then one should select the stations, then click in \"Selecionar Estacoes\" > \"Validar Lista\". Then one should select \"Nivel Medio Diario\" (= Mean daily streamflow). Then click in \"Guardar Dados\" and download the data in CSV-file. Notice that one can currently select up to 50 stations to download at a time. For stations metadata one can simply click in \"Caracteristicas das Estacoes\" in the lower right and download the CSV-file. \n",
      "Name: observations, dtype: object\n"
     ]
    }
   ],
   "source": [
    "print(catalogue_estreams[catalogue_estreams.country_code ==\"PT\"].observations)"
   ]
  },
  {
   "cell_type": "code",
   "execution_count": 42,
   "metadata": {
    "scrolled": true
   },
   "outputs": [
    {
     "name": "stdout",
     "output_type": "stream",
     "text": [
      "provider_id\n",
      "PT_SNIRH    https://snirh.apambiente.pt/index.php?idMain=2&idItem=1\n",
      "Name: source_streamflow, dtype: object\n"
     ]
    }
   ],
   "source": [
    "print(catalogue_estreams[catalogue_estreams.country_code ==\"PT\"].source_streamflow)"
   ]
  },
  {
   "cell_type": "markdown",
   "metadata": {},
   "source": [
    "## Sweden\n",
    "- For SE, records can be downloaded directly from the official website.\n",
    "- So far, users should download data from each station individually and manually."
   ]
  },
  {
   "cell_type": "code",
   "execution_count": 46,
   "metadata": {},
   "outputs": [
    {
     "name": "stdout",
     "output_type": "stream",
     "text": [
      "provider_id\n",
      "SE_SMHI    https://www.smhi.se/data/hydrologi/ladda-ner-hydrologiska-observationer#param=waterdischargeDaily,stations=core\n",
      "Name: source_streamflow, dtype: object\n"
     ]
    }
   ],
   "source": [
    "print(catalogue_estreams[catalogue_estreams.country_code ==\"SE\"].source_streamflow)"
   ]
  },
  {
   "cell_type": "markdown",
   "metadata": {},
   "source": [
    "## Slovenia\n",
    "- For SI, records can be downloaded directly from the official website.\n",
    "- So far, users should download data from each station individually and manually."
   ]
  },
  {
   "cell_type": "code",
   "execution_count": 45,
   "metadata": {},
   "outputs": [
    {
     "name": "stdout",
     "output_type": "stream",
     "text": [
      "provider_id\n",
      "SI_ARSO    https://vode.arso.gov.si/hidarhiv/\n",
      "Name: source_streamflow, dtype: object\n"
     ]
    }
   ],
   "source": [
    "print(catalogue_estreams[catalogue_estreams.country_code ==\"SI\"].source_streamflow)"
   ]
  },
  {
   "cell_type": "markdown",
   "metadata": {},
   "source": [
    "## GRDC\n",
    "- For GRDC, the website offers an way to download the data for many stations at once.\n",
    "- In our database, we include records from the following countries: Bulgaria (BG), Belarus (BY), Cyprus (CY), Czechia (CZ), Estonia (EE), Greece (GR), Italy (IT), Lithuania (LT), Latvia (LV), Moldova (MD), North Macedonia (MK), Romania (RO), Russia (RU), Slovakia (SK), Turkey (TR), Ukraine (UA)"
   ]
  },
  {
   "cell_type": "code",
   "execution_count": 47,
   "metadata": {},
   "outputs": [
    {
     "name": "stdout",
     "output_type": "stream",
     "text": [
      "provider_id\n",
      "BY_GRDC    https://www.bafg.de/GRDC/EN\n",
      "Name: source_streamflow, dtype: object\n"
     ]
    }
   ],
   "source": [
    "print(catalogue_estreams[catalogue_estreams.country_code ==\"BY\"].source_streamflow)"
   ]
  },
  {
   "cell_type": "markdown",
   "metadata": {},
   "source": [
    "# End"
   ]
  }
 ],
 "metadata": {
  "kernelspec": {
   "display_name": "Python 3 (ipykernel)",
   "language": "python",
   "name": "python3"
  },
  "language_info": {
   "codemirror_mode": {
    "name": "ipython",
    "version": 3
   },
   "file_extension": ".py",
   "mimetype": "text/x-python",
   "name": "python",
   "nbconvert_exporter": "python",
   "pygments_lexer": "ipython3",
   "version": "3.9.18"
  }
 },
 "nbformat": 4,
 "nbformat_minor": 4
}
