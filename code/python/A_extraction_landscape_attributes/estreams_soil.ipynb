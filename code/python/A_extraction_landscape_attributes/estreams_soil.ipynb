{
 "cells": [
  {
   "cell_type": "markdown",
   "id": "c0789b47",
   "metadata": {},
   "source": [
    "# Soil attributes extraction\n",
    "Author: Thiago Nascimento (thiago.nascimento@eawag.ch)\n",
    "\n",
    "This notebook is part of the EStreams publication and was used to extract and aggregate the soil types classes from the European Soil Database Derived data (ESDD).\n",
    "\n",
    "* Note that this code enables not only the replicability of the current database but also the extrapolation to new catchment areas. \n",
    "* Additionally, the user should download and insert the original raw-data in the folder of the same name prior to run this code. \n",
    "* The original third-party data used were not made available in this repository due to redistribution and storage-space reasons.  \n",
    "\n",
    "## Requirements\n",
    "**Python:**\n",
    "* Python>=3.6\n",
    "* Jupyter\n",
    "* geopandas=0.10.2\n",
    "* numpy\n",
    "* os\n",
    "* pandas\n",
    "* rasterio\n",
    "* tqdm\n",
    "* warnings\n",
    "\n",
    "Check the Github repository for an environment.yml (for conda environments) or requirements.txt (pip) file.\n",
    "\n",
    "**Files:**\n",
    "* data/soils/{topsoil, subsoil}/{variable}.tif. ESDD rasters downloaded and converted to TIF-files (Topsoil - T and Subsoil - S). When converting already set the crs to 3035. Available at: https://esdac.jrc.ec.europa.eu/content/european-soil-database-derived-data (Last access 23 November 2023) \n",
    "* data/shapefiles/estreams_catchments.shp\n",
    "\n",
    "**Directory:**\n",
    "* Clone the GitHub directory locally\n",
    "* Place any third-data variables in their respective directory.\n",
    "* ONLY update the \"PATH\" variable in the section \"Configurations\", with their relative path to the EStreams directory. \n",
    "\n",
    "## References\n",
    "\n",
    "* Hiederer, R. 2013. Mapping Soil Properties for Europe - Spatial Representation of Soil Database Attributes. Luxembourg: Publications Office of the European Union - 2013 - 47pp. EUR26082EN Scientific and Technical Research series, ISSN 1831-9424, doi:10.2788/94128\n",
    "\n",
    "* Hiederer, R. 2013. Mapping Soil Typologies - Spatial Decision Support Applied to European Soil Database. Luxembourg: Publications Office of the European Union - 2013 - 147pp. EUR25932EN Scientific and Technical Research series, ISSN 1831-9424, doi:10.2788/8728\n",
    "\n",
    "* Panagos, P., Van Liedekerke, M., Borrelli, P., Köninger, J., Ballabio, C., Orgiazzi, A., Lugato, E., Liakos, L., Hervas, J., Jones, A.  Montanarella, L. 2022. European Soil Data Centre 2.0: Soil data and knowledge in support of the EU policies. European Journal of Soil Science, 73(6), e13315. DOI: 10.1111/ejss.13315\n",
    "\n",
    "* Panagos P., Van Liedekerke M., Jones A., Montanarella L., “European Soil Data Centre: Response to European policy support and public data requirements”; (2012) Land Use Policy, 29 (2), pp. 329-338. doi:10.1016/j.landusepol.2011.07.003\n",
    "\n",
    "* European Soil Data Centre (ESDAC), esdac.jrc.ec.europa.eu, European Commission, Joint Research Centre\n",
    "\n",
    "## License\n",
    "\n",
    "* Open source, but no-redistribution of the original (non-modified) data: https://esdac.jrc.ec.europa.eu/content/european-soil-database-derived-data (Last access 23 November 2023)\n",
    "\n",
    "\n",
    "## Observations\n",
    "#### Soil classes \n",
    "\n",
    "1. Depth available to roots:\tSTU_EU_DEPTH_ROOTS\t(cm)\n",
    "2. Clay content:\tSTU_EU_T_CLAY,\tSTU_EU_S_CLAY\t(%)\n",
    "3. Sand content:\tSTU_EU_T_SAND,\tSTU_EU_S_SAND\t(%)\n",
    "4. Silt content:\tSTU_EU_T_SILT,\tSTU_EU_S_SILT\t(%)\n",
    "5. Organic carbon content:\tSTU_EU_T_OC,\tSTU_EU_S_OC\t(%)\n",
    "6. Bulk density:\tSTU_EU_T_BD,\tSTU_EU_S_BD\t(g cm-3)\n",
    "7. Coarse Fragments:\tSTU_EU_T_GRAVEL,\tSTU_EU_S_GRAVEL\t(%)\n",
    "8. Total available water content from PTR:\tSMU_EU_T_TAWC,\tSMU_EU_S_TAWC\t(mm)\n",
    "9. Total available water content from PTF:\tSTU_EU_T_TAWC,\tSTU_EU_S_TAWC\t(mm)"
   ]
  },
  {
   "cell_type": "markdown",
   "id": "1f7648ab",
   "metadata": {},
   "source": [
    "# Import modules"
   ]
  },
  {
   "cell_type": "code",
   "execution_count": null,
   "id": "3618dd81",
   "metadata": {},
   "outputs": [],
   "source": [
    "import geopandas as gpd\n",
    "import numpy as np\n",
    "import pandas as pd\n",
    "import tqdm as tqdm\n",
    "import os\n",
    "import rasterio\n",
    "from rasterio.features import geometry_mask\n",
    "import warnings"
   ]
  },
  {
   "cell_type": "markdown",
   "id": "b31c9d67",
   "metadata": {},
   "source": [
    "# Configurations"
   ]
  },
  {
   "cell_type": "code",
   "execution_count": null,
   "id": "13078a89",
   "metadata": {},
   "outputs": [],
   "source": [
    "# Only editable variables:\n",
    "# Relative path to your local directory\n",
    "PATH = \"../../..\"\n",
    "# Suppress all warnings\n",
    "warnings.filterwarnings(\"ignore\")"
   ]
  },
  {
   "cell_type": "markdown",
   "id": "3bac8fbf",
   "metadata": {},
   "source": [
    "* #### The users should NOT change anything in the code below here. "
   ]
  },
  {
   "cell_type": "code",
   "execution_count": null,
   "id": "cb1e4807",
   "metadata": {},
   "outputs": [],
   "source": [
    "# Non-editable variables:\n",
    "PATH_OUTPUT = \"results/staticattributes/\"\n",
    "\n",
    "# Set the directory:\n",
    "os.chdir(PATH)"
   ]
  },
  {
   "cell_type": "markdown",
   "id": "6ea546d0",
   "metadata": {},
   "source": [
    "# Import data\n",
    "## Catchment boundaries"
   ]
  },
  {
   "cell_type": "code",
   "execution_count": null,
   "id": "eb14bc3a",
   "metadata": {},
   "outputs": [],
   "source": [
    "catchment_boundaries = gpd.read_file('data/shapefiles/estreams_catchments.shp')\n",
    "catchment_boundaries"
   ]
  },
  {
   "cell_type": "code",
   "execution_count": null,
   "id": "95717955",
   "metadata": {},
   "outputs": [],
   "source": [
    "print(\"The total number of catchments to be processed are:\", len(catchment_boundaries))"
   ]
  },
  {
   "cell_type": "markdown",
   "id": "7a3c3ffc",
   "metadata": {},
   "source": [
    "## Soil type rasters"
   ]
  },
  {
   "cell_type": "code",
   "execution_count": null,
   "id": "da333773",
   "metadata": {},
   "outputs": [],
   "source": [
    "# Topsoil:\n",
    "filenames_topsoil =['data/soils/topsoil/stu_eu_depth_roots.tif',\n",
    "            'data/soils/topsoil/smu_eu_t_tawc.tif',\n",
    "            'data/soils/topsoil/stu_eu_t_sand.tif',\n",
    "            'data/soils/topsoil/stu_eu_t_silt.tif',\n",
    "            'data/soils/topsoil/stu_eu_t_clay.tif',\n",
    "            'data/soils/topsoil/stu_eu_t_gravel.tif',\n",
    "            'data/soils/topsoil/stu_eu_t_bd.tif',\n",
    "            'data/soils/topsoil/stu_eu_t_oc.tif']\n",
    "# Subsoil:\n",
    "filenames_subsoil =['data/soils/topsoil/stu_eu_depth_roots.tif',\n",
    "            'data/soils/subsoil/stu_eu_s_tawc.tif',\n",
    "            'data/soils/subsoil/stu_eu_s_sand.tif',\n",
    "            'data/soils/subsoil/stu_eu_s_silt.tif',\n",
    "            'data/soils/subsoil/stu_eu_s_clay.tif',\n",
    "            'data/soils/subsoil/stu_eu_s_gravel.tif',\n",
    "            'data/soils/subsoil/stu_eu_s_bd.tif',\n",
    "            'data/soils/subsoil/stu_eu_s_oc.tif']"
   ]
  },
  {
   "cell_type": "markdown",
   "id": "3b17eb94",
   "metadata": {},
   "source": [
    "## Reproject to projected coordinates system"
   ]
  },
  {
   "cell_type": "code",
   "execution_count": null,
   "id": "a425bc9b",
   "metadata": {},
   "outputs": [],
   "source": [
    "# Define the target CRS to ETRS89 LAEA\n",
    "target_crs = 'EPSG:3035'\n",
    "\n",
    "# Reproject the GeoDataFrame to the target CRS\n",
    "catchment_boundaries_reprojected = catchment_boundaries.to_crs(target_crs)"
   ]
  },
  {
   "cell_type": "markdown",
   "id": "bf9978bf",
   "metadata": {},
   "source": [
    "## Computation processes"
   ]
  },
  {
   "cell_type": "code",
   "execution_count": null,
   "id": "98cc1e27",
   "metadata": {},
   "outputs": [],
   "source": [
    "# Initialize an empty DataFrame to store the results\n",
    "soil_attributes_df = pd.DataFrame()\n",
    "\n",
    "# Define prefixes for their names based on the order of lecture:\n",
    "prefix_values = [\"root_dep_\", \"soil_tawc_\", \"soil_fra_sand_\", \"soil_fra_silt_\", \"soil_fra_clay_\",\n",
    "                \"soil_fra_grav_\", \"soil_bd_\", \"soil_oc_\"]\n",
    "i = 0\n",
    "for filename in filenames_topsoil:\n",
    "    \n",
    "    # Create lists to store the results\n",
    "    avg_values = []\n",
    "    max_values = []\n",
    "    min_values = []\n",
    "    percentile_5th = []\n",
    "    percentile_25th = []\n",
    "    median = []\n",
    "    percentile_75th = []\n",
    "    percentile_90th = []\n",
    "\n",
    "    # Load your raster file\n",
    "    with rasterio.open(filename) as src:\n",
    "        for idx, geom in tqdm.tqdm(catchment_boundaries_reprojected.iterrows()):\n",
    "            \n",
    "            # Check if the geometry is empty or invalid\n",
    "            if geom['geometry'] is None or geom['geometry'].is_empty or not geom['geometry'].is_valid:\n",
    "                avg_value = np.nan\n",
    "                max_value = np.nan\n",
    "                min_value = np.nan\n",
    "                p5 = np.nan\n",
    "                p25 = np.nan\n",
    "                med = np.nan\n",
    "                p75 = np.nan\n",
    "                p90 = np.nan\n",
    "            \n",
    "            else:\n",
    "                # Create a mask for the geometry\n",
    "                mask = geometry_mask([geom['geometry']], out_shape=src.shape, transform=src.transform, invert=True)\n",
    "\n",
    "                # Read the values within the geometry from the raster\n",
    "                values = src.read(1, masked=True)\n",
    "                values = values[mask]\n",
    "\n",
    "            # Calculate statistics only if there are valid values in the 'values' array\n",
    "            if len(values) > 0:\n",
    "                avg_value = np.mean(values)\n",
    "                max_value = np.max(values)\n",
    "                min_value = np.min(values)\n",
    "                p5 = np.percentile(values, 5)\n",
    "                p25 = np.percentile(values, 25)\n",
    "                med = np.percentile(values, 50)  # 50th percentile (median)\n",
    "                p75 = np.percentile(values, 75)\n",
    "                p90 = np.percentile(values, 90)\n",
    "            \n",
    "            else:\n",
    "                # Handle the case when there are no valid values (e.g., by setting them to NaN or a specific value)\n",
    "                avg_value = np.nan\n",
    "                max_value = np.nan\n",
    "                min_value = np.nan\n",
    "                p5 = np.nan\n",
    "                p25 = np.nan\n",
    "                med = np.nan\n",
    "                p75 = np.nan\n",
    "                p90 = np.nan\n",
    "\n",
    "            # Store the results in the lists\n",
    "            avg_values.append(avg_value)\n",
    "            max_values.append(max_value)\n",
    "            min_values.append(min_value)\n",
    "            percentile_5th.append(p5)\n",
    "            percentile_25th.append(p25)\n",
    "            median.append(med)\n",
    "            percentile_75th.append(p75)\n",
    "            percentile_90th.append(p90)\n",
    "\n",
    "    # Create a DataFrame to store the results for this file\n",
    "    data = {\n",
    "        'basin_id': catchment_boundaries_reprojected['basin_id'],\n",
    "        'mean': avg_values,\n",
    "        'max': max_values,\n",
    "        'min': min_values,\n",
    "        'p05': percentile_5th,\n",
    "        'p25': percentile_25th,\n",
    "        'med': median,\n",
    "        'p75': percentile_75th,\n",
    "        'p90': percentile_90th\n",
    "    }\n",
    "    results_df = pd.DataFrame(data)\n",
    "    results_df.set_index(\"basin_id\", inplace=True)\n",
    "    results_df = results_df.add_prefix(prefix_values[i])\n",
    "\n",
    "    # Concatenate the results with the final DataFrame\n",
    "    soil_attributes_df = pd.concat([soil_attributes_df, results_df], axis=1)\n",
    "    i = i + 1"
   ]
  },
  {
   "cell_type": "code",
   "execution_count": null,
   "id": "02dbddaa",
   "metadata": {},
   "outputs": [],
   "source": [
    "soil_attributes_df"
   ]
  },
  {
   "cell_type": "code",
   "execution_count": null,
   "id": "c82f207e",
   "metadata": {},
   "outputs": [],
   "source": [
    "# Here we sort the index:\n",
    "soil_attributes_df = soil_attributes_df.sort_index(axis=0)\n",
    "soil_attributes_df"
   ]
  },
  {
   "cell_type": "code",
   "execution_count": null,
   "id": "50d31e6c",
   "metadata": {},
   "outputs": [],
   "source": [
    "# Round the data to 3 decimals\n",
    "soil_attributes_df = soil_attributes_df.astype(float).round(3)\n",
    "soil_attributes_df"
   ]
  },
  {
   "cell_type": "markdown",
   "id": "9b1ae06f",
   "metadata": {},
   "source": [
    "# Data export"
   ]
  },
  {
   "cell_type": "code",
   "execution_count": null,
   "id": "5da96873",
   "metadata": {},
   "outputs": [],
   "source": [
    "# Export the final dataset:\n",
    "soil_attributes_df.to_csv(PATH_OUTPUT+\"estreams_soil_attributes.csv\")"
   ]
  },
  {
   "cell_type": "markdown",
   "id": "b608e26e",
   "metadata": {},
   "source": [
    "# End"
   ]
  }
 ],
 "metadata": {
  "kernelspec": {
   "display_name": "Python 3 (ipykernel)",
   "language": "python",
   "name": "python3"
  },
  "language_info": {
   "codemirror_mode": {
    "name": "ipython",
    "version": 3
   },
   "file_extension": ".py",
   "mimetype": "text/x-python",
   "name": "python",
   "nbconvert_exporter": "python",
   "pygments_lexer": "ipython3",
   "version": "3.10.13"
  }
 },
 "nbformat": 4,
 "nbformat_minor": 5
}
