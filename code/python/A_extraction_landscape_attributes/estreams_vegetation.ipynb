{
 "cells": [
  {
   "cell_type": "markdown",
   "id": "b9429523",
   "metadata": {},
   "source": [
    "# Vegetation attributes and time-series extraction\n",
    "\n",
    "Author: Thiago Nascimento (thiago.nascimento@eawag.ch)\n",
    "\n",
    "This notebook is part of the EStreams publication and was used to extract and aggregate the vegetation time-series from the MODIS dataset (i.e., LAI and NDVI).\n",
    "\n",
    "* Note that this code enables not only the replicability of the current database but also the extrapolation to new catchment areas. \n",
    "* Additionally, the user should download and insert the original raw-data in the folder of the same name prior to run this code. \n",
    "* The original third-party data used were not made available in this repository due to redistribution and storage-space reasons.  \n",
    "\n",
    "## Requirements\n",
    "**Python:**\n",
    "* Python>=3.6\n",
    "* Jupyter\n",
    "* geopandas=0.10.2\n",
    "* glob\n",
    "* numpy\n",
    "* os\n",
    "* pandas\n",
    "* tqdm\n",
    "\n",
    "Check the Github repository for an environment.yml (for conda environments) or requirements.txt (pip) file.\n",
    "\n",
    "**Files:**\n",
    "* data/shapefiles/estreams_catchments.shp\n",
    "* data/gee/vegetation/LAI/EStreams_modis_LAI_mean_gee_{}.csv. LAI time-series CSV-file(s) exported from GEE.\n",
    "* data/gee/vegetation/NDVI/EStreams_modis_NDVI_mean_gee_{}.csv. NDVI time-series CSV-file(s) exported from GEE.\n",
    "\n",
    "**Directory:**\n",
    "* Clone the GitHub directory locally\n",
    "* Place any third-data variables in their respective directory.\n",
    "* ONLY update the \"PATH\" variable in the section \"Configurations\", with their relative path to the EStreams directory. \n",
    "\n",
    "## References\n",
    "\n",
    "* Didan, K. MODIS/Terra Vegetation Indices 16-Day L3 Global 500m SIN Grid V061 [Data set]. ASA EOSDIS Land Processes Distributed Active Archive Center https://doi.org/10.5067/MODIS/MOD13A1.061 (2021).\n",
    "* Myneni, R., Knyazikhin, Y. & Park, T. MODIS/Terra Leaf Area Index/FPAR 8-Day L4 Global 500m SIN Grid V061 [Data set]. NASA EOSDIS Land Processes Distributed Active Archive Center https://doi.org/10.5067/MODIS/MOD15A2H.061 (2021).\n",
    "\n",
    "## License\n",
    "\n",
    "* LAI and NDVI: Open access: \"MODIS data and products acquired through the LP DAAC have no restrictions on subsequent use, sale, or redistribution.\" https://lpdaac.usgs.gov/products/mod13a1v061/; https://lpdaac.usgs.gov/products/mod15a2hv061/;  (Last access 23 November 2023) \n",
    "\n",
    "## Observations\n",
    "* This notebook assumes that the GEE code to export LAI and NDVI mean time-series from the MODIS dataset (EStreams_landscape_timeseries_LAI_gee.txt; EStreams_landscape_timeseries_NDVI_gee.txt) were run before in the GEE platform and that the output CSV-files are locally available. \n",
    "* It is not possible to export the 17,130 catchments at one single CSV, so there might be many files with the time-series stored separetly. "
   ]
  },
  {
   "cell_type": "markdown",
   "id": "395ba82c",
   "metadata": {},
   "source": [
    "# Import modules"
   ]
  },
  {
   "cell_type": "code",
   "execution_count": null,
   "id": "026bcd9e",
   "metadata": {},
   "outputs": [],
   "source": [
    "import os\n",
    "import numpy as np\n",
    "import pandas as pd\n",
    "import geopandas as gpd\n",
    "import tqdm as tqdm\n",
    "import glob"
   ]
  },
  {
   "cell_type": "markdown",
   "id": "10f5a4e8",
   "metadata": {},
   "source": [
    "# Configurations"
   ]
  },
  {
   "cell_type": "code",
   "execution_count": null,
   "id": "3a4d9e44",
   "metadata": {},
   "outputs": [],
   "source": [
    "# Only editable variables:\n",
    "# Relative path to your local directory\n",
    "PATH = \"../../..\""
   ]
  },
  {
   "cell_type": "markdown",
   "id": "e0c13654",
   "metadata": {},
   "source": [
    "* #### The users should NOT change anything in the code below here."
   ]
  },
  {
   "cell_type": "code",
   "execution_count": null,
   "id": "31caafa0",
   "metadata": {},
   "outputs": [],
   "source": [
    "# Non-editable variables:\n",
    "PATH_OUTPUT_TS = \"results/timeseries/vegetationindices\"\n",
    "PATH_OUTPUT_ST = \"results/staticattributes\"\n",
    "\n",
    "# Set the directory:\n",
    "os.chdir(PATH)"
   ]
  },
  {
   "cell_type": "markdown",
   "id": "896190fa",
   "metadata": {},
   "source": [
    "# Import data\n",
    "## Catchment boundaries"
   ]
  },
  {
   "cell_type": "code",
   "execution_count": null,
   "id": "409ab7a8",
   "metadata": {},
   "outputs": [],
   "source": [
    "catchment_boundaries = gpd.read_file('data/shapefiles/estreams_catchments.shp')\n",
    "catchment_boundaries"
   ]
  },
  {
   "cell_type": "code",
   "execution_count": null,
   "id": "0034f04c",
   "metadata": {},
   "outputs": [],
   "source": [
    "print(\"The total number of catchments to be processed are:\", len(catchment_boundaries))"
   ]
  },
  {
   "cell_type": "markdown",
   "id": "d89b2905",
   "metadata": {},
   "source": [
    "## GEE outputs\n",
    "### Leaf Area index (LAI)"
   ]
  },
  {
   "cell_type": "code",
   "execution_count": null,
   "id": "171a6ab6",
   "metadata": {},
   "outputs": [],
   "source": [
    "# Check the files in the subdirectory:\n",
    "filenames = glob.glob(\"data/gee/vegetation/LAI/*.csv\")\n",
    "print(\"Number of files:\", len(filenames))\n",
    "print(\"First file:\", filenames[0])"
   ]
  },
  {
   "cell_type": "code",
   "execution_count": null,
   "id": "c0b87bd1",
   "metadata": {},
   "outputs": [],
   "source": [
    "# First, we create an empty DataFrame for the data with a datetime index:\n",
    "LAI_df = pd.DataFrame(index=pd.date_range(start='2001-01-01', end='2022-12-31', freq='M'))\n",
    "\n",
    "# Loop for reading and concatenating the data:\n",
    "for file in tqdm.tqdm(filenames):\n",
    "    \n",
    "    # Read the data from the CSV file:\n",
    "    LAI_file = pd.read_csv(file)\n",
    "    LAI_file.drop([\"system:index\", \".geo\"], axis=1, inplace=True)\n",
    "    LAI_file = LAI_file.T\n",
    "    \n",
    "    # Set columns based on the \"basin_id\" row and drop it\n",
    "    LAI_file.columns = LAI_file.loc[\"basin_id\", :].tolist()\n",
    "    LAI_file.drop([\"basin_id\"], axis=0, inplace=True)\n",
    "    \n",
    "    # Convert the index to integers and sort it\n",
    "    LAI_file.index = LAI_file.index.astype(int)\n",
    "    LAI_file.sort_index(inplace=True)\n",
    "    \n",
    "    # Create a new DataFrame with datetime index and assign values\n",
    "    LAI_file_df = pd.DataFrame(columns=LAI_file.columns)\n",
    "    LAI_file_df[\"dates\"] = pd.date_range(start='2001-01-01', end='2022-12-31', freq='M')\n",
    "    LAI_file_df.loc[:, LAI_file.columns] = LAI_file\n",
    "    LAI_file_df.set_index(\"dates\", inplace=True)\n",
    "    LAI_file_df.index.name = \"\"\n",
    "    \n",
    "    # Concatenate the DataFrames along the columns (axis=1)\n",
    "    LAI_df = pd.concat([LAI_df, LAI_file_df], axis=1)\n",
    "    \n",
    "# Apply the scale factor from Google Earth Engine (GEE)\n",
    "LAI_df = LAI_df * 0.01\n",
    "LAI_df"
   ]
  },
  {
   "cell_type": "code",
   "execution_count": null,
   "id": "6521593b",
   "metadata": {},
   "outputs": [],
   "source": [
    "# Here we add the columns of the catchemnts that were not processed\n",
    "# Adding new columns with NaN values only if they don't exist\n",
    "for col in catchment_boundaries.basin_id.tolist():\n",
    "    if col not in LAI_df.columns:\n",
    "        LAI_df[col] = np.nan\n",
    "LAI_df"
   ]
  },
  {
   "cell_type": "code",
   "execution_count": null,
   "id": "f8458cf3",
   "metadata": {},
   "outputs": [],
   "source": [
    "# Here we sort the columns:\n",
    "LAI_df = LAI_df.sort_index(axis=1)\n",
    "LAI_df"
   ]
  },
  {
   "cell_type": "code",
   "execution_count": null,
   "id": "7fe0aa6e",
   "metadata": {},
   "outputs": [],
   "source": [
    "# Resample to yearly mean\n",
    "LAI_yr = LAI_df.resample('Y').mean()\n",
    "LAI_yr"
   ]
  },
  {
   "cell_type": "code",
   "execution_count": null,
   "id": "02bff301",
   "metadata": {},
   "outputs": [],
   "source": [
    "# Calculate the mean for each month across all years (monht of the year)\n",
    "LAI_moy = LAI_df.groupby(LAI_df.index.month).mean()\n",
    "\n",
    "# Rename the index to the three-letter month abbreviations\n",
    "LAI_moy.index = pd.to_datetime(LAI_moy.index, format='%m').strftime('%b')\n",
    "\n",
    "LAI_moy"
   ]
  },
  {
   "cell_type": "markdown",
   "id": "a96b0b2b",
   "metadata": {},
   "source": [
    "### Normalized Vegetation Difference Index (NDVI)"
   ]
  },
  {
   "cell_type": "code",
   "execution_count": null,
   "id": "a2a46da3",
   "metadata": {},
   "outputs": [],
   "source": [
    "# Check the files in the subdirectory:\n",
    "filenames = glob.glob(\"data/gee/vegetation/NDVI/*.csv\")\n",
    "print(\"Number of files:\", len(filenames))\n",
    "print(\"First file:\", filenames[0])"
   ]
  },
  {
   "cell_type": "code",
   "execution_count": null,
   "id": "0cc701d4",
   "metadata": {},
   "outputs": [],
   "source": [
    "# First, we create an empty DataFrame for the data with a datetime index:\n",
    "ndvi_df = pd.DataFrame(index=pd.date_range(start='2001-01-01', end='2022-12-31', freq='M'))\n",
    "\n",
    "# Loop for reading and concatenating the data:\n",
    "for file in tqdm.tqdm(filenames):\n",
    "    \n",
    "    # Read the data from the CSV file:\n",
    "    ndvi_file = pd.read_csv(file)\n",
    "    ndvi_file.drop([\"system:index\", \".geo\"], axis=1, inplace=True)\n",
    "    ndvi_file = ndvi_file.T\n",
    "    \n",
    "    # Set columns based on the \"basin_id\" row and drop it\n",
    "    ndvi_file.columns = ndvi_file.loc[\"basin_id\", :].tolist()\n",
    "    ndvi_file.drop([\"basin_id\"], axis=0, inplace=True)\n",
    "    \n",
    "    # Convert the index to integers and sort it\n",
    "    ndvi_file.index = ndvi_file.index.astype(int)\n",
    "    ndvi_file.sort_index(inplace=True)\n",
    "    \n",
    "    # Create a new DataFrame with datetime index and assign values\n",
    "    ndvi_file_df = pd.DataFrame(columns=ndvi_file.columns)\n",
    "    ndvi_file_df[\"dates\"] = pd.date_range(start='2001-01-01', end='2022-12-31', freq='M')\n",
    "    ndvi_file_df.loc[:, ndvi_file.columns] = ndvi_file\n",
    "    ndvi_file_df.set_index(\"dates\", inplace=True)\n",
    "    ndvi_file_df.index.name = \"\"\n",
    "    \n",
    "    # Concatenate the DataFrames along the columns (axis=1)\n",
    "    ndvi_df = pd.concat([ndvi_df, ndvi_file_df], axis=1)\n",
    "    \n",
    "# Apply the scale factor from Google Earth Engine (GEE)\n",
    "ndvi_df = ndvi_df * 0.0001\n",
    "ndvi_df"
   ]
  },
  {
   "cell_type": "code",
   "execution_count": null,
   "id": "85f56c58",
   "metadata": {},
   "outputs": [],
   "source": [
    "# Here we add the columns of the catchemnts that were not processed\n",
    "# Adding new columns with NaN values only if they don't exist\n",
    "for col in catchment_boundaries.basin_id.tolist():\n",
    "    if col not in ndvi_df.columns:\n",
    "        ndvi_df[col] = np.nan\n",
    "ndvi_df"
   ]
  },
  {
   "cell_type": "code",
   "execution_count": null,
   "id": "2e42022b",
   "metadata": {},
   "outputs": [],
   "source": [
    "# Here we sort the columns:\n",
    "ndvi_df = ndvi_df.sort_index(axis=1)\n",
    "ndvi_df"
   ]
  },
  {
   "cell_type": "code",
   "execution_count": null,
   "id": "9891aee3",
   "metadata": {},
   "outputs": [],
   "source": [
    "# Resample to yearly mean\n",
    "ndvi_yr = ndvi_df.resample('Y').mean()\n",
    "ndvi_yr"
   ]
  },
  {
   "cell_type": "code",
   "execution_count": null,
   "id": "43c88646",
   "metadata": {},
   "outputs": [],
   "source": [
    "# Calculate the mean for each month across all years (monht of the year)\n",
    "ndvi_moy = ndvi_df.groupby(ndvi_df.index.month).mean()\n",
    "\n",
    "# Rename the index to the three-letter month abbreviations\n",
    "ndvi_moy.index = pd.to_datetime(ndvi_moy.index, format='%m').strftime('%b')\n",
    "\n",
    "ndvi_moy"
   ]
  },
  {
   "cell_type": "markdown",
   "id": "fb8834d0",
   "metadata": {},
   "source": [
    "# Final aggregation (static attributes)"
   ]
  },
  {
   "cell_type": "code",
   "execution_count": null,
   "id": "28761ceb",
   "metadata": {},
   "outputs": [],
   "source": [
    "# LAI:\n",
    "LAI_moy_T = LAI_moy.T\n",
    "LAI_moy_T.columns = pd.to_datetime(LAI_moy_T.columns, format='%b').strftime('%m')\n",
    "LAI_moy_T.columns = \"lai_\" + LAI_moy_T.columns\n",
    "\n",
    "LAI_moy_T[\"lai_mean\"] = LAI_moy_T.mean(axis = 1)\n",
    "\n",
    "LAI_moy_T"
   ]
  },
  {
   "cell_type": "code",
   "execution_count": null,
   "id": "875c1c35",
   "metadata": {},
   "outputs": [],
   "source": [
    "# NDVI:\n",
    "ndvi_moy_T = ndvi_moy.T\n",
    "ndvi_moy_T.columns = pd.to_datetime(ndvi_moy_T.columns, format='%b').strftime('%m')\n",
    "ndvi_moy_T.columns = \"ndvi_\" + ndvi_moy_T.columns\n",
    "\n",
    "ndvi_moy_T[\"ndvi_mean\"] = ndvi_moy_T.mean(axis = 1)\n",
    "\n",
    "ndvi_moy_T"
   ]
  },
  {
   "cell_type": "code",
   "execution_count": null,
   "id": "a719830a",
   "metadata": {},
   "outputs": [],
   "source": [
    "# First we create an empty table data frame to assing the values to it\n",
    "vegetation_df = pd.DataFrame(index = ndvi_moy_T.index)\n",
    "\n",
    "# Now we proceed with the concatenation:\n",
    "vegetation_df = pd.concat([LAI_moy_T, ndvi_moy_T], axis=1)\n",
    "\n",
    "vegetation_df"
   ]
  },
  {
   "cell_type": "code",
   "execution_count": null,
   "id": "7c8fd16c",
   "metadata": {},
   "outputs": [],
   "source": [
    "# Assign the \"basin_id\" to the gauges names:\n",
    "vegetation_df.index.name = \"basin_id\""
   ]
  },
  {
   "cell_type": "code",
   "execution_count": null,
   "id": "7cf3b6c2",
   "metadata": {},
   "outputs": [],
   "source": [
    "# Assign the \"date\" to the df index:\n",
    "LAI_df.index.name = \"date\"\n",
    "LAI_yr.index.name = \"date\"\n",
    "ndvi_df.index.name = \"date\"\n",
    "ndvi_yr.index.name = \"date\""
   ]
  },
  {
   "cell_type": "code",
   "execution_count": null,
   "id": "02bf56e5",
   "metadata": {},
   "outputs": [],
   "source": [
    "# Round the data to 3 decimals\n",
    "LAI_df = LAI_df.astype(float).round(3)\n",
    "LAI_yr = LAI_yr.astype(float).round(3)\n",
    "ndvi_df = ndvi_df.astype(float).round(3)\n",
    "ndvi_yr = ndvi_yr.astype(float).round(3)\n",
    "vegetation_df = vegetation_df.astype(float).round(3)"
   ]
  },
  {
   "cell_type": "markdown",
   "id": "bf33bc05",
   "metadata": {},
   "source": [
    "# Data export"
   ]
  },
  {
   "cell_type": "code",
   "execution_count": null,
   "id": "a4b8a358",
   "metadata": {},
   "outputs": [],
   "source": [
    "# Export the final datasets:\n",
    "# Time-series:\n",
    "LAI_df.to_csv(PATH_OUTPUT_TS+\"/estreams_LAI_monhtly.csv\")\n",
    "LAI_yr.to_csv(PATH_OUTPUT_TS+\"/estreams_LAI_yearly.csv\")\n",
    "\n",
    "ndvi_df.to_csv(PATH_OUTPUT_TS+\"/estreams_NDVI_monhtly.csv\")\n",
    "ndvi_yr.to_csv(PATH_OUTPUT_TS+\"/estreams_NDVI_yearly.csv\")\n",
    "\n",
    "# Static attributes:\n",
    "vegetation_df.to_csv(PATH_OUTPUT_ST+\"/estreams_vegetation_attributes.csv\")"
   ]
  },
  {
   "cell_type": "markdown",
   "id": "a5704d1e",
   "metadata": {},
   "source": [
    "# End"
   ]
  }
 ],
 "metadata": {
  "kernelspec": {
   "display_name": "Python 3 (ipykernel)",
   "language": "python",
   "name": "python3"
  },
  "language_info": {
   "codemirror_mode": {
    "name": "ipython",
    "version": 3
   },
   "file_extension": ".py",
   "mimetype": "text/x-python",
   "name": "python",
   "nbconvert_exporter": "python",
   "pygments_lexer": "ipython3",
   "version": "3.9.18"
  }
 },
 "nbformat": 4,
 "nbformat_minor": 5
}
