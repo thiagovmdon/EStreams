{
 "cells": [
  {
   "cell_type": "markdown",
   "id": "1593ce95",
   "metadata": {},
   "source": [
    "# Geological attributes extraction\n",
    "\n",
    "\n",
    "Author: Thiago Nascimento (thiago.nascimento@eawag.ch)\n",
    "\n",
    "This notebook is part of an EStreams updated and was used to extract and aggregate the geological attributes from the International Hydrogeological Map of Europe (IHME), version 11 and scale: 1:1,500,000​ shapefile to the catchment boundaries.\n",
    "\n",
    "* Note that this code enables not only the replicability of the current database but also the extrapolation to new catchment areas. \n",
    "* Additionally, the user should download and insert the original raw-data in the folder of the same name prior to run this code. \n",
    "* The original third-party data used were not made avaialable in this repository due to redistribution and storage-space reasons.  \n",
    "\n",
    "## Requirements\n",
    "**Python:**\n",
    "* Python>=3.6\n",
    "* Jupyter\n",
    "* geopandas=0.10.2\n",
    "* numpy\n",
    "* os\n",
    "* pandas\n",
    "* rasterio\n",
    "* time\n",
    "* tqdm\n",
    "\n",
    "Check the Github repository for an environment.yml (for conda environments) or requirements.txt (pip) file.\n",
    "\n",
    "**Files:**\n",
    "* data/geology/ihme1500_litho12345_ec4060_v12_poly.shp. Available at: www.bgr.bund.de (Last access 23 November 2024)\n",
    "* data/shapefiles/estreams_boundaries.shp\n",
    "\n",
    "**Directory:**\n",
    "\n",
    "* Clone the GitHub directory locally\n",
    "* Place any third-data variables in their respective directory.\n",
    "* ONLY update the \"PATH\" variable in the section \"Configurations\", with their relative path to the EStreams directory. \n",
    "\n",
    "## References\n",
    "\n",
    "* ​Günther, A., Duscher, K., 2019. Extended vector data of the International Hydrogeological Map of Europe 1:1,500,000 (Version IHME1500 v1.2). \n",
    "\n",
    "* ​Duscher, K., Günther, A., Richts, A., Clos, P., Philipp, U., Struckmeier, W., 2019. The GIS layers of the BInternational Hydrogeological Map of Europe 1:1,500,000^ in a vector format. https://doi.org/10.1007/s10040-015-1296-4 \n",
    "\n",
    "\n",
    "## Licenses\n",
    "\n",
    "* IHME: Usage of the IHME dataset is free for any purpose, you may consider the AGB notes that are with the download data. (Last access 14 April 2024)\n",
    "\n",
    "## Observations\n",
    "\n",
    "#### IHME lithological classes\n",
    "\n",
    "1. Plutonic rocks\n",
    "2. Volcanic rocks \n",
    "3. Inland water\n",
    "4. Snow field / ice field\n",
    "5. Clays\n",
    "6. Quartzites\n",
    "7. Shales\n",
    "8. Claystone & clays \n",
    "9. Marbles\n",
    "10. Marls\n",
    "11. Marlstones\n",
    "12. Marlstones & clays\n",
    "13. Marlstones & marls\n",
    "14. Phyllites\n",
    "15. Schists\n",
    "16. Gneisses\n",
    "17. Silts\n",
    "18. Conglomerates & clays\n",
    "19. Limestones\n",
    "20. Limestones & sands\n",
    "21. Sandstones & clays\n",
    "22. Sandstones & marls\n",
    "23. Limestones & clays\n",
    "24. Limestones & marls\n",
    "25. Marlstones & sands \n",
    "26. Conglomerates\n",
    "27. Conglomerates & sands\n",
    "28. Gravels\n",
    "29. Sands\n",
    "30. Sandstones\n",
    "31. Sandstones & Sands "
   ]
  },
  {
   "cell_type": "markdown",
   "id": "1f7648ab",
   "metadata": {},
   "source": [
    "# Import modules"
   ]
  },
  {
   "cell_type": "code",
   "execution_count": null,
   "id": "04f6e053",
   "metadata": {},
   "outputs": [],
   "source": [
    "import geopandas as gpd\n",
    "import pandas as pd\n",
    "import tqdm as tqdm\n",
    "import os\n",
    "import numpy as np\n",
    "import rasterio\n",
    "import time\n",
    "from rasterio.features import geometry_mask"
   ]
  },
  {
   "cell_type": "markdown",
   "id": "b31c9d67",
   "metadata": {},
   "source": [
    "# Configurations"
   ]
  },
  {
   "cell_type": "code",
   "execution_count": null,
   "id": "6e0b44e5",
   "metadata": {},
   "outputs": [],
   "source": [
    "# Only editable variables:\n",
    "# Relative path to your local directory\n",
    "PATH = \"../../..\""
   ]
  },
  {
   "cell_type": "markdown",
   "id": "2ca5877e",
   "metadata": {},
   "source": [
    "* #### The users should NOT change anything in the code below here.\n"
   ]
  },
  {
   "cell_type": "code",
   "execution_count": null,
   "id": "13078a89",
   "metadata": {},
   "outputs": [],
   "source": [
    "# Non-editable variables\n",
    "PATH = \"../../..\"\n",
    "PATH_OUTPUT = \"results/staticattributes/\"\n",
    "# Set the directory:\n",
    "os.chdir(PATH)"
   ]
  },
  {
   "cell_type": "markdown",
   "id": "4909fe84",
   "metadata": {},
   "source": [
    "# Import data\n",
    "## Catchment boundaries"
   ]
  },
  {
   "cell_type": "code",
   "execution_count": null,
   "id": "5948d5bd",
   "metadata": {},
   "outputs": [],
   "source": [
    "catchment_boundaries = gpd.read_file('data/shapefiles/estreams_catchments.shp')\n",
    "catchment_boundaries.set_index(\"basin_id\", inplace = True)\n",
    "catchment_boundaries.head()"
   ]
  },
  {
   "cell_type": "code",
   "execution_count": null,
   "id": "40e1d16e",
   "metadata": {},
   "outputs": [],
   "source": [
    "print(\"The total number of catchments to be processed are:\", len(catchment_boundaries))"
   ]
  },
  {
   "cell_type": "markdown",
   "id": "3fa57cc5",
   "metadata": {},
   "source": [
    "## IHME shapefile\n",
    "IHME original layer."
   ]
  },
  {
   "cell_type": "code",
   "execution_count": null,
   "id": "8a81e2a0",
   "metadata": {},
   "outputs": [],
   "source": [
    "IHME = gpd.read_file('data/geology/ihme1500_litho12345_ec4060_v12_poly.shp')\n",
    "IHME"
   ]
  },
  {
   "cell_type": "markdown",
   "id": "a06bdadd",
   "metadata": {},
   "source": [
    "To optimize the process it is important to dissolve the polygon geometries before intersecting the areas. Here we dissove it by the atribute field corresponding to the unique-id for each lithological class. "
   ]
  },
  {
   "cell_type": "code",
   "execution_count": null,
   "id": "66b70a5a",
   "metadata": {},
   "outputs": [],
   "source": [
    "# Check for and fix invalid geometries\n",
    "if not IHME.geometry.is_valid.all():\n",
    "    IHME.geometry = IHME.geometry.buffer(0)"
   ]
  },
  {
   "cell_type": "code",
   "execution_count": null,
   "id": "d95351fd",
   "metadata": {},
   "outputs": [],
   "source": [
    "attribute_field = 'LEVEL3'\n",
    "IHME_dissolved = IHME.dissolve(by=attribute_field)\n",
    "\n",
    "## Now we create a new feature with the lithology class:\n",
    "IHME_dissolved[\"class\"] = IHME_dissolved.index\n",
    "IHME_dissolved"
   ]
  },
  {
   "cell_type": "markdown",
   "id": "b8491031",
   "metadata": {},
   "source": [
    "## Reproject to projected coordinates system"
   ]
  },
  {
   "cell_type": "code",
   "execution_count": null,
   "id": "b01e3bc7",
   "metadata": {},
   "outputs": [],
   "source": [
    "# Here you can check the crs of the datasets:\n",
    "print(\"CRS of catchment_boundaries:\", catchment_boundaries.crs)\n",
    "print(\"CRS of IHME:\", IHME_dissolved.crs)"
   ]
  },
  {
   "cell_type": "code",
   "execution_count": null,
   "id": "be378c91",
   "metadata": {},
   "outputs": [],
   "source": [
    "# Define the target CRS to ETRS89 LAEA (3035)\n",
    "target_crs = 'EPSG:3035'  \n",
    "\n",
    "# Reproject the GeoDataFrame to the target CRS\n",
    "catchment_boundaries_reprojected = catchment_boundaries.to_crs(target_crs)\n",
    "IHME_reprojected = IHME_dissolved.to_crs(target_crs)"
   ]
  },
  {
   "cell_type": "code",
   "execution_count": null,
   "id": "c5677474",
   "metadata": {},
   "outputs": [],
   "source": [
    "# Here you can check the crs of the datasets:\n",
    "print(\"CRS of catchment_boundaries:\", catchment_boundaries_reprojected.crs)\n",
    "print(\"CRS of IHME:\", IHME_reprojected.crs)"
   ]
  },
  {
   "cell_type": "code",
   "execution_count": null,
   "id": "4329b1ea",
   "metadata": {},
   "outputs": [],
   "source": [
    "# Make sure to have the basin_id as one of the attributes\n",
    "catchment_boundaries_reprojected[\"basin_id\"] = catchment_boundaries_reprojected.index"
   ]
  },
  {
   "cell_type": "markdown",
   "id": "b2d52822",
   "metadata": {},
   "source": [
    "# Intersection areas"
   ]
  },
  {
   "cell_type": "code",
   "execution_count": null,
   "id": "25ae54e7",
   "metadata": {},
   "outputs": [],
   "source": [
    "subset_catchment=catchment_boundaries_reprojected.copy()\n",
    "subset_catchment"
   ]
  },
  {
   "cell_type": "code",
   "execution_count": null,
   "id": "333138d4",
   "metadata": {},
   "outputs": [],
   "source": [
    "# Record the start time\n",
    "start_time = time.time()\n",
    "\n",
    "geology_overlap = gpd.overlay(df1=subset_catchment, df2=IHME_reprojected, how='intersection')\n",
    "\n",
    "# Record the end time\n",
    "end_time = time.time()\n",
    "\n",
    "# Print the elapsed time in seconds when done:\n",
    "print(\"Elapsed time: {:.1f} seconds\".format(end_time - start_time))"
   ]
  },
  {
   "cell_type": "code",
   "execution_count": null,
   "id": "30baae50",
   "metadata": {},
   "outputs": [],
   "source": [
    "# Calculate the areas of the overlapping polygons and add them as a new column\n",
    "geology_overlap['area_sqm'] = geology_overlap['geometry'].area/1000000\n",
    "geology_overlap"
   ]
  },
  {
   "cell_type": "markdown",
   "id": "2d417dc1",
   "metadata": {},
   "source": [
    "# Pivot table"
   ]
  },
  {
   "cell_type": "code",
   "execution_count": null,
   "id": "97a0b283",
   "metadata": {},
   "outputs": [],
   "source": [
    "# Finally we can creatre a pivot-table with the percentage of each lithological class per catchment:\n",
    "\n",
    "geology_areas = pd.pivot_table(\n",
    "    geology_overlap,\n",
    "    values='area_sqm',     # Replace with the actual column name for the area\n",
    "    index='basin_id',      # Rows are based on 'basin_id'\n",
    "    columns='class',       # Columns are based on 'class' (the class)\n",
    "    aggfunc='sum',         # Sum the areas for each combination\n",
    "    fill_value=0           # Replace NaN with 0\n",
    ")\n",
    "\n",
    "# Here we can sum to compute the total area of each catchment: \n",
    "geology_areas.loc[:, \"totalarea\"] = geology_areas.sum(axis = 1)\n",
    "geology_areas"
   ]
  },
  {
   "cell_type": "markdown",
   "id": "f2bb7250",
   "metadata": {},
   "source": [
    "## Catchment covered by shapefile\n",
    "* Here we compute the total catchment area covered by the geology shapefile:\n"
   ]
  },
  {
   "cell_type": "code",
   "execution_count": null,
   "id": "83401c0f",
   "metadata": {},
   "outputs": [],
   "source": [
    "catchment_boundaries_reprojected.set_index('basin_id', inplace = True)"
   ]
  },
  {
   "cell_type": "code",
   "execution_count": null,
   "id": "3f3e9581",
   "metadata": {},
   "outputs": [],
   "source": [
    "geology_areas['area_calc'] = catchment_boundaries_reprojected.area / 1000000\n",
    "geology_areas"
   ]
  },
  {
   "cell_type": "code",
   "execution_count": null,
   "id": "e72e1f2a",
   "metadata": {},
   "outputs": [],
   "source": [
    "geology_areas['tot_area'] = geology_areas.totalarea / geology_areas.area_calc\n",
    "geology_areas"
   ]
  },
  {
   "cell_type": "markdown",
   "id": "d0a40490",
   "metadata": {},
   "source": [
    "# Data organization"
   ]
  },
  {
   "cell_type": "code",
   "execution_count": null,
   "id": "d064091c",
   "metadata": {},
   "outputs": [],
   "source": [
    "# Here we compute the geology percentages from each class:\n",
    "geology_df = (geology_areas.iloc[:, :].div(geology_areas['totalarea'], axis=0))*100\n",
    "geology_df = geology_df.iloc[:, 0:-3]\n",
    "geology_df"
   ]
  },
  {
   "cell_type": "code",
   "execution_count": null,
   "id": "f3cebd57",
   "metadata": {},
   "outputs": [],
   "source": [
    "# Create a new column with the name of the column with the majority class\n",
    "geology_df['lit_dom'] = geology_df.iloc[:, 0:-1].apply(lambda row: row.idxmax(), axis=1)\n",
    "\n",
    "# Add \"th_new_\" as a prefix to all column names\n",
    "geology_df = geology_df.add_prefix('lit_fra_')\n",
    "geology_df = geology_df.rename(columns={'lit_fra_lit_dom': 'lit_dom'})\n",
    "\n",
    "# Catchment ara covered by the geology shapef\n",
    "geology_df['tot_area'] = (geology_areas.tot_area)*100"
   ]
  },
  {
   "cell_type": "code",
   "execution_count": null,
   "id": "5abcd780",
   "metadata": {
    "scrolled": false
   },
   "outputs": [],
   "source": [
    "# Here we sort the index:\n",
    "geology_df = geology_df.sort_index(axis=0)\n",
    "geology_df"
   ]
  },
  {
   "cell_type": "code",
   "execution_count": null,
   "id": "0a2f1fa6",
   "metadata": {},
   "outputs": [],
   "source": [
    "# Round the data to 3 decimals:\n",
    "geology_df.iloc[:, 0:-3] = geology_df.iloc[:, 0:-3].round(3)\n",
    "geology_df.iloc[:, -2:] = geology_df.iloc[:, -2:].round(3)\n",
    "geology_df"
   ]
  },
  {
   "cell_type": "markdown",
   "id": "790b61f8",
   "metadata": {},
   "source": [
    "# Data export"
   ]
  },
  {
   "cell_type": "code",
   "execution_count": null,
   "id": "9ce35b6f",
   "metadata": {},
   "outputs": [],
   "source": [
    "# Export the final dataset:\n",
    "geology_df.to_csv(PATH_OUTPUT+\"\\estreams_geology_continental_attributes.csv\")"
   ]
  },
  {
   "cell_type": "markdown",
   "id": "1cfa5cd2",
   "metadata": {},
   "source": [
    "# End"
   ]
  }
 ],
 "metadata": {
  "kernelspec": {
   "display_name": "Python 3 (ipykernel)",
   "language": "python",
   "name": "python3"
  },
  "language_info": {
   "codemirror_mode": {
    "name": "ipython",
    "version": 3
   },
   "file_extension": ".py",
   "mimetype": "text/x-python",
   "name": "python",
   "nbconvert_exporter": "python",
   "pygments_lexer": "ipython3",
   "version": "3.9.18"
  }
 },
 "nbformat": 4,
 "nbformat_minor": 5
}
