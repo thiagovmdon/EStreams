{
 "cells": [
  {
   "cell_type": "markdown",
   "id": "b9429523",
   "metadata": {},
   "source": [
    "# Irrigation time-series attributes extraction\n",
    "\n",
    "Author: Thiago Nascimento (thiago.nascimento@eawag.ch)\n",
    "\n",
    "This notebook is part of the EStreams publication and was used to extract and aggregate the area equipped for irrigation (AEI) between 1900 and 2005 from the Historical Irrigation Dataset (HID).\n",
    "\n",
    "* Note that this code enables not only the replicability of the current database but also the extrapolation to new catchment areas. \n",
    "* Additionally, the user should download and insert the original raw-data in the folder of the same name prior to run this code. \n",
    "* The original third-party data used were not made available in this repository due to redistribution and storage-space reasons.  \n",
    "\n",
    "## Requirements\n",
    "**Python:**\n",
    "\n",
    "* Python>=3.6\n",
    "* Jupyter\n",
    "* geopandas=0.10.2\n",
    "* glob\n",
    "* numpy\n",
    "* os\n",
    "* pandas\n",
    "* rasterio\n",
    "* tqdm\n",
    "\n",
    "Check the Github repository for an environment.yml (for conda environments) or requirements.txt (pip) file.\n",
    "\n",
    "**Files:**\n",
    "\n",
    "* data/shapefiles/estreams_catchments.shp\n",
    "* data/irrigation/AEI_EARTHSTAT_IR_{1900, 1910, 1920, 1930, 1940, 1960, 1970, 1980, 1985, 1990, 1995, 2000, 2005}.asc https://mygeohub.org/publications/8 (Last access: 05 December 2023)\n",
    "\n",
    "**Directory:**\n",
    "\n",
    "* Clone the GitHub directory locally\n",
    "* Place any third-data variables in their respective directory.\n",
    "* ONLY update the \"PATH\" variable in the section \"Configurations\", with their relative path to the EStreams directory. \n",
    "\n",
    "## References\n",
    "\n",
    "* Siebert, S., Kummu, M., Porkka, M., Döll, P., Ramankutty, N., and Scanlon, B. R.: A global data set of the extent of irrigated land from 1900 to 2005, Hydrol. Earth Syst. Sci., 19, 1521–1545, https://doi.org/10.5194/hess-19-1521-2015, 2015.\n",
    "\n",
    "## Licenses\n",
    "* CC0 - Creative Commons: https://mygeohub.org/publications/8 (Last access: 06 December 2023)\n",
    "\n",
    "## Observations\n",
    "\n",
    "* HID provides the AEI in 8 different products. Here we decided to use the AEI_EARTHSTAT_IR_{} version of available, which was the version used in HydroAtlas (yet only for year 2005) and other studies. "
   ]
  },
  {
   "cell_type": "markdown",
   "id": "395ba82c",
   "metadata": {},
   "source": [
    "# Import modules"
   ]
  },
  {
   "cell_type": "code",
   "execution_count": null,
   "id": "39ad4671",
   "metadata": {},
   "outputs": [],
   "source": [
    "import os\n",
    "import numpy as np\n",
    "import pandas as pd\n",
    "import geopandas as gpd\n",
    "import tqdm\n",
    "import glob\n",
    "import rasterio\n",
    "from rasterio.mask import geometry_mask\n",
    "from rasterio.warp import calculate_default_transform"
   ]
  },
  {
   "cell_type": "markdown",
   "id": "10f5a4e8",
   "metadata": {},
   "source": [
    "# Configurations"
   ]
  },
  {
   "cell_type": "code",
   "execution_count": null,
   "id": "3a4d9e44",
   "metadata": {},
   "outputs": [],
   "source": [
    "# Only editable variables:\n",
    "# Relative path to your local directory\n",
    "PATH = \"../../..\""
   ]
  },
  {
   "cell_type": "markdown",
   "id": "95e94f4a",
   "metadata": {},
   "source": [
    "* #### The users should NOT change anything in the code below here.\n"
   ]
  },
  {
   "cell_type": "code",
   "execution_count": null,
   "id": "909eaa78",
   "metadata": {},
   "outputs": [],
   "source": [
    "# Non-editable variables:\n",
    "PATH_OUTPUT = \"results/timeseries/irrigation/\"\n",
    "\n",
    "# Set the directory:\n",
    "os.chdir(PATH)"
   ]
  },
  {
   "cell_type": "markdown",
   "id": "896190fa",
   "metadata": {},
   "source": [
    "# Import data\n",
    "## Catchment boundaries"
   ]
  },
  {
   "cell_type": "code",
   "execution_count": null,
   "id": "409ab7a8",
   "metadata": {},
   "outputs": [],
   "source": [
    "catchment_boundaries = gpd.read_file('data/shapefiles/estreams_catchments.shp')\n",
    "catchment_boundaries.head()"
   ]
  },
  {
   "cell_type": "code",
   "execution_count": null,
   "id": "563a4b52",
   "metadata": {},
   "outputs": [],
   "source": [
    "print(\"The total number of catchments to be processed are:\", len(catchment_boundaries))"
   ]
  },
  {
   "cell_type": "markdown",
   "id": "5fd5f048",
   "metadata": {},
   "source": [
    "## AEI files"
   ]
  },
  {
   "cell_type": "code",
   "execution_count": null,
   "id": "a56a6fd3",
   "metadata": {},
   "outputs": [],
   "source": [
    "filenames =['data/irrigation/AEI_EARTHSTAT_IR_1900.asc',\n",
    "            'data/irrigation/AEI_EARTHSTAT_IR_1910.asc',\n",
    "            'data/irrigation/AEI_EARTHSTAT_IR_1920.asc',\n",
    "            'data/irrigation/AEI_EARTHSTAT_IR_1930.asc',\n",
    "            'data/irrigation/AEI_EARTHSTAT_IR_1940.asc',\n",
    "            'data/irrigation/AEI_EARTHSTAT_IR_1950.asc',\n",
    "            'data/irrigation/AEI_EARTHSTAT_IR_1960.asc',\n",
    "            'data/irrigation/AEI_EARTHSTAT_IR_1970.asc',\n",
    "            'data/irrigation/AEI_EARTHSTAT_IR_1980.asc',\n",
    "            'data/irrigation/AEI_EARTHSTAT_IR_1985.asc',\n",
    "            'data/irrigation/AEI_EARTHSTAT_IR_1990.asc',\n",
    "            'data/irrigation/AEI_EARTHSTAT_IR_1995.asc',\n",
    "            'data/irrigation/AEI_EARTHSTAT_IR_2000.asc',\n",
    "            'data/irrigation/AEI_EARTHSTAT_IR_2005.asc']"
   ]
  },
  {
   "cell_type": "markdown",
   "id": "ebaca8b8",
   "metadata": {},
   "source": [
    "## Computation processes"
   ]
  },
  {
   "cell_type": "code",
   "execution_count": null,
   "id": "8be055d6",
   "metadata": {},
   "outputs": [],
   "source": [
    "# Initialize an empty DataFrame to store the results\n",
    "irrigation_attributes_df = pd.DataFrame()\n",
    "\n",
    "prefix_values = [\"1900\", \"1910\", \"1920\", \"1930\", \"1940\",\n",
    "                \"1950\", \"1960\", \"1970\", \"1980\", \"1985\", \n",
    "                 \"1990\", \"1995\", \"2000\", \"2005\"]\n",
    "\n",
    "# Define the CRS for EPSG:4326 (WGS 84) (same as the boundaries shapefile)\n",
    "crs = 'EPSG:4326'\n",
    "\n",
    "i = 0\n",
    "\n",
    "for filename in filenames:\n",
    "    \n",
    "    # Open the ASC file to read metadata\n",
    "    with rasterio.open(filename) as src:\n",
    "        # Reproject the data to WGS84\n",
    "        transform, width, height = calculate_default_transform(\n",
    "            src.crs, crs, src.width, src.height, *src.bounds)\n",
    "\n",
    "        kwargs = src.meta.copy()\n",
    "        kwargs.update({\n",
    "            'crs': crs,\n",
    "            'transform': transform,\n",
    "            'width': width,\n",
    "            'height': height\n",
    "        })\n",
    "\n",
    "        # Create an empty list to store the sum\n",
    "        mean_values = []\n",
    "\n",
    "        for idx, geom in tqdm.tqdm(catchment_boundaries.iterrows()):\n",
    "            # Check if the geometry is empty or invalid\n",
    "            if geom['geometry'] is None or geom['geometry'].is_empty or not geom['geometry'].is_valid:\n",
    "                avg_value = np.nan\n",
    "            else:\n",
    "                # Create a mask for the geometry\n",
    "                mask = geometry_mask([geom['geometry']], out_shape=(height, width), transform=transform, invert=True)\n",
    "\n",
    "                # Read the values within the geometry from the raster\n",
    "                data = src.read(1, masked=True)\n",
    "                values = data[mask]\n",
    "\n",
    "            # Calculate statistics only if there are valid values in the 'values' array\n",
    "            if len(values) > 0:\n",
    "                \n",
    "                avg_value = np.sum(values)\n",
    "            else:\n",
    "                # Handle the case when there are no valid values (e.g., by setting them to NaN or a specific value)\n",
    "                avg_value = np.nan\n",
    "                \n",
    "            # Append the mean value to the list\n",
    "            mean_values.append(avg_value)\n",
    "\n",
    "            \n",
    "    # Create a DataFrame to store the results for this file\n",
    "    col_name = prefix_values[i]\n",
    "    data = {\n",
    "        'basin_id': catchment_boundaries['basin_id'],\n",
    "        col_name: mean_values,\n",
    "    }\n",
    "    results_df = pd.DataFrame(data)\n",
    "    results_df.set_index(\"basin_id\", inplace=True)\n",
    "    #results_df = results_df.add_prefix(prefix_values[i])\n",
    "\n",
    "    # Concatenate the results with the final DataFrame\n",
    "    irrigation_attributes_df = pd.concat([irrigation_attributes_df, results_df], axis=1)\n",
    "    i = i + 1\n",
    "    \n",
    "irrigation_attributes_df = irrigation_attributes_df.T*0.01"
   ]
  },
  {
   "cell_type": "code",
   "execution_count": null,
   "id": "b34abaaa",
   "metadata": {},
   "outputs": [],
   "source": [
    "# We set the index's name to date\n",
    "irrigation_attributes_df.index.name = \"date\"\n",
    "irrigation_attributes_df"
   ]
  },
  {
   "cell_type": "code",
   "execution_count": null,
   "id": "16474f8b",
   "metadata": {},
   "outputs": [],
   "source": [
    "# Here we sort the columns:\n",
    "irrigation_attributes_df = irrigation_attributes_df.sort_index(axis=1)\n",
    "irrigation_attributes_df"
   ]
  },
  {
   "cell_type": "code",
   "execution_count": null,
   "id": "16fb5489",
   "metadata": {},
   "outputs": [],
   "source": [
    "# Round the data to 3 decimals\n",
    "irrigation_attributes_df = irrigation_attributes_df.astype(float).round(3)\n",
    "irrigation_attributes_df"
   ]
  },
  {
   "cell_type": "markdown",
   "id": "a6e4a240",
   "metadata": {},
   "source": [
    "# Data export"
   ]
  },
  {
   "cell_type": "code",
   "execution_count": null,
   "id": "71b1b5ab",
   "metadata": {},
   "outputs": [],
   "source": [
    "# Export the final dataset:\n",
    "irrigation_attributes_df.to_csv(PATH_OUTPUT+\"estreams_irrigation_yearly.csv\")"
   ]
  },
  {
   "cell_type": "markdown",
   "id": "7d3890db",
   "metadata": {},
   "source": [
    "# End"
   ]
  }
 ],
 "metadata": {
  "kernelspec": {
   "display_name": "Python 3 (ipykernel)",
   "language": "python",
   "name": "python3"
  },
  "language_info": {
   "codemirror_mode": {
    "name": "ipython",
    "version": 3
   },
   "file_extension": ".py",
   "mimetype": "text/x-python",
   "name": "python",
   "nbconvert_exporter": "python",
   "pygments_lexer": "ipython3",
   "version": "3.9.18"
  }
 },
 "nbformat": 4,
 "nbformat_minor": 5
}
