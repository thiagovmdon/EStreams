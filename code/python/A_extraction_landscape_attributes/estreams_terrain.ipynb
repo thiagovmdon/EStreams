{
 "cells": [
  {
   "cell_type": "markdown",
   "id": "b9429523",
   "metadata": {},
   "source": [
    "# Terrain attributes extraction\n",
    "\n",
    "Author: Thiago Nascimento (thiago.nascimento@eawag.ch)\n",
    "\n",
    "This notebook is part of the EStreams publication and was used to extract and aggregate the terrain characteristics from the MERIT dataset.\n",
    "\n",
    "* Note that this code enables not only the replicability of the current database but also the extrapolation to new catchment areas. \n",
    "* Additionally, the user should download and insert the original raw-data in the folder of the same name prior to run this code. \n",
    "* The original third-party data used were not made available in this repository due to redistribution and storage-space reasons.  \n",
    "\n",
    "## Requirements\n",
    "**Python:**\n",
    "\n",
    "* Python>=3.6\n",
    "* Jupyter\n",
    "* geopandas=0.10.2\n",
    "* numpy\n",
    "* os\n",
    "* pandas\n",
    "* tqdm\n",
    "\n",
    "Check the Github repository for an environment.yml (for conda environments) or requirements.txt (pip) file.\n",
    "\n",
    "**Files:**\n",
    "\n",
    "* data/terrain/riv_pfaf_2_MERIT_Hydro_v07_Basins_v01.shp. Available at: https://www.reachhydro.org/home/params/merit-basins (Last access: 23 November 2023)\n",
    "* data/shapefiles/estreams_catchments.shp\n",
    "* data/gee/terrain/EStreams_elevation_attributes_gee.csv. Elevation attributes CSV-file(s) exported from GEE.\n",
    "* data/gee/EStreams_slope_attributes_gee.csv. Slope attributes CSV-file(s) exported from GEE.\n",
    "\n",
    "**Directory:**\n",
    "\n",
    "* Clone the GitHub directory locally\n",
    "* Place any third-data variables in their respective directory.\n",
    "* ONLY update the \"PATH\" variable in the section \"Configurations\", with their relative path to the EStreams directory. \n",
    "\n",
    "## References\n",
    "\n",
    "* Yamazaki, D. et al. A high-accuracy map of global terrain elevations. Geophys Res Lett 44, 5844–5853 (2017).\n",
    "* Yamazaki, D. et al. MERIT Hydro: A High-Resolution Global Hydrography Map Based on Latest Topography Dataset. Water Resour Res 55, 5053–5073 (2019).\n",
    "\n",
    "## License\n",
    "* MERIT: Dual-license - CC-BY-NC 4.0 & ODbL 1.0. http://hydro.iis.u-tokyo.ac.jp/~yamadai/MERIT_DEM/index.html (Last access: 27 November 2023)\n",
    "\n",
    "## Observations\n",
    "* This notebook assumes that the GEE code to export elevation and slope descriptors from the MERIT-dem dataset (EStreams_landscape_attributes_terrain_gee.txt) was run before in the GEE platform and that the output CSV-files are locally available. "
   ]
  },
  {
   "cell_type": "markdown",
   "id": "395ba82c",
   "metadata": {},
   "source": [
    "# Import modules"
   ]
  },
  {
   "cell_type": "code",
   "execution_count": null,
   "id": "026bcd9e",
   "metadata": {},
   "outputs": [],
   "source": [
    "import os\n",
    "import numpy as np\n",
    "import pandas as pd\n",
    "import geopandas as gpd\n",
    "import tqdm as tqdm\n",
    "from utils.terrain import *"
   ]
  },
  {
   "cell_type": "markdown",
   "id": "10f5a4e8",
   "metadata": {},
   "source": [
    "# Configurations"
   ]
  },
  {
   "cell_type": "code",
   "execution_count": null,
   "id": "3a4d9e44",
   "metadata": {},
   "outputs": [],
   "source": [
    "# Only editable variables:\n",
    "# Relative path to your local directory\n",
    "PATH = \"../../..\""
   ]
  },
  {
   "cell_type": "markdown",
   "id": "4dc9635f",
   "metadata": {},
   "source": [
    "* #### The users should NOT change anything in the code below here."
   ]
  },
  {
   "cell_type": "code",
   "execution_count": null,
   "id": "bafbeca3",
   "metadata": {},
   "outputs": [],
   "source": [
    "# Non-editable variables:\n",
    "PATH_OUTPUT = \"results/staticattributes/\"\n",
    "\n",
    "# Set the directory:\n",
    "os.chdir(PATH)"
   ]
  },
  {
   "cell_type": "markdown",
   "id": "896190fa",
   "metadata": {},
   "source": [
    "# Import data\n",
    "## Catchment boundaries"
   ]
  },
  {
   "cell_type": "code",
   "execution_count": null,
   "id": "409ab7a8",
   "metadata": {},
   "outputs": [],
   "source": [
    "catchment_boundaries = gpd.read_file('data/shapefiles/Catchment_Boundaries_HUGR_33new.shp')\n",
    "catchment_boundaries.head()"
   ]
  },
  {
   "cell_type": "code",
   "execution_count": null,
   "id": "0a9a5b3a",
   "metadata": {},
   "outputs": [],
   "source": [
    "print(\"The total number of catchments to be processed are:\", len(catchment_boundaries))"
   ]
  },
  {
   "cell_type": "markdown",
   "id": "7a19c89e",
   "metadata": {},
   "source": [
    "## Merit-Hydro river network"
   ]
  },
  {
   "cell_type": "code",
   "execution_count": null,
   "id": "46efd5e8",
   "metadata": {},
   "outputs": [],
   "source": [
    "river_net_EU_MERIT = gpd.read_file('data/terrain/riv_pfaf_2_MERIT_Hydro_v07_Basins_v01.shp')\n",
    "river_net_EU_MERIT"
   ]
  },
  {
   "cell_type": "markdown",
   "id": "d89b2905",
   "metadata": {},
   "source": [
    "## GEE outputs"
   ]
  },
  {
   "cell_type": "code",
   "execution_count": null,
   "id": "ab08d34a",
   "metadata": {},
   "outputs": [],
   "source": [
    "# Elevation descriptors\n",
    "terrain_atrributes_gee_elevation = pd.read_csv(\"data/gee/terrain/EStreams_elevation_attributes_gee.csv\", index_col=1)\n",
    "terrain_atrributes_gee_elevation.drop([\"system:index\", \".geo\"], axis = 1, inplace = True)\n",
    "terrain_atrributes_gee_elevation.columns = [\"ele_mt_max\", \"ele_mt_mean\", \"ele_mt_min\"]\n",
    "terrain_atrributes_gee_elevation"
   ]
  },
  {
   "cell_type": "code",
   "execution_count": null,
   "id": "3894d55b",
   "metadata": {},
   "outputs": [],
   "source": [
    "# Slope descriptors\n",
    "terrain_atrributes_gee_slope = pd.read_csv(\"data/gee/terrain/EStreams_slope_attributes_gee.csv\", index_col=1)\n",
    "terrain_atrributes_gee_slope.drop([\"system:index\", \".geo\"], axis = 1, inplace = True)\n",
    "terrain_atrributes_gee_slope.columns = [\"flat_area_fra\", \"slp_dg_mean\", \"steep_area_fra\"]\n",
    "terrain_atrributes_gee_slope = terrain_atrributes_gee_slope[[\"slp_dg_mean\", \"flat_area_fra\", \"steep_area_fra\"]]\n",
    "terrain_atrributes_gee_slope"
   ]
  },
  {
   "cell_type": "code",
   "execution_count": null,
   "id": "941fde2e",
   "metadata": {},
   "outputs": [],
   "source": [
    "terrain_atrributes_df = pd.concat([terrain_atrributes_gee_elevation, terrain_atrributes_gee_slope], axis=1)\n",
    "terrain_atrributes_df"
   ]
  },
  {
   "cell_type": "markdown",
   "id": "5aa4429e",
   "metadata": {},
   "source": [
    "# Reproject to projected coordinates system"
   ]
  },
  {
   "cell_type": "code",
   "execution_count": null,
   "id": "7c1f590e",
   "metadata": {},
   "outputs": [],
   "source": [
    "# Here you can check the crs of the datasets:\n",
    "print(\"CRS of catchment_boundaries:\", catchment_boundaries.crs)\n",
    "print(\"CRS of river_net_EU_MERIT:\", river_net_EU_MERIT.crs)"
   ]
  },
  {
   "cell_type": "code",
   "execution_count": null,
   "id": "9b8e674c",
   "metadata": {},
   "outputs": [],
   "source": [
    "# Define the target CRS to ETRS89 LAEA\n",
    "target_crs = 'EPSG:3035'  # ETRS89 LAEA\n",
    "\n",
    "# Reproject the GeoDataFrame to the target CRS\n",
    "catchment_boundaries_reprojected = catchment_boundaries.to_crs(target_crs)\n",
    "river_net_EU_MERIT_reprojected = river_net_EU_MERIT.to_crs(target_crs)"
   ]
  },
  {
   "cell_type": "code",
   "execution_count": null,
   "id": "ae4c6a25",
   "metadata": {},
   "outputs": [],
   "source": [
    "# Here you can check the new crs of the datasets:\n",
    "print(\"CRS of catchment_boundaries:\", catchment_boundaries_reprojected.crs)\n",
    "print(\"CRS of river_net_EU_MERIT:\", river_net_EU_MERIT_reprojected.crs)"
   ]
  },
  {
   "cell_type": "markdown",
   "id": "d19e9cf0",
   "metadata": {},
   "source": [
    "# Compute area in sqm"
   ]
  },
  {
   "cell_type": "code",
   "execution_count": null,
   "id": "8dff97c0",
   "metadata": {},
   "outputs": [],
   "source": [
    "catchment_boundaries_reprojected[\"area_sqm\"] = catchment_boundaries_reprojected.area\n",
    "catchment_boundaries_reprojected.head()"
   ]
  },
  {
   "cell_type": "markdown",
   "id": "ec410ede",
   "metadata": {},
   "source": [
    "# Disssolve niver-network\n"
   ]
  },
  {
   "cell_type": "code",
   "execution_count": null,
   "id": "3cd8e534",
   "metadata": {},
   "outputs": [],
   "source": [
    "river_net_EU_MERIT_dissolved = river_net_EU_MERIT_reprojected.dissolve()"
   ]
  },
  {
   "cell_type": "markdown",
   "id": "949aafef",
   "metadata": {},
   "source": [
    "# River network density"
   ]
  },
  {
   "cell_type": "code",
   "execution_count": null,
   "id": "e0876226",
   "metadata": {},
   "outputs": [],
   "source": [
    "# Create a spatial index for the river network\n",
    "sindex = river_net_EU_MERIT_reprojected.sindex\n",
    "\n",
    "# Initialize a dictionary to store results\n",
    "results = {}\n",
    "\n",
    "# Iterate through each catchment\n",
    "for catchment_id in tqdm.tqdm(catchment_boundaries_reprojected.basin_id):\n",
    "\n",
    "    # Filter the selected catchment\n",
    "    selected_boundary = catchment_boundaries_reprojected[catchment_boundaries_reprojected['id'] == catchment_id]\n",
    "\n",
    "    # Calculate the total length of lines within the selected catchment\n",
    "    total_length = 0\n",
    "    boundary_bounds = selected_boundary.total_bounds\n",
    "    possible_matches_index = list(sindex.intersection(boundary_bounds))\n",
    "    possible_matches = river_net_EU_MERIT_reprojected.iloc[possible_matches_index]\n",
    "    \n",
    "    for index, row in possible_matches.iterrows():\n",
    "        if row['geometry'].intersects(selected_boundary.unary_union):\n",
    "            total_length += row['geometry'].intersection(selected_boundary.unary_union).length\n",
    "\n",
    "    # Store the result in the dictionary\n",
    "    results[catchment_id] = total_length\n",
    "\n",
    "# Convert the dictionary to a DataFrame\n",
    "strm_dens_df = pd.DataFrame(list(results.items()), columns=['basin_id', 'totalnet_length_m'])\n",
    "strm_dens_df.set_index(\"basin_id\", inplace = True)\n",
    "strm_dens_df"
   ]
  },
  {
   "cell_type": "code",
   "execution_count": null,
   "id": "b93174e4",
   "metadata": {},
   "outputs": [],
   "source": [
    "# Convert the dictionary to a DataFrame\n",
    "strm_dens_df = pd.DataFrame(list(results.items()), columns=['basin_id', 'totalnet_length_m'])\n",
    "strm_dens_df.set_index(\"basin_id\", inplace = True)\n",
    "strm_dens_df"
   ]
  },
  {
   "cell_type": "code",
   "execution_count": null,
   "id": "c79f1987",
   "metadata": {},
   "outputs": [],
   "source": [
    "strm_dens_df[\"area\"] = catchment_boundaries_reprojected.set_index(\"basin_id\").area\n",
    "strm_dens_df[\"strm_dens\"] = strm_dens_df[\"totalnet_length_m\"] / strm_dens_df[\"area\"] \n",
    "strm_dens_df"
   ]
  },
  {
   "cell_type": "markdown",
   "id": "eb011ade",
   "metadata": {},
   "source": [
    "# Enlongation ratio"
   ]
  },
  {
   "cell_type": "code",
   "execution_count": null,
   "id": "d7d50d64",
   "metadata": {},
   "outputs": [],
   "source": [
    "# Create a dataframe to process the computation:\n",
    "terrain_atrributes_enlon_ratio = pd.DataFrame()\n",
    "terrain_atrributes_enlon_ratio[\"basin_id\"] = catchment_boundaries_reprojected.basin_id\n",
    "terrain_atrributes_enlon_ratio[\"area\"] = catchment_boundaries_reprojected.area\n",
    "\n",
    "# Assuming gdf is your GeoDataFrame with a Polygon geometry column named 'geometry'\n",
    "terrain_atrributes_enlon_ratio['x_dimns'], terrain_atrributes_enlon_ratio['y_dimns'], terrain_atrributes_enlon_ratio['length']  = calculate_dimensions(catchment_boundaries_reprojected['geometry'])\n",
    "terrain_atrributes_enlon_ratio"
   ]
  },
  {
   "cell_type": "code",
   "execution_count": null,
   "id": "00167ee2",
   "metadata": {},
   "outputs": [],
   "source": [
    "# Enlongation ratio computation:\n",
    "terrain_atrributes_enlon_ratio['elon_ratio'] = terrain_atrributes_enlon_ratio.apply(calculate_elongation_ratio, axis=1)\n",
    "terrain_atrributes_enlon_ratio.set_index(\"basin_id\", inplace = True)\n",
    "terrain_atrributes_enlon_ratio"
   ]
  },
  {
   "cell_type": "markdown",
   "id": "7cc9bf04",
   "metadata": {},
   "source": [
    "# Final aggregation"
   ]
  },
  {
   "cell_type": "code",
   "execution_count": null,
   "id": "320c1230",
   "metadata": {},
   "outputs": [],
   "source": [
    "# First we create an empty table data frame to assing the values to it\n",
    "terrain_df = pd.DataFrame(index = catchment_boundaries_reprojected.basin_id)\n",
    "\n",
    "# Now we proceed with the concatenation:\n",
    "terrain_df = pd.concat([terrain_df, terrain_atrributes_df, terrain_atrributes_enlon_ratio.elon_ratio, \n",
    "                        strm_dens_df.strm_dens], axis=1)\n",
    "\n",
    "terrain_df"
   ]
  },
  {
   "cell_type": "code",
   "execution_count": null,
   "id": "bf6b667b",
   "metadata": {},
   "outputs": [],
   "source": [
    "# Here we sort the columns:\n",
    "terrain_df = terrain_df.sort_index(axis=0)\n",
    "terrain_df"
   ]
  },
  {
   "cell_type": "code",
   "execution_count": null,
   "id": "ccce9e50",
   "metadata": {},
   "outputs": [],
   "source": [
    "# Set the strm_dens to 1000km/km2 (improve units storage)\n",
    "terrain_df.strm_dens = terrain_df.strm_dens*1000"
   ]
  },
  {
   "cell_type": "code",
   "execution_count": null,
   "id": "2a08f0a6",
   "metadata": {},
   "outputs": [],
   "source": [
    "# Assign the \"basin_id\" to the gauges names:\n",
    "terrain_df.index.name = \"basin_id\""
   ]
  },
  {
   "cell_type": "code",
   "execution_count": null,
   "id": "afd62d2d",
   "metadata": {},
   "outputs": [],
   "source": [
    "# Convert from frac to perc:\n",
    "terrain_df.flat_area_fra = terrain_df.flat_area_fra * 100\n",
    "terrain_df.steep_area_fra = terrain_df.steep_area_fra * 100\n",
    "terrain_df"
   ]
  },
  {
   "cell_type": "code",
   "execution_count": null,
   "id": "cbc8c1e6",
   "metadata": {},
   "outputs": [],
   "source": [
    "# Round the data to 3 decimals\n",
    "terrain_df = terrain_df.astype(float).round(3)\n",
    "terrain_df"
   ]
  },
  {
   "cell_type": "markdown",
   "id": "bf33bc05",
   "metadata": {},
   "source": [
    "# Data export"
   ]
  },
  {
   "cell_type": "code",
   "execution_count": null,
   "id": "a4b8a358",
   "metadata": {},
   "outputs": [],
   "source": [
    "# Export the final dataset:\n",
    "terrain_df.to_csv(PATH_OUTPUT+\"estreams_terrain_attributes.csv\")"
   ]
  },
  {
   "cell_type": "markdown",
   "id": "a5704d1e",
   "metadata": {},
   "source": [
    "# End"
   ]
  }
 ],
 "metadata": {
  "kernelspec": {
   "display_name": "Python 3 (ipykernel)",
   "language": "python",
   "name": "python3"
  },
  "language_info": {
   "codemirror_mode": {
    "name": "ipython",
    "version": 3
   },
   "file_extension": ".py",
   "mimetype": "text/x-python",
   "name": "python",
   "nbconvert_exporter": "python",
   "pygments_lexer": "ipython3",
   "version": "3.9.18"
  }
 },
 "nbformat": 4,
 "nbformat_minor": 5
}
