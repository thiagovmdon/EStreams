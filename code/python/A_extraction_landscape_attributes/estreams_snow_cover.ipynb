{
 "cells": [
  {
   "cell_type": "markdown",
   "id": "b9429523",
   "metadata": {},
   "source": [
    "# Snow-cover attributes and time-series extraction\n",
    "\n",
    "Author: Thiago Nascimento (thiago.nascimento@eawag.ch)\n",
    "\n",
    "This notebook is part of the EStreams publication and was used to extract and aggregate the snow-cover time-series from the MODIS dataset.\n",
    "\n",
    "* Note that this code enables not only the replicability of the current database but also the extrapolation to new catchment areas. \n",
    "* Additionally, the user should download and insert the original raw-data in the folder of the same name prior to run this code. \n",
    "* The original third-party data used were not made available in this repository due to redistribution and storage-space reasons.  \n",
    "\n",
    "## Observations\n",
    "* This notebook assumes that the GEE code to export snow-cover mean time-series from the MODIS dataset were run before in the GEE platform and that the output CSV-files are locally available. \n",
    "* It is not possible to export the 15,000 catchments at one single CSV, so there might be many files with the time-series stored separetly. \n",
    "\n",
    "## Requirements\n",
    "**Python:**\n",
    "* Python>=3.6\n",
    "* Jupyter\n",
    "* geopandas=0.10.2\n",
    "* glob\n",
    "* numpy\n",
    "* os\n",
    "* pandas\n",
    "* tqdm\n",
    "\n",
    "Check the Github repository for an environment.yml (for conda environments) or requirements.txt (pip) file.\n",
    "\n",
    "**Files:**\n",
    "* data/shapefiles/estreams_catchments.shp\n",
    "* data/gee/snowcover/EStreams_modis_snow_cover_mean_gee_{}.csv. Snow-cover time-series CSV-file(s) exported from GEE\n",
    "\n",
    "**Directory:**\n",
    "* Clone the GitHub directory locally\n",
    "* Place any third-data variables in their respective directory.\n",
    "* ONLY update the \"PATH\" variable in the section \"Configurations\", with their relative path to the EStreams directory. \n",
    "\n",
    "## References\n",
    "\n",
    "* Hall, D. K., V. V. Salomonson, and G. A. Riggs. 2016. MODIS/Terra Snow Cover Daily L3 Global 500m Grid. Version 6. Boulder, Colorado USA: NASA National Snow and Ice Data Center Distributed Active Archive Center.\n",
    "\n",
    "## Licenses\n",
    "\n",
    "* Snow Cover: Open access: You may download and use photographs, imagery, or text from the NSIDC web site, unless limitations for its use are specifically stated. For more information on usage and citing NSIDC datasets, please visit the [NSIDC 'Use and Copyright' page] (https://nsidc.org/about/data-use-and-copyright).(Last access 27 November 2023) \n",
    "\n",
    "## Observations\n",
    "* This notebook assumes that the GEE code to export snow cover time-series from the MODIS dataset (EStreams_landscape_timeseries_Snow_Cover_gee.txt) was run before in the GEE platform and that the output CSV-files are locally available. "
   ]
  },
  {
   "cell_type": "markdown",
   "id": "395ba82c",
   "metadata": {},
   "source": [
    "# Import modules"
   ]
  },
  {
   "cell_type": "code",
   "execution_count": null,
   "id": "026bcd9e",
   "metadata": {},
   "outputs": [],
   "source": [
    "import os\n",
    "import numpy as np\n",
    "import pandas as pd\n",
    "import geopandas as gpd\n",
    "import tqdm as tqdm\n",
    "import glob"
   ]
  },
  {
   "cell_type": "markdown",
   "id": "10f5a4e8",
   "metadata": {},
   "source": [
    "# Configurations"
   ]
  },
  {
   "cell_type": "code",
   "execution_count": null,
   "id": "3a4d9e44",
   "metadata": {},
   "outputs": [],
   "source": [
    "# Only editable variables:\n",
    "# Relative path to your local directory\n",
    "PATH = \"../../..\""
   ]
  },
  {
   "cell_type": "markdown",
   "id": "7df62a46",
   "metadata": {},
   "source": [
    "* #### The users should NOT change anything in the code below here."
   ]
  },
  {
   "cell_type": "code",
   "execution_count": null,
   "id": "f3c345b1",
   "metadata": {},
   "outputs": [],
   "source": [
    "# Non-editable variables:\n",
    "PATH_OUTPUT_TS = \"results/timeseries/snowcover\"\n",
    "PATH_OUTPUT_ST = \"results/staticattributes\"\n",
    "\n",
    "# Set the directory:\n",
    "os.chdir(PATH)"
   ]
  },
  {
   "cell_type": "markdown",
   "id": "896190fa",
   "metadata": {},
   "source": [
    "# Import data\n",
    "## Catchment boundaries"
   ]
  },
  {
   "cell_type": "code",
   "execution_count": null,
   "id": "409ab7a8",
   "metadata": {},
   "outputs": [],
   "source": [
    "catchment_boundaries = gpd.read_file('data/shapefiles/estreams_catchments.shp')\n",
    "catchment_boundaries"
   ]
  },
  {
   "cell_type": "markdown",
   "id": "d89b2905",
   "metadata": {},
   "source": [
    "## GEE outputs\n",
    "### Snow-cover"
   ]
  },
  {
   "cell_type": "code",
   "execution_count": null,
   "id": "a2a46da3",
   "metadata": {},
   "outputs": [],
   "source": [
    "# Check the files in the subdirectory:\n",
    "filenames = glob.glob(\"data/gee/snowcover/*.csv\")\n",
    "print(\"Number of files:\", len(filenames))\n",
    "print(\"First file:\", filenames[0])"
   ]
  },
  {
   "cell_type": "code",
   "execution_count": null,
   "id": "0cc701d4",
   "metadata": {
    "scrolled": false
   },
   "outputs": [],
   "source": [
    "# First, we create an empty DataFrame for the data with a datetime index:\n",
    "snowcover_df = pd.DataFrame(index=pd.date_range(start='2001-01-01', end='2022-12-31', freq='M'))\n",
    "\n",
    "# Loop for reading and concatenating the data:\n",
    "for file in tqdm.tqdm(filenames):\n",
    "    \n",
    "    # Read the data from the CSV file:\n",
    "    snowcover_file = pd.read_csv(file)\n",
    "    snowcover_file.drop([\"system:index\", \".geo\"], axis=1, inplace=True)\n",
    "    snowcover_file = snowcover_file.T\n",
    "    \n",
    "    # Set columns based on the \"basin_id\" row and drop it\n",
    "    snowcover_file.columns = snowcover_file.loc[\"basin_id\", :].tolist()\n",
    "    snowcover_file.drop([\"basin_id\"], axis=0, inplace=True)\n",
    "    \n",
    "    # Convert the index to integers and sort it\n",
    "    snowcover_file.index = snowcover_file.index.astype(int)\n",
    "    snowcover_file.sort_index(inplace=True)\n",
    "    \n",
    "    # Create a new DataFrame with datetime index and assign values\n",
    "    snowcover_file_df = pd.DataFrame(columns=snowcover_file.columns)\n",
    "    snowcover_file_df[\"dates\"] = pd.date_range(start='2001-01-01', end='2022-12-31', freq='M')\n",
    "    snowcover_file_df.loc[:, snowcover_file.columns] = snowcover_file\n",
    "    snowcover_file_df.set_index(\"dates\", inplace=True)\n",
    "    snowcover_file_df.index.name = \"\"\n",
    "    \n",
    "    # Concatenate the DataFrames along the columns (axis=1)\n",
    "    snowcover_df = pd.concat([snowcover_df, snowcover_file_df], axis=1)\n",
    "    \n",
    "snowcover_df"
   ]
  },
  {
   "cell_type": "code",
   "execution_count": null,
   "id": "786fd922",
   "metadata": {},
   "outputs": [],
   "source": [
    "# Here we add the columns of the catchemnts that were not processed\n",
    "# Adding new columns with NaN values only if they don't exist\n",
    "for col in catchment_boundaries.basin_id.tolist():\n",
    "    if col not in snowcover_df.columns:\n",
    "        snowcover_df[col] = np.nan\n",
    "snowcover_df"
   ]
  },
  {
   "cell_type": "code",
   "execution_count": null,
   "id": "1b38fa5d",
   "metadata": {},
   "outputs": [],
   "source": [
    "# Here we sort the columns:\n",
    "snowcover_df = snowcover_df.sort_index(axis=1)\n",
    "\n",
    "snowcover_df"
   ]
  },
  {
   "cell_type": "code",
   "execution_count": null,
   "id": "9891aee3",
   "metadata": {},
   "outputs": [],
   "source": [
    "# Resample to yearly mean\n",
    "snowcover_yr = snowcover_df.resample('Y').mean()\n",
    "\n",
    "snowcover_yr"
   ]
  },
  {
   "cell_type": "code",
   "execution_count": null,
   "id": "43c88646",
   "metadata": {},
   "outputs": [],
   "source": [
    "# Calculate the mean for each month across all years (monht of the year)\n",
    "snowcover_moy = snowcover_df.groupby(snowcover_df.index.month).mean()\n",
    "\n",
    "# Rename the index to the three-letter month abbreviations\n",
    "snowcover_moy.index = pd.to_datetime(snowcover_moy.index, format='%m').strftime('%b')\n",
    "\n",
    "snowcover_moy"
   ]
  },
  {
   "cell_type": "markdown",
   "id": "fb8834d0",
   "metadata": {},
   "source": [
    "# Final aggregation (static attributes)"
   ]
  },
  {
   "cell_type": "code",
   "execution_count": null,
   "id": "28761ceb",
   "metadata": {},
   "outputs": [],
   "source": [
    "# Snow cover:\n",
    "snowcover_moy_T = snowcover_moy.T\n",
    "snowcover_moy_T.columns = pd.to_datetime(snowcover_moy_T.columns, format='%b').strftime('%m')\n",
    "snowcover_moy_T.columns = \"sno_cov_\" + snowcover_moy_T.columns\n",
    "snowcover_moy_T[\"sno_cov_mean\"] = snowcover_moy_T.mean(axis = 1)\n",
    "snowcover_moy_T"
   ]
  },
  {
   "cell_type": "code",
   "execution_count": null,
   "id": "bf64af0c",
   "metadata": {},
   "outputs": [],
   "source": [
    "# Assign the \"basin_id\" to the gauges names:\n",
    "snowcover_moy_T.index.name = \"basin_id\""
   ]
  },
  {
   "cell_type": "code",
   "execution_count": null,
   "id": "62b8d7e4",
   "metadata": {},
   "outputs": [],
   "source": [
    "# Assign the \"date\" as the index name of the df:\n",
    "snowcover_yr.index.name = \"date\"\n",
    "snowcover_df.index.name = \"date\""
   ]
  },
  {
   "cell_type": "code",
   "execution_count": null,
   "id": "ec32a435",
   "metadata": {},
   "outputs": [],
   "source": [
    "# Round the data to 3 decimals\n",
    "snowcover_df = snowcover_df.astype(float).round(3)\n",
    "snowcover_yr = snowcover_yr.astype(float).round(3)\n",
    "snowcover_moy_T = snowcover_moy_T.astype(float).round(3)"
   ]
  },
  {
   "cell_type": "markdown",
   "id": "bf33bc05",
   "metadata": {},
   "source": [
    "# Data export"
   ]
  },
  {
   "cell_type": "code",
   "execution_count": null,
   "id": "a4b8a358",
   "metadata": {},
   "outputs": [],
   "source": [
    "# Export the final datasets:\n",
    "# Time-series:\n",
    "snowcover_df.to_csv(PATH_OUTPUT_TS+\"/estreams_snowcover_monhtly.csv\")\n",
    "snowcover_yr.to_csv(PATH_OUTPUT_TS+\"/estreams_snowcover_yearly.csv\")\n",
    "\n",
    "# Static attributes:\n",
    "snowcover_moy_T.to_csv(PATH_OUTPUT_ST+\"/estreams_snowcover_attributes.csv\")"
   ]
  },
  {
   "cell_type": "markdown",
   "id": "a5704d1e",
   "metadata": {},
   "source": [
    "# End"
   ]
  }
 ],
 "metadata": {
  "kernelspec": {
   "display_name": "Python 3 (ipykernel)",
   "language": "python",
   "name": "python3"
  },
  "language_info": {
   "codemirror_mode": {
    "name": "ipython",
    "version": 3
   },
   "file_extension": ".py",
   "mimetype": "text/x-python",
   "name": "python",
   "nbconvert_exporter": "python",
   "pygments_lexer": "ipython3",
   "version": "3.10.13"
  }
 },
 "nbformat": 4,
 "nbformat_minor": 5
}
